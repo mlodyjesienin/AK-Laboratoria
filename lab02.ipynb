{
 "cells": [
  {
   "cell_type": "markdown",
   "id": "ba11eaa4",
   "metadata": {},
   "source": [
    "# Algebra Komputerowa \n",
    "## Laboratorium 01 - Algorytmy Modularne "
   ]
  },
  {
   "cell_type": "code",
   "execution_count": 1,
   "id": "8cbd3acc",
   "metadata": {},
   "outputs": [
    {
     "name": "stdout",
     "output_type": "stream",
     "text": [
      "\r"
     ]
    }
   ],
   "source": [
    "using Oscar\n",
    "using Random\n",
    "using Test"
   ]
  },
  {
   "cell_type": "markdown",
   "id": "848dac91",
   "metadata": {},
   "source": [
    "# Rozwiązywanie układów kongruencji - Chińskie Twierdzenie o Resztach  \n",
    "## Metoda Lagrange'a\n",
    "\n",
    "Zaimplementuj rozwiązywanie układów kongruencji funkcję `congruence_system_lagrange(a,m)`, która przyjmuje parametry:  \n",
    "1) `a` – tablica reszt modulo (dowolne liczby całkowite)  \n",
    "2) `m` – tablica rozważanych modulo (parami względnie pierwsze liczby)\n",
    "\n",
    "Funkcja powinna zwracać wartość $x$, taką, że $x \\equiv a[i] \\pmod{m_i}$.\n",
    "\n",
    "Postaraj się, żeby funkcja działała dla liczb całkowitych, jak i dla wielomianów nad ciałem z paczki `Oscar.jl`\n",
    "\n",
    "Przydatne funkcje: \n",
    "1) `gcdx(a,b)` - zwraca nwd oraz współczynniki Bezouta.\n",
    "2) `div(a,b)` - zwraca dokładny iloraz liczb całkowitych. \n",
    "3) `mod(a,b)` - zwraca resztę z dzielnia $a$ przez $b$.\n",
    "4) `prod(T)` - zwraca iloczyn elementów tablicy T. "
   ]
  },
  {
   "cell_type": "code",
   "execution_count": null,
   "id": "f0634c64",
   "metadata": {},
   "outputs": [
    {
     "data": {
      "text/plain": [
       "congruence_system_lagrange (generic function with 1 method)"
      ]
     },
     "metadata": {},
     "output_type": "display_data"
    }
   ],
   "source": [
    "function congruence_system_lagrange(a,m)\n",
    "     \n",
    "end"
   ]
  },
  {
   "cell_type": "markdown",
   "id": "3b3d5eb0",
   "metadata": {},
   "source": [
    "## Metoda Przyrostowa Newtona\n",
    "\n",
    "Zaimplementuj algorytm przyrostowy Newtona. W tym celu najpierw zaimplementuj funkcję pomocniczą `congruence_two(a,m)`, która ma rozwiązywać układ dwóch kongruencji.\n",
    "Paremetry:\n",
    "1) `a` - dwuelementowa tablica spodziewanych reszt. \n",
    "2) `m` - dwuelementowa tablica (względnie pierwszych) rozważanych modulo."
   ]
  },
  {
   "cell_type": "code",
   "execution_count": null,
   "id": "2a9bea8f",
   "metadata": {},
   "outputs": [
    {
     "data": {
      "text/plain": [
       "congruence_two (generic function with 1 method)"
      ]
     },
     "metadata": {},
     "output_type": "display_data"
    }
   ],
   "source": [
    "function congruence_two()\n",
    "    \n",
    "end"
   ]
  },
  {
   "cell_type": "markdown",
   "id": "17a9c5ae",
   "metadata": {},
   "source": [
    "Zaimplementuj rozwiązywanie układów kongruencji funkcję `congruence_system_newton(m, a)`. Funkcja powinna korzystać z `congruence_two(m,a)`\n",
    "\n",
    "Parametry, wartości zwracane oraz działanie ma być identyczne z `congruence_system_lagrange(m,a)`."
   ]
  },
  {
   "cell_type": "code",
   "execution_count": null,
   "id": "f34e1f7b",
   "metadata": {},
   "outputs": [
    {
     "data": {
      "text/plain": [
       "congruence_system_newton (generic function with 1 method)"
      ]
     },
     "metadata": {},
     "output_type": "display_data"
    }
   ],
   "source": [
    "function congruence_system_newton(m,a)\n",
    "    \n",
    "end"
   ]
  },
  {
   "cell_type": "markdown",
   "id": "3c730ffe",
   "metadata": {},
   "source": [
    "# Potęgowanie modularne"
   ]
  },
  {
   "cell_type": "markdown",
   "id": "6eafcc7a",
   "metadata": {},
   "source": [
    "### Podstawowa metoda szybkiego potęgowania modularnego\n",
    "Zaimplementuj funkcje `power_modulo(a,n,m)` która przyjmuje na wejściu liczby całkowitę `a,n,m` i zwraca wartość $a^n \\pmod{m}$. Wykorzystaj do tego szybkie potęgowanie.\n",
    "\n",
    "Przydatne funkcje:\n",
    "1) `digits(n,base)` - zwraca liczbę $n$ w systemie o podstawie $base$"
   ]
  },
  {
   "cell_type": "code",
   "execution_count": null,
   "id": "348b0496",
   "metadata": {},
   "outputs": [
    {
     "data": {
      "text/plain": [
       "power_modulo (generic function with 1 method)"
      ]
     },
     "metadata": {},
     "output_type": "display_data"
    }
   ],
   "source": [
    "function power_modulo(a,n,m)\n",
    "    \n",
    "end"
   ]
  },
  {
   "cell_type": "markdown",
   "id": "f45ed04f",
   "metadata": {},
   "source": [
    "### Funkcja $\\varphi$ Eulera\n",
    "Zaimplementuj funkckję $\\phi(n)$ przyjmującą na wejściu liczbę naturalną $n$ i zwracającą na wyjściu wartość funkcji Eulera $\\varphi(n)$. \n",
    "Przydatne funkcje:\n",
    "1) `factor(n)` - zwraca faktoryzację na czynniki pierwsze liczby $n$. "
   ]
  },
  {
   "cell_type": "code",
   "execution_count": null,
   "id": "b1571ddd",
   "metadata": {},
   "outputs": [
    {
     "data": {
      "text/plain": [
       "ϕ (generic function with 1 method)"
      ]
     },
     "metadata": {},
     "output_type": "display_data"
    }
   ],
   "source": [
    "function ϕ(n) \n",
    "    \n",
    "end"
   ]
  },
  {
   "cell_type": "markdown",
   "id": "b09fe456",
   "metadata": {},
   "source": [
    "### Szybkie Potęgowanie Modulo wykorzystując funkcje $\\varphi$ Eulera.\n",
    "Zaimplementuj funkcje `power_modulo_euler(a,n,m)`, która działa analogicznie do funkcji `power_modulo(n)`, wykorzystując dodatkowo twierdzenie Eulera."
   ]
  },
  {
   "cell_type": "code",
   "execution_count": null,
   "id": "3156b714",
   "metadata": {},
   "outputs": [
    {
     "data": {
      "text/plain": [
       "power_modulo_euler (generic function with 1 method)"
      ]
     },
     "metadata": {},
     "output_type": "display_data"
    }
   ],
   "source": [
    "function power_modulo_euler(a,n,m)\n",
    "    \n",
    "end"
   ]
  },
  {
   "cell_type": "markdown",
   "id": "253e8a1b",
   "metadata": {},
   "source": [
    "# Liczenie wyznacznika Macierzy Całkowitej\n",
    "## Nierówność Hadamarda \n",
    "Zaimplementuj funkcję `hadamard_bounding(M)`, która przyjmuję na wejściu macierz $M$ i zwraca ograniczenie górne (całkowitoliczbowe) na jej wyznacznik."
   ]
  },
  {
   "cell_type": "markdown",
   "id": "69a7a33f",
   "metadata": {},
   "source": [
    "## Nierówność Hadamarda"
   ]
  },
  {
   "cell_type": "code",
   "execution_count": null,
   "id": "7aa7aef1",
   "metadata": {},
   "outputs": [
    {
     "data": {
      "text/plain": [
       "hadamard_bounding (generic function with 1 method)"
      ]
     },
     "metadata": {},
     "output_type": "display_data"
    }
   ],
   "source": [
    "function hadamard_bounding(M)\n",
    "    \n",
    "end"
   ]
  },
  {
   "cell_type": "markdown",
   "id": "efe8b30f",
   "metadata": {},
   "source": [
    "## Sito Eratostenesa \n",
    "Zaimplementuj funckję `sieve_eratosthenes(n)`, która zwraca listę wszystkich liczb pierwszych, nie większych od parametru wejściowego $n$."
   ]
  },
  {
   "cell_type": "code",
   "execution_count": null,
   "id": "d708e8be",
   "metadata": {},
   "outputs": [
    {
     "data": {
      "text/plain": [
       "sieve_eratosthenes (generic function with 1 method)"
      ]
     },
     "metadata": {},
     "output_type": "display_data"
    }
   ],
   "source": [
    "function sieve_eratosthenes(n)\n",
    "    \n",
    "end"
   ]
  },
  {
   "cell_type": "markdown",
   "id": "859d8c40",
   "metadata": {},
   "source": [
    "### Odwrotność elementu w ciele $\\mathbb{Z}_p$ \n",
    "Zaimplementuj funkcje `inverse(a,p)`, która przyjmuje zwraca odwrotność liczby $a$ względem mnożenia w ciele $\\mathbb{Z}_p$."
   ]
  },
  {
   "cell_type": "code",
   "execution_count": null,
   "id": "cae554b2",
   "metadata": {},
   "outputs": [
    {
     "data": {
      "text/plain": [
       "inverse (generic function with 1 method)"
      ]
     },
     "metadata": {},
     "output_type": "display_data"
    }
   ],
   "source": [
    "function inverse(a,p)\n",
    "\n",
    "end"
   ]
  },
  {
   "cell_type": "markdown",
   "id": "d262a185",
   "metadata": {},
   "source": [
    "### Eliminacja Gaussa Modulo p\n",
    "Zaimplementuj funkcję `gauss_modulo(M,n,p)`, która liczy wyznacznik macierzy $M$ o rozmiarze $n \\times n$ modulo $p$."
   ]
  },
  {
   "cell_type": "code",
   "execution_count": null,
   "id": "8bc352f1",
   "metadata": {},
   "outputs": [
    {
     "data": {
      "text/plain": [
       "gauss_modulo (generic function with 1 method)"
      ]
     },
     "metadata": {},
     "output_type": "display_data"
    }
   ],
   "source": [
    "function gauss_modulo(M,n,p)\n",
    "\n",
    "end"
   ]
  },
  {
   "cell_type": "markdown",
   "id": "67acc485",
   "metadata": {},
   "source": [
    "### Liczenie wyznacznika Macierzy Całkowitoliczbowej.\n",
    "Zaimplementuj funkcję `modular_determinant(M)` która liczy wyznacznik macierzy całkowitoliczbowej $M$ wykorzystując obliczenia modulo wiele liczb pierwszych $p$."
   ]
  },
  {
   "cell_type": "code",
   "execution_count": null,
   "id": "d864fb27",
   "metadata": {},
   "outputs": [
    {
     "data": {
      "text/plain": [
       "modular_determinant (generic function with 1 method)"
      ]
     },
     "metadata": {},
     "output_type": "display_data"
    }
   ],
   "source": [
    "function modular_determinant(M)\n",
    "    \n",
    "end"
   ]
  }
 ],
 "metadata": {
  "kernelspec": {
   "display_name": "Julia 1.11.5",
   "language": "julia",
   "name": "julia-1.11"
  },
  "language_info": {
   "file_extension": ".jl",
   "mimetype": "application/julia",
   "name": "julia",
   "version": "1.11.5"
  }
 },
 "nbformat": 4,
 "nbformat_minor": 5
}
