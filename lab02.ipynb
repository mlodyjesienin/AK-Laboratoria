{
 "cells": [
  {
   "cell_type": "markdown",
   "id": "ba11eaa4",
   "metadata": {},
   "source": [
    "# Algebra Komputerowa \n",
    "## Laboratorium 01 - Algorytmy Modularne "
   ]
  },
  {
   "cell_type": "code",
   "execution_count": 1,
   "id": "8cbd3acc",
   "metadata": {},
   "outputs": [
    {
     "name": "stdout",
     "output_type": "stream",
     "text": [
      "\r"
     ]
    }
   ],
   "source": [
    "using Oscar\n",
    "using Random\n",
    "using StatsBase\n",
    "using Test\n",
    "using Primes"
   ]
  },
  {
   "cell_type": "code",
   "execution_count": 2,
   "id": "1accbf50",
   "metadata": {},
   "outputs": [
    {
     "data": {
      "text/plain": [
       "factor (generic function with 83 methods)"
      ]
     },
     "metadata": {},
     "output_type": "display_data"
    }
   ],
   "source": [
    "factor = Oscar.factor"
   ]
  },
  {
   "cell_type": "code",
   "execution_count": 3,
   "id": "11a278cb",
   "metadata": {},
   "outputs": [
    {
     "data": {
      "text/plain": [
       "78498-element Vector{BigInt}:\n",
       "      2\n",
       "      3\n",
       "      5\n",
       "      7\n",
       "     11\n",
       "     13\n",
       "     17\n",
       "     19\n",
       "     23\n",
       "     29\n",
       "      ⋮\n",
       " 999883\n",
       " 999907\n",
       " 999917\n",
       " 999931\n",
       " 999953\n",
       " 999959\n",
       " 999961\n",
       " 999979\n",
       " 999983"
      ]
     },
     "metadata": {},
     "output_type": "display_data"
    }
   ],
   "source": [
    "import Primes.primes as primes \n",
    "PRIMES = BigInt.(primes(1,1000000))"
   ]
  },
  {
   "cell_type": "markdown",
   "id": "848dac91",
   "metadata": {},
   "source": [
    "# Rozwiązywanie układów kongruencji - Chińskie Twierdzenie o Resztach  \n",
    "## Metoda Lagrange'a\n",
    "\n",
    "Zaimplementuj rozwiązywanie układów kongruencji funkcję `congruence_system_lagrange(a,m)`, która przyjmuje parametry:  \n",
    "1) `a` – tablica reszt modulo (dowolne liczby całkowite)  \n",
    "2) `m` – tablica rozważanych modulo (parami względnie pierwsze liczby)\n",
    "\n",
    "Funkcja powinna zwracać wartość $x$, taką, że $x \\equiv a[i] \\pmod{m_i}$.\n",
    "\n",
    "Postaraj się, żeby funkcja działała dla liczb całkowitych, jak i dla wielomianów nad ciałem z paczki `Oscar.jl`\n",
    "\n",
    "Przydatne funkcje: \n",
    "1) `gcdx(a,b)` - zwraca nwd oraz współczynniki Bezouta.\n",
    "2) `div(a,b)` - zwraca dokładny iloraz liczb całkowitych. \n",
    "3) `mod(a,b)` - zwraca resztę z dzielnia $a$ przez $b$.\n",
    "4) `prod(T)` - zwraca iloczyn elementów tablicy T. "
   ]
  },
  {
   "cell_type": "code",
   "execution_count": 4,
   "id": "f0634c64",
   "metadata": {},
   "outputs": [
    {
     "data": {
      "text/plain": [
       "congruence_system_lagrange (generic function with 1 method)"
      ]
     },
     "metadata": {},
     "output_type": "display_data"
    }
   ],
   "source": [
    "function congruence_system_lagrange(a,m)\n",
    "    k = length(m)     \n",
    "    #a = mod.(a, m)\n",
    "    δ = fill(zero(m[1]),k,k)\n",
    "    for i=1:k\n",
    "        for j=i+1:k\n",
    "            nwd, δ[i,j], δ[j,i] = gcdx(m[i],m[j])\n",
    "            if nwd != 1\n",
    "                return \"error nwd\"\n",
    "            end\n",
    "        end\n",
    "    end\n",
    "    M = prod(m)\n",
    "    A = []\n",
    "    for i=1:k\n",
    "        Δ = prod(δ[j, i] for j in 1:size(δ, 1) if j != i)\n",
    "        x = div(M,m[i]) \n",
    "        push!(A,Δ*x)\n",
    "    end\n",
    "    return mod(sum(a .* A),M)  \n",
    "end"
   ]
  },
  {
   "cell_type": "markdown",
   "id": "cfc39042",
   "metadata": {},
   "source": [
    "### Testy poprawności działania na liczbach całkowitych"
   ]
  },
  {
   "cell_type": "code",
   "execution_count": 5,
   "id": "12c38879",
   "metadata": {},
   "outputs": [
    {
     "data": {
      "text/plain": [
       "check_solution (generic function with 1 method)"
      ]
     },
     "metadata": {},
     "output_type": "display_data"
    }
   ],
   "source": [
    "function check_solution(x, a, m)\n",
    "    return all(i -> mod(x, m[i]) == mod(a[i],m[i]), 1:length(a))\n",
    "end"
   ]
  },
  {
   "cell_type": "code",
   "execution_count": 6,
   "id": "5580fe80",
   "metadata": {},
   "outputs": [
    {
     "data": {
      "text/plain": [
       "random_integer_congruence (generic function with 4 methods)"
      ]
     },
     "metadata": {},
     "output_type": "display_data"
    }
   ],
   "source": [
    "function random_integer_congruence(f=100,g=1000,h=1000)\n",
    "    n = rand(2:f)\n",
    "    m = PRIMES[sample(1:g,n,replace=false)]\n",
    "    a = BigInt.(rand(1:h,n))\n",
    "    return a,m\n",
    "end"
   ]
  },
  {
   "cell_type": "code",
   "execution_count": 7,
   "id": "4c9ab52d",
   "metadata": {},
   "outputs": [
    {
     "data": {
      "text/plain": [
       "test_congruence (generic function with 1 method)"
      ]
     },
     "metadata": {},
     "output_type": "display_data"
    }
   ],
   "source": [
    "function test_congruence(solver)\n",
    "    for i=1:100\n",
    "        a,m = random_integer_congruence()\n",
    "        @assert check_solution(solver(a,m),a,m) \"wrong solution! $a, $m\"\n",
    "    end\n",
    "    println(\"Test passed!\")\n",
    "end"
   ]
  },
  {
   "cell_type": "code",
   "execution_count": 8,
   "id": "3ca5d50a",
   "metadata": {},
   "outputs": [
    {
     "name": "stdout",
     "output_type": "stream",
     "text": [
      "Test passed!\n"
     ]
    }
   ],
   "source": [
    "test_congruence(congruence_system_lagrange)"
   ]
  },
  {
   "cell_type": "markdown",
   "id": "3b3d5eb0",
   "metadata": {},
   "source": [
    "## Metoda Przyrostowa Newtona\n",
    "\n",
    "Zaimplementuj algorytm przyrostowy Newtona. W tym celu najpierw zaimplementuj funkcję pomocniczą `congruence_two(a,m)`, która ma rozwiązywać układ dwóch kongruencji.\n",
    "Paremetry:\n",
    "1) `a` - dwuelementowa tablica spodziewanych reszt. \n",
    "2) `m` - dwuelementowa tablica (względnie pierwszych) rozważanych modulo."
   ]
  },
  {
   "cell_type": "code",
   "execution_count": 55,
   "id": "2a9bea8f",
   "metadata": {},
   "outputs": [
    {
     "data": {
      "text/plain": [
       "congruence_two (generic function with 1 method)"
      ]
     },
     "metadata": {},
     "output_type": "display_data"
    }
   ],
   "source": [
    "function congruence_two(a,m)\n",
    "    _, α, β = gcdx(m[1], m[2])\n",
    "    r = mod(a[1],m[1])\n",
    "    b = (a[2] - r)*α \n",
    "    s = mod(b,m[2])\n",
    "    return r + s*m[1]\n",
    "end"
   ]
  },
  {
   "cell_type": "markdown",
   "id": "17a9c5ae",
   "metadata": {},
   "source": [
    "Zaimplementuj rozwiązywanie układów kongruencji funkcję `congruence_system_newton(m, a)`. Funkcja powinna korzystać z `congruence_two(m,a)`\n",
    "\n",
    "Parametry, wartości zwracane oraz działanie ma być identyczne z `congruence_system_lagrange(m,a)`."
   ]
  },
  {
   "cell_type": "code",
   "execution_count": 56,
   "id": "f34e1f7b",
   "metadata": {},
   "outputs": [
    {
     "data": {
      "text/plain": [
       "congruence_system_newton (generic function with 1 method)"
      ]
     },
     "metadata": {},
     "output_type": "display_data"
    }
   ],
   "source": [
    "function congruence_system_newton(a,m)\n",
    "    Ring = parent(m[1])\n",
    "    a = Ring.(a)    \n",
    "    k = length(m)\n",
    "    M = m[1]\n",
    "    A = mod(a[1],m[1])\n",
    "    for i=2:k\n",
    "        b = congruence_two([A, a[i]],[M,m[i]])\n",
    "        A = b \n",
    "        M *= m[i] \n",
    "    end\n",
    "    return A \n",
    "end"
   ]
  },
  {
   "cell_type": "markdown",
   "id": "65afa44a",
   "metadata": {},
   "source": [
    "### Testy poprawności działania na liczbach całkowitych"
   ]
  },
  {
   "cell_type": "code",
   "execution_count": 57,
   "id": "31c45506",
   "metadata": {},
   "outputs": [
    {
     "name": "stdout",
     "output_type": "stream",
     "text": [
      "Test passed!\n"
     ]
    }
   ],
   "source": [
    "test_congruence(congruence_system_newton)"
   ]
  },
  {
   "cell_type": "markdown",
   "id": "8c3ede05",
   "metadata": {},
   "source": [
    "### Testy wydajnościowe\n",
    "Porównajmy czasy działania obu metod - zobaczmy, które wypada lepiej."
   ]
  },
  {
   "cell_type": "code",
   "execution_count": 58,
   "id": "9c24d61a",
   "metadata": {},
   "outputs": [
    {
     "data": {
      "text/plain": [
       "solve_all (generic function with 1 method)"
      ]
     },
     "metadata": {},
     "output_type": "display_data"
    }
   ],
   "source": [
    "function solve_all(solver,data)\n",
    "    for (a,m) in data \n",
    "        solver(a,m)\n",
    "    end\n",
    "end"
   ]
  },
  {
   "cell_type": "code",
   "execution_count": 59,
   "id": "d5b21539",
   "metadata": {},
   "outputs": [
    {
     "name": "stdout",
     "output_type": "stream",
     "text": [
      " 10.800604 seconds (102.98 M allocations: 2.995 GiB, 22.98% gc time, 0.09% compilation time)\n",
      "  0.680118 seconds (7.36 M allocations: 238.255 MiB, 28.33% gc time, 1.32% compilation time)\n"
     ]
    }
   ],
   "source": [
    "n = 5000\n",
    "data = [random_integer_congruence() for i=1:n]\n",
    "@time solve_all(congruence_system_lagrange,data)\n",
    "@time solve_all(congruence_system_newton,data)  "
   ]
  },
  {
   "cell_type": "markdown",
   "id": "cabc3d6a",
   "metadata": {},
   "source": [
    "### Testy porównujące maksymalne liczby kongruencji \n",
    "Wadą metody Lagrange'a jest też szybki wzrost współczynników $A$. Zobaczmy, że metoda Newtona radzi sobie z 20 kongruencjami, podczas gdy metoda Lagrange'a zwraca zły wynik -  z powodu Integer Overflow"
   ]
  },
  {
   "cell_type": "markdown",
   "id": "3fa5fe17",
   "metadata": {},
   "source": [
    "Oczywiście wszystko ma swoją granicę, np. dla 25 kongruencji Newton również zwraca błąd."
   ]
  },
  {
   "cell_type": "code",
   "execution_count": 22,
   "id": "33e42f26",
   "metadata": {},
   "outputs": [
    {
     "data": {
      "text/plain": [
       "true"
      ]
     },
     "metadata": {},
     "output_type": "display_data"
    }
   ],
   "source": [
    "n = 250\n",
    "m = PRIMES[sample(1:5000,n,replace=false)]\n",
    "a = rand(1:10000,n)\n",
    "newton = congruence_system_newton(a,m)\n",
    "check_solution(newton,a,m)"
   ]
  },
  {
   "cell_type": "markdown",
   "id": "b32dd3b6",
   "metadata": {},
   "source": [
    "Oczywiście, trzeba wiedzieć i pamiętać, że liczba kongruencji to nie jedyna rzecz, z którą możemy przesadzić. Dobierając nawet mało, ale ogromnych liczb pierwszych, szybko okaże się, że wyniki wychodzą błędne. Dodatkowo, skrajne wartości, które tu wskazuje - zostały zaczerpnięte z moich eksperymentów. Być może w innych implementacjach, wyniki mogą być lekko inne."
   ]
  },
  {
   "cell_type": "markdown",
   "id": "0ce731b4",
   "metadata": {},
   "source": [
    "### Prostsza implementacja rozwiązywania dwóch kongruencji.\n",
    "\n",
    "Rozważmy układ dwóch kongruencji $x \\equiv a \\pmod{m_1} \\land x \\equiv b \\pmod{m_2}$. \n",
    "\n",
    "Zakładamy, że $m_1,m_2$ są względnie pierwsze - zatem można wyliczyć współczynniki Bezouta: \n",
    "$$ \\alpha m_1  + \\beta m_2 = 1. $$\n",
    "\n",
    "Zauważmy teraz, że rozwiązaniem układu kongruencji jest po prostu: \n",
    "$$ \\alpha m_1 b + \\beta m_2 a$$\n",
    "Dlaczego jednak w algorytmie na prezentacji, proponowana była inna implementacja? Chodzi o wielkość pojawiających się czynników. \n",
    "\n",
    "Podmieńmy implementacje `congruence_two(a,m)` na taką uproszczoną:"
   ]
  },
  {
   "cell_type": "code",
   "execution_count": 60,
   "id": "bb75e1c9",
   "metadata": {},
   "outputs": [
    {
     "data": {
      "text/plain": [
       "congruence_two_v2 (generic function with 1 method)"
      ]
     },
     "metadata": {},
     "output_type": "display_data"
    }
   ],
   "source": [
    "function congruence_two_v2(a,m)\n",
    "    _, α, β = gcdx(m[1], m[2])\n",
    "    return mod(α*m[1]*a[2] + β*m[2]*a[1], m[1]*m[2])\n",
    "end"
   ]
  },
  {
   "cell_type": "code",
   "execution_count": 61,
   "id": "5700f1e4",
   "metadata": {},
   "outputs": [
    {
     "data": {
      "text/plain": [
       "congruence_system_newton_v2 (generic function with 1 method)"
      ]
     },
     "metadata": {},
     "output_type": "display_data"
    }
   ],
   "source": [
    "function congruence_system_newton_v2(a,m)\n",
    "    Ring = parent(m[1])\n",
    "    a = Ring.(a)    \n",
    "    k = length(m)\n",
    "    M = m[1]\n",
    "    A = mod(a[1],m[1])\n",
    "    for i=2:k\n",
    "        b = congruence_two_v2([A, a[i]],[M,m[i]])\n",
    "        A = b \n",
    "        M *= m[i] \n",
    "    end\n",
    "    return A \n",
    "end"
   ]
  },
  {
   "cell_type": "markdown",
   "id": "69acfa31",
   "metadata": {},
   "source": [
    "Spróbujmy teraz kilkukrotnie odpalić testy - okaże się, że czasem przechodzą, czasem nie."
   ]
  },
  {
   "cell_type": "code",
   "execution_count": 62,
   "id": "da56e5b0",
   "metadata": {},
   "outputs": [
    {
     "name": "stdout",
     "output_type": "stream",
     "text": [
      "  7.592501 seconds (73.46 M allocations: 2.320 GiB, 31.13% gc time)\n",
      "  7.978415 seconds (73.67 M allocations: 2.560 GiB, 20.76% gc time, 1.00% compilation time)\n"
     ]
    }
   ],
   "source": [
    "n = 50000\n",
    "data = [random_integer_congruence() for i=1:n]\n",
    "@time solve_all(congruence_system_newton,data)\n",
    "@time solve_all(congruence_system_newton_v2,data)  "
   ]
  },
  {
   "cell_type": "markdown",
   "id": "5a4a32cc",
   "metadata": {},
   "source": [
    "### Testy poprawności działania na wielomianach jednej zmiennej nad ciałem $\\mathbb{Q}$.\n",
    "\n",
    "Dobrze zaimplementowany kod, powinien działać nie tylko dla liczb całkowitych, ale i dla innych pierścieni Euklidesowych - w szczególności wielomianów jednej zmiennej nad ciałem.\n",
    "W celu przetestowania tego, skorzystamy z paczki `Oscar.jl` z poprzednich laboratoriów.\n",
    "\n",
    "Nie będziemy tego testować na bardzo ogólnych przypadkach - ograniczymy się do testowania sytuacji, gdy rozważane wielomiany modularne $m_i$ są postaci $x - p_i$ dla pewnego $p_i$. Wtedy rozważane reszty $a_i$ są stopnia zerowego (znaczy są po prostu liczbami).\n",
    "\n",
    "W takiej sytuacji, problem znalezienia wielomianu $f$, takiego, że $f \\equiv a_i \\pmod{m_i}$ dla każdego $i$, można równoważnie zapisać jako:\n",
    "$$ \\forall i \\quad  f(p_i) = a_i $$\n",
    "czyli jest to interpolacja wielomianu."
   ]
  },
  {
   "cell_type": "code",
   "execution_count": 25,
   "id": "60b18cf5",
   "metadata": {},
   "outputs": [
    {
     "data": {
      "text/plain": [
       "(Univariate polynomial ring in x over QQ, x)"
      ]
     },
     "metadata": {},
     "output_type": "display_data"
    }
   ],
   "source": [
    "R, x = QQ[:x]"
   ]
  },
  {
   "cell_type": "code",
   "execution_count": 40,
   "id": "4be4c0f9",
   "metadata": {},
   "outputs": [
    {
     "data": {
      "text/plain": [
       "random_polynomial_congruence (generic function with 1 method)"
      ]
     },
     "metadata": {},
     "output_type": "display_data"
    }
   ],
   "source": [
    "function random_polynomial_congruence()\n",
    "    n = 100\n",
    "    a = rand(1:1000,n) \n",
    "    x_coords =  sample(1:1000,n,replace=false) \n",
    "    m = [x - x_coords[i] for i=1:n]\n",
    "    return a,m\n",
    "end"
   ]
  },
  {
   "cell_type": "code",
   "execution_count": 41,
   "id": "8d0bb762",
   "metadata": {},
   "outputs": [
    {
     "data": {
      "text/plain": [
       "check_solution_polynomial (generic function with 1 method)"
      ]
     },
     "metadata": {},
     "output_type": "display_data"
    }
   ],
   "source": [
    "function check_solution_polynomial(f,a,m)\n",
    "    k = length(m)\n",
    "    x_cord = [-m[i](0) for i=1:k]\n",
    "    return all(i -> f(x_cord[i]) == a[i], 1:k) \n",
    "end"
   ]
  },
  {
   "cell_type": "code",
   "execution_count": 42,
   "id": "214fc930",
   "metadata": {},
   "outputs": [
    {
     "data": {
      "text/plain": [
       "test_congruence_polynomial (generic function with 1 method)"
      ]
     },
     "metadata": {},
     "output_type": "display_data"
    }
   ],
   "source": [
    "function test_congruence_polynomial(solver)\n",
    "    for i=1:100\n",
    "        a,m = random_polynomial_congruence()\n",
    "        @assert check_solution_polynomial(solver(a,m),a,m) \"wrong solution! $a, $m\"\n",
    "    end\n",
    "    println(\"Test passed!\")\n",
    "end"
   ]
  },
  {
   "cell_type": "code",
   "execution_count": 43,
   "id": "98ba98f5",
   "metadata": {},
   "outputs": [
    {
     "name": "stdout",
     "output_type": "stream",
     "text": [
      "Test passed!\n"
     ]
    }
   ],
   "source": [
    "test_congruence_polynomial(congruence_system_lagrange)"
   ]
  },
  {
   "cell_type": "code",
   "execution_count": 64,
   "id": "d8c88dfe",
   "metadata": {},
   "outputs": [
    {
     "name": "stdout",
     "output_type": "stream",
     "text": [
      "Test passed!\n"
     ]
    }
   ],
   "source": [
    "test_congruence_polynomial(congruence_system_newton_v2)"
   ]
  },
  {
   "cell_type": "markdown",
   "id": "3c730ffe",
   "metadata": {},
   "source": [
    "# Potęgowanie modularne"
   ]
  },
  {
   "cell_type": "markdown",
   "id": "6eafcc7a",
   "metadata": {},
   "source": [
    "### Podstawowa metoda szybkiego potęgowania modularnego\n",
    "Zaimplementuj funkcje `power_modulo(a,n,m)` która przyjmuje na wejściu liczby całkowitę `a,n,m` i zwraca wartość $a^n \\pmod{m}$. Wykorzystaj do tego szybkie potęgowanie.\n",
    "\n",
    "Przydatne funkcje:\n",
    "1) `digits(n,base)` - zwraca liczbę $n$ w systemie o podstawie $base$"
   ]
  },
  {
   "cell_type": "code",
   "execution_count": 65,
   "id": "348b0496",
   "metadata": {},
   "outputs": [
    {
     "data": {
      "text/plain": [
       "power_modulo (generic function with 1 method)"
      ]
     },
     "metadata": {},
     "output_type": "display_data"
    }
   ],
   "source": [
    "function power_modulo(a,n,m)\n",
    "    d = digits(n,base=2)\n",
    "    k = length(d)\n",
    "    r = 1\n",
    "    b = mod(a,m)\n",
    "    for i=1:k\n",
    "        if(d[i]==1)\n",
    "            r = mod(r*b,m)\n",
    "        end \n",
    "        b = mod(b^2,m)\n",
    "    end\n",
    "    return r \n",
    "end"
   ]
  },
  {
   "cell_type": "code",
   "execution_count": 66,
   "id": "7719e8c1",
   "metadata": {},
   "outputs": [
    {
     "data": {
      "text/plain": [
       "9"
      ]
     },
     "metadata": {},
     "output_type": "display_data"
    }
   ],
   "source": [
    "power_modulo(49,19,11)"
   ]
  },
  {
   "cell_type": "markdown",
   "id": "bf6fbdab",
   "metadata": {},
   "source": [
    "### Testy poprawności działania potęgowania modularnego"
   ]
  },
  {
   "cell_type": "code",
   "execution_count": 73,
   "id": "b578e5f3",
   "metadata": {},
   "outputs": [
    {
     "data": {
      "text/plain": [
       "test_power_modulo (generic function with 1 method)"
      ]
     },
     "metadata": {},
     "output_type": "display_data"
    }
   ],
   "source": [
    "function test_power_modulo()\n",
    "    for i=1:100\n",
    "        a = rand(BigInt(1):BigInt(1_000_000))\n",
    "        n = rand(BigInt(1):BigInt(1_000_000))\n",
    "        m = rand(BigInt(1):BigInt(1_000_000))\n",
    "        @assert power_modulo(a,n,m) == powermod(a,n,m) \"error for a=$a, n=$n, m=$m\"\n",
    "    end\n",
    "    println(\"test passed!\")\n",
    "end"
   ]
  },
  {
   "cell_type": "code",
   "execution_count": 74,
   "id": "75b8e38c",
   "metadata": {},
   "outputs": [
    {
     "name": "stdout",
     "output_type": "stream",
     "text": [
      "test passed!\n"
     ]
    }
   ],
   "source": [
    "test_power_modulo()"
   ]
  },
  {
   "cell_type": "markdown",
   "id": "f45ed04f",
   "metadata": {},
   "source": [
    "### Funkcja $\\varphi$ Eulera\n",
    "Zaimplementuj funkckję $\\phi(n)$ przyjmującą na wejściu liczbę naturalną $n$ i zwracającą na wyjściu wartość funkcji Eulera $\\varphi(n)$. \n",
    "Przydatne funkcje:\n",
    "1) `factor(n)` - zwraca faktoryzację na czynniki pierwsze liczby $n$. \n",
    "Uwaga - w Paczcze `Oscar` i `Primes` osobno zdefinowane funkcje `factor()`. Żeby ominąć niejednoznaczności można pisać `Oscar.factor()` lub `Primes.factor()`. Nie ma to szczególnego znaczenia, ale jak testowałem dla bardzo dużych liczb, to `Oscar.factor` wypada lekko szybciej. \n",
    "Możemy też zapisać po prostu:"
   ]
  },
  {
   "cell_type": "code",
   "execution_count": 75,
   "id": "0600f33a",
   "metadata": {},
   "outputs": [
    {
     "data": {
      "text/plain": [
       "factor (generic function with 83 methods)"
      ]
     },
     "metadata": {},
     "output_type": "display_data"
    }
   ],
   "source": [
    "factor = Oscar.factor "
   ]
  },
  {
   "cell_type": "code",
   "execution_count": 76,
   "id": "b1571ddd",
   "metadata": {},
   "outputs": [
    {
     "data": {
      "text/plain": [
       "ϕ (generic function with 1 method)"
      ]
     },
     "metadata": {},
     "output_type": "display_data"
    }
   ],
   "source": [
    "function ϕ(n) \n",
    "    res = 1\n",
    "    for (p, α) in factor(n)\n",
    "        res*=(p^α - p^(α -1))\n",
    "    end\n",
    "    return res \n",
    "end"
   ]
  },
  {
   "cell_type": "markdown",
   "id": "0db3d181",
   "metadata": {},
   "source": [
    "### Testy poprawności działania"
   ]
  },
  {
   "cell_type": "code",
   "execution_count": 77,
   "id": "3922d7f2",
   "metadata": {},
   "outputs": [
    {
     "data": {
      "text/plain": [
       "test_phi_func (generic function with 1 method)"
      ]
     },
     "metadata": {},
     "output_type": "display_data"
    }
   ],
   "source": [
    "function test_phi_func()\n",
    "    for i=1:1000\n",
    "        n = rand(1:10^6)\n",
    "        @assert ϕ(n) == totient(n)\n",
    "    end\n",
    "    println(\"Test passed!\")\n",
    "end"
   ]
  },
  {
   "cell_type": "code",
   "execution_count": 78,
   "id": "ffb61c8e",
   "metadata": {},
   "outputs": [
    {
     "name": "stdout",
     "output_type": "stream",
     "text": [
      "Test passed!\n"
     ]
    }
   ],
   "source": [
    "test_phi_func()"
   ]
  },
  {
   "cell_type": "markdown",
   "id": "b09fe456",
   "metadata": {},
   "source": [
    "### Szybkie Potęgowanie Modulo wykorzystując funkcje $\\varphi$ Eulera.\n",
    "Zaimplementuj funkcje `power_modulo_euler(a,n,m)`, która działa analogicznie do funkcji `power_modulo(n)`, wykorzystując dodatkowo twierdzenie Eulera."
   ]
  },
  {
   "cell_type": "code",
   "execution_count": 81,
   "id": "3156b714",
   "metadata": {},
   "outputs": [
    {
     "data": {
      "text/plain": [
       "power_modulo_euler (generic function with 1 method)"
      ]
     },
     "metadata": {},
     "output_type": "display_data"
    }
   ],
   "source": [
    "function power_modulo_euler(a,n,m)\n",
    "    d = gcd(a,m)\n",
    "    p = 1 \n",
    "    if(d>1)\n",
    "        a = div(a,d)\n",
    "        p = power_modulo(d,n,m)\n",
    "    end\n",
    "    n = mod(n, ϕ(m))\n",
    "    return mod(p*power_modulo(a,n,m),m)\n",
    "end"
   ]
  },
  {
   "cell_type": "markdown",
   "id": "761a6058",
   "metadata": {},
   "source": [
    "### Testy poprawności działania"
   ]
  },
  {
   "cell_type": "code",
   "execution_count": 82,
   "id": "bc2c05aa",
   "metadata": {},
   "outputs": [
    {
     "data": {
      "text/plain": [
       "test_power_modulo_euler (generic function with 1 method)"
      ]
     },
     "metadata": {},
     "output_type": "display_data"
    }
   ],
   "source": [
    "function test_power_modulo_euler()\n",
    "    for i=1:100\n",
    "        a = rand(1:100000000)\n",
    "        n = rand(1:100000000)\n",
    "        m = rand(1:100000000)\n",
    "        @assert power_modulo_euler(a,n,m) == powermod(a,n,m) \"error for a=$a, n=$n, m=$m\"\n",
    "    end\n",
    "    println(\"test passed!\")\n",
    "end"
   ]
  },
  {
   "cell_type": "code",
   "execution_count": 83,
   "id": "d60984f4",
   "metadata": {},
   "outputs": [
    {
     "name": "stdout",
     "output_type": "stream",
     "text": [
      "test passed!\n"
     ]
    }
   ],
   "source": [
    "test_power_modulo_euler()"
   ]
  },
  {
   "cell_type": "markdown",
   "id": "7ecfd6dd",
   "metadata": {},
   "source": [
    "### Porównanie wydajności - ile \"oszczędza\" nam Twierdzenie Eulera. "
   ]
  },
  {
   "cell_type": "code",
   "execution_count": 84,
   "id": "74c8a677",
   "metadata": {},
   "outputs": [
    {
     "data": {
      "text/plain": [
       "solve_all_power (generic function with 1 method)"
      ]
     },
     "metadata": {},
     "output_type": "display_data"
    }
   ],
   "source": [
    "function solve_all_power(solver, data)\n",
    "    for (a,n,m) in data \n",
    "        solver(a,n,m)\n",
    "    end\n",
    "end"
   ]
  },
  {
   "cell_type": "code",
   "execution_count": 86,
   "id": "60a02ec6",
   "metadata": {},
   "outputs": [
    {
     "name": "stdout",
     "output_type": "stream",
     "text": [
      "  0.971123 seconds (2.00 M allocations: 278.966 MiB, 18.81% gc time)\n",
      "  7.099256 seconds (33.67 M allocations: 1.448 GiB, 7.09% gc time)\n",
      "  0.782453 seconds\n"
     ]
    }
   ],
   "source": [
    "n = 1_000_000\n",
    "data = [[rand(1:10^9), rand(1:10^9), rand(1:10^9)] for j=1:n]\n",
    "@time solve_all_power(power_modulo,data)\n",
    "@time solve_all_power(power_modulo_euler,data)\n",
    "@time solve_all_power(powermod,data)"
   ]
  },
  {
   "cell_type": "markdown",
   "id": "0854d35e",
   "metadata": {},
   "source": [
    "Jak widać.... wyniki sporo poniżej oczekiwań. Liczenie funkcji Eulera jest widocznie na tyle kosztowne, że nie opłaca się tego robić, a przynajmniej nie w ten sposób. Istnieją inne metody wyznaczania jej, ale nie wiadomo, czy wciąż się to opłaca. \n",
    "\n",
    "Co ciekawe natknąłem sie na taki post na [forum Julii](https://discourse.julialang.org/t/optimizing-powermod/115936)\n",
    "można znaleźć tam taką implementację funkcji:"
   ]
  },
  {
   "cell_type": "code",
   "execution_count": 87,
   "id": "bd3bc56d",
   "metadata": {},
   "outputs": [
    {
     "data": {
      "text/plain": [
       "my_powermod (generic function with 1 method)"
      ]
     },
     "metadata": {},
     "output_type": "display_data"
    }
   ],
   "source": [
    "function my_powermod(a::Int64, b::Int64, c::Int64)\n",
    "    @assert b >= 0\n",
    "    result = one(Int128)\n",
    "    a_raised_to_powers_of_two = convert(Int128, a)\n",
    "    while b != 0\n",
    "        if isodd(b)\n",
    "            result *= a_raised_to_powers_of_two\n",
    "            result = result % c;\n",
    "        end\n",
    "        b = b >>> 1\n",
    "        a_raised_to_powers_of_two = a_raised_to_powers_of_two^2 % c\n",
    "    end\n",
    "    convert(Int64, result)\n",
    "end"
   ]
  },
  {
   "cell_type": "markdown",
   "id": "254e7c7a",
   "metadata": {},
   "source": [
    "Zauważmy, że jest to implementacja `power_modulo()`. Po prostu, zamiast używać sztucznie `digits()` sprawdzana jest parzystość i na tej podstawie określane są kolejne bity.\n",
    "\n",
    "Interesujące jest to, że ta funkcja jest szybsza niż funkcja wbudowana `powermod`! "
   ]
  },
  {
   "cell_type": "code",
   "execution_count": 88,
   "id": "6320efe6",
   "metadata": {},
   "outputs": [
    {
     "name": "stdout",
     "output_type": "stream",
     "text": [
      "  0.786682 seconds\n",
      "  0.745398 seconds (14.93 k allocations: 761.383 KiB, 4.50% compilation time)\n"
     ]
    }
   ],
   "source": [
    "n = 1_000_000\n",
    "data = [[rand(1:10^9), rand(1:10^9), rand(1:10^9)] for j=1:n]\n",
    "@time solve_all_power(powermod,data)\n",
    "@time solve_all_power(my_powermod,data)"
   ]
  },
  {
   "cell_type": "markdown",
   "id": "253e8a1b",
   "metadata": {},
   "source": [
    "# Liczenie wyznacznika Macierzy całkowitoliczbowej.\n",
    "\n",
    "Rozważmy macierz $M$ o elementach całkowitych. Jej wyznacznik $\\det(M)$ należy również do liczb całkowitych. \n",
    "Klasyczne algorytmy liczenia wyznacznika, wykorzystują dzielenie, przez co implementacja algorytmu liczenia wyznacznika, może nam zwrócić niedokładną wartości z powodu nieprecyzyjnej reprezentacji liczb zmiennoprzecinkowych.\n",
    "\n",
    "### Nie trzeba daleko szukać:"
   ]
  },
  {
   "cell_type": "code",
   "execution_count": 90,
   "id": "4927efff",
   "metadata": {},
   "outputs": [
    {
     "name": "stdout",
     "output_type": "stream",
     "text": [
      "typ elementu macierzy: Int64\n",
      "wyznacznik macierzy: -9.999999999999998\n"
     ]
    }
   ],
   "source": [
    "M = [3 1 -2;\n",
    "     2 -3 -1;\n",
    "    1 3 0]\n",
    "println(\"typ elementu macierzy: $(typeof(M[1,1]))\")\n",
    "println(\"wyznacznik macierzy: $(det(M))\") "
   ]
  },
  {
   "cell_type": "markdown",
   "id": "5e95ee0d",
   "metadata": {},
   "source": [
    "### Wyznacznik tej macierzy, jest równy -10. Mimo to, funkcja biblioteczna zwraca wynik niecałkowity...\n",
    "\n",
    "Można by sobie poradzić z tym na wiele sposobów. Najprostszym pomysłem, jest reprezentacja liczb wymiernych jako ułamki (licznik/mianownik). W ten sposób moglibyśmy uzyskać dokładny wynik, ale działanie na ułamkach w ten sposób jest drogie - mianowniki zwykle bardzo szybko rosną. \n",
    "\n",
    "Sprytniejszym pomysłem jest zastosowanie *chińskiego twierdzenia o resztach*. \n",
    "Jeżeli tylko ograniczymy wartośc wyznacznika, można policzyć wyznacznik modulo wiele liczb pierwszych, a następnie złączyć wyniki modulo małe liczby pierwsze do modulo na tyle dużego - że otrzymamy jednoznaczny wynik."
   ]
  },
  {
   "cell_type": "markdown",
   "id": "f9161d6b",
   "metadata": {},
   "source": [
    "## Nierówność Hadamarda \n",
    "\n",
    "Ograniczenie górne na wartość wyznacznika znane jest jako nierówność Hadamarda. To ją wykorzystamy. \n",
    "\n",
    "Zaimplementuj funkcję `hadamard_bounding(M)`, która przyjmuję na wejściu macierz $M$ i zwraca ograniczenie górne (całkowitoliczbowe) na jej wyznacznik."
   ]
  },
  {
   "cell_type": "code",
   "execution_count": 221,
   "id": "7aa7aef1",
   "metadata": {},
   "outputs": [
    {
     "data": {
      "text/plain": [
       "hadamard_bounding (generic function with 1 method)"
      ]
     },
     "metadata": {},
     "output_type": "display_data"
    }
   ],
   "source": [
    "function hadamard_bounding(M)\n",
    "    entries = collect(M)                    \n",
    "    m = maximum(abs.(entries))             \n",
    "    n = BigInt(size(M, 1))                           \n",
    "    return ceil(typeof(M[1,1]),m^n * n^(n/2))\n",
    "end"
   ]
  },
  {
   "cell_type": "markdown",
   "id": "5af14106",
   "metadata": {},
   "source": [
    "### Testy poprawności działania \n",
    "\n",
    "(na bardzo pojedynczych przykładach)"
   ]
  },
  {
   "cell_type": "code",
   "execution_count": 92,
   "id": "afdf0298",
   "metadata": {},
   "outputs": [
    {
     "data": {
      "text/plain": [
       "test_hadamard (generic function with 1 method)"
      ]
     },
     "metadata": {},
     "output_type": "display_data"
    }
   ],
   "source": [
    "function test_hadamard()\n",
    "    M1 = [3 1 -2; 2 -3 -1;1 3 0]\n",
    "    M2 = reshape(1:16, 4, 4)\n",
    "    M3 = [87  42  73  10; 25  11  99  58; 67  30  14  77; 92  51  60  18 ]\n",
    "    @assert hadamard_bounding(M1) == 141 \"error in M1\"\n",
    "    @assert hadamard_bounding(M2) == 1048576 \"error in M2\"\n",
    "    @assert hadamard_bounding(M3) == 1536953616 \"error in M3\"\n",
    "    println(\"Test passed!\")\n",
    "end"
   ]
  },
  {
   "cell_type": "code",
   "execution_count": 93,
   "id": "5f8cf9b0",
   "metadata": {},
   "outputs": [
    {
     "name": "stdout",
     "output_type": "stream",
     "text": [
      "Test passed!\n"
     ]
    }
   ],
   "source": [
    "test_hadamard()"
   ]
  },
  {
   "cell_type": "markdown",
   "id": "859d8c40",
   "metadata": {},
   "source": [
    "### Odwrotność elementu w ciele $\\mathbb{Z}_p$ \n",
    "Zaimplementuj funkcje `inverse(a,p)`, która przyjmuje zwraca odwrotność liczby $a$ względem mnożenia w ciele $\\mathbb{Z}_p$."
   ]
  },
  {
   "cell_type": "code",
   "execution_count": 94,
   "id": "cae554b2",
   "metadata": {},
   "outputs": [
    {
     "data": {
      "text/plain": [
       "inverse (generic function with 1 method)"
      ]
     },
     "metadata": {},
     "output_type": "display_data"
    }
   ],
   "source": [
    "function inverse(a,p)\n",
    "    return mod(gcdx(a,p)[2],p)\n",
    "end"
   ]
  },
  {
   "cell_type": "markdown",
   "id": "d262a185",
   "metadata": {},
   "source": [
    "### Eliminacja Gaussa Modulo p\n",
    "Zaimplementuj funkcję `gauss_modulo(M,n,p)`, która liczy wyznacznik macierzy $M$ o rozmiarze $n \\times n$ modulo $p$."
   ]
  },
  {
   "cell_type": "code",
   "execution_count": null,
   "id": "8bc352f1",
   "metadata": {},
   "outputs": [
    {
     "data": {
      "text/plain": [
       "gauss_modulo (generic function with 1 method)"
      ]
     },
     "metadata": {},
     "output_type": "display_data"
    }
   ],
   "source": [
    "function gauss_modulo(M,n,p)\n",
    "    A = copy(M)\n",
    "    A = mod.(A,p)\n",
    "    det = BigInt(1) \n",
    "\n",
    "    for k in 1:n-1\n",
    "        max_row = k\n",
    "        max_val = abs(A[k, k])\n",
    "        \n",
    "        for i in k+1:n\n",
    "            if abs(A[i, k]) > max_val\n",
    "                max_val = abs(A[i, k])\n",
    "                max_row = i\n",
    "            end\n",
    "        end\n",
    "        \n",
    "        if max_row != k\n",
    "            A[[k, max_row], :] = A[[max_row, k], :]\n",
    "            det *=(-1)\n",
    "        end\n",
    "        \n",
    "        if A[k, k] == 0\n",
    "            return 0 \n",
    "        end\n",
    "        \n",
    "        \n",
    "        for i in k+1:n\n",
    "            factor = mod(A[i, k] *inverse(A[k, k],p),p)\n",
    "            A[i, k:end] = mod.(A[i, k:end] - factor * A[k, k:end],p)\n",
    "        end\n",
    "    end\n",
    "    \n",
    "    for i in 1:n\n",
    "        det = mod(det*A[i, i],p)\n",
    "    end\n",
    "    \n",
    "    return det\n",
    "end"
   ]
  },
  {
   "cell_type": "code",
   "execution_count": 98,
   "id": "a89331c9",
   "metadata": {},
   "outputs": [
    {
     "data": {
      "text/plain": [
       "4"
      ]
     },
     "metadata": {},
     "output_type": "display_data"
    }
   ],
   "source": [
    "gauss_modulo(M,3,7)"
   ]
  },
  {
   "cell_type": "markdown",
   "id": "67acc485",
   "metadata": {},
   "source": [
    "### Liczenie wyznacznika Macierzy Całkowitoliczbowej.\n",
    "Zaimplementuj funkcję `modular_determinant(M)` która liczy wyznacznik macierzy całkowitoliczbowej $M$ wykorzystując obliczenia modulo wiele liczb pierwszych $p$."
   ]
  },
  {
   "cell_type": "code",
   "execution_count": 166,
   "id": "82436bbc",
   "metadata": {},
   "outputs": [
    {
     "data": {
      "text/plain": [
       "get_primes (generic function with 1 method)"
      ]
     },
     "metadata": {},
     "output_type": "display_data"
    }
   ],
   "source": [
    "function get_primes(BOUND)\n",
    "    P = 1\n",
    "    i = 0\n",
    "    while P <= BOUND\n",
    "        i+=1\n",
    "        P*=PRIMES[i]\n",
    "    end\n",
    "    return PRIMES[1:i],P\n",
    "end"
   ]
  },
  {
   "cell_type": "code",
   "execution_count": 251,
   "id": "d864fb27",
   "metadata": {},
   "outputs": [
    {
     "data": {
      "text/plain": [
       "modular_determinant (generic function with 1 method)"
      ]
     },
     "metadata": {},
     "output_type": "display_data"
    }
   ],
   "source": [
    "function modular_determinant(M)\n",
    "    n = size(M,1)\n",
    "    \n",
    "    BOUND = 2*hadamard_bounding(M)\n",
    "    used_primes,P = get_primes(BOUND)\n",
    "    d = BigInt[]\n",
    "    for p in used_primes\n",
    "        push!(d, gauss_modulo(M,n,p))\n",
    "    end\n",
    "    det =  congruence_system_lagrange(d,used_primes)\n",
    "    if det > P/2\n",
    "        det-=P \n",
    "    end \n",
    "    return det\n",
    "end"
   ]
  },
  {
   "cell_type": "code",
   "execution_count": 168,
   "id": "bb929768",
   "metadata": {},
   "outputs": [
    {
     "data": {
      "text/plain": [
       "3×3 Matrix{Int64}:\n",
       " 3   1  -2\n",
       " 2  -3  -1\n",
       " 1   3   0"
      ]
     },
     "metadata": {},
     "output_type": "display_data"
    }
   ],
   "source": [
    "M2 = A"
   ]
  },
  {
   "cell_type": "code",
   "execution_count": 169,
   "id": "697c8ba4",
   "metadata": {},
   "outputs": [
    {
     "data": {
      "text/html": [
       "-10"
      ],
      "text/latex": [
       "-10"
      ],
      "text/plain": [
       "-10"
      ]
     },
     "metadata": {},
     "output_type": "display_data"
    }
   ],
   "source": [
    "det(M2)\n",
    "M3 = matrix(ZZ,M2)\n",
    "det(M3)"
   ]
  },
  {
   "cell_type": "code",
   "execution_count": 171,
   "id": "45779687",
   "metadata": {},
   "outputs": [
    {
     "data": {
      "text/plain": [
       "-10"
      ]
     },
     "metadata": {},
     "output_type": "display_data"
    }
   ],
   "source": [
    "modular_determinant(M2)"
   ]
  },
  {
   "cell_type": "markdown",
   "id": "fe3f5993",
   "metadata": {},
   "source": [
    "### Testy poprawności działania"
   ]
  },
  {
   "cell_type": "code",
   "execution_count": 172,
   "id": "edf41af2",
   "metadata": {},
   "outputs": [
    {
     "data": {
      "text/plain": [
       "test_modulo_determinant (generic function with 1 method)"
      ]
     },
     "metadata": {},
     "output_type": "display_data"
    }
   ],
   "source": [
    "function test_modulo_determinant()\n",
    "    for i=1:100\n",
    "        n = rand(1:15)\n",
    "        M = rand(BigInt(-10):BigInt(10),n,n)\n",
    "        x = modular_determinant(M)\n",
    "        y = det(M) \n",
    "        #y = det(matrix(ZZ,M)) \n",
    "        @assert isapprox(x,y) \"$x, $y\"\n",
    "    end\n",
    "    println(\"Test passed!\")\n",
    "end"
   ]
  },
  {
   "cell_type": "code",
   "execution_count": 173,
   "id": "044315d9",
   "metadata": {},
   "outputs": [
    {
     "name": "stdout",
     "output_type": "stream",
     "text": [
      "Test passed!\n"
     ]
    }
   ],
   "source": [
    "test_modulo_determinant()"
   ]
  },
  {
   "cell_type": "markdown",
   "id": "bbaed1ea",
   "metadata": {},
   "source": [
    "### Testy wydajności"
   ]
  },
  {
   "cell_type": "code",
   "execution_count": 179,
   "id": "2debcbb8",
   "metadata": {},
   "outputs": [
    {
     "data": {
      "text/plain": [
       "gauss_determinant (generic function with 1 method)"
      ]
     },
     "metadata": {},
     "output_type": "display_data"
    }
   ],
   "source": [
    "function gauss_determinant(M)\n",
    "    n = size(M,1)\n",
    "    A = Rational{BigInt}.(copy(M))\n",
    "    det = 1.0  \n",
    "\n",
    "    for k in 1:n-1\n",
    "        # Pivot selection for numerical stability\n",
    "        max_row = k\n",
    "        max_val = abs(A[k, k])\n",
    "        for i in k+1:n\n",
    "            if abs(A[i, k]) > max_val\n",
    "                max_val = abs(A[i, k])\n",
    "                max_row = i\n",
    "            end\n",
    "        end\n",
    "\n",
    "        # Swap rows if needed\n",
    "        if max_row != k\n",
    "            A[[k, max_row], :] = A[[max_row, k], :]\n",
    "            det *= -1\n",
    "        end\n",
    "\n",
    "        # If pivot is zero, determinant is zero\n",
    "        if A[k, k] == 0\n",
    "            return 0.0\n",
    "        end\n",
    "\n",
    "        # Eliminate below pivot\n",
    "        for i in k+1:n\n",
    "            factor = A[i, k] / A[k, k]\n",
    "            A[i, k:end] .-= factor * A[k, k:end]\n",
    "        end\n",
    "    end\n",
    "\n",
    "    # Multiply diagonal entries\n",
    "    for i in 1:n\n",
    "        det *= A[i, i]\n",
    "    end\n",
    "\n",
    "    return det\n",
    "end\n"
   ]
  },
  {
   "cell_type": "code",
   "execution_count": 180,
   "id": "00b1cb4f",
   "metadata": {},
   "outputs": [
    {
     "data": {
      "text/plain": [
       "-10.0"
      ]
     },
     "metadata": {},
     "output_type": "display_data"
    }
   ],
   "source": [
    "gauss_determinant(M2)"
   ]
  },
  {
   "cell_type": "code",
   "execution_count": 239,
   "id": "034f7d3f",
   "metadata": {},
   "outputs": [
    {
     "data": {
      "text/plain": [
       "random_matrix (generic function with 1 method)"
      ]
     },
     "metadata": {},
     "output_type": "display_data"
    }
   ],
   "source": [
    "function random_matrix()\n",
    "    n = rand(10:20)\n",
    "    M = rand(BigInt(-200):BigInt(200),n,n)\n",
    "    return M   \n",
    "end"
   ]
  },
  {
   "cell_type": "code",
   "execution_count": 243,
   "id": "e35b06a8",
   "metadata": {},
   "outputs": [
    {
     "ename": "InexactError",
     "evalue": "InexactError: Int64(66914519259363915502150)",
     "output_type": "error",
     "traceback": [
      "InexactError: Int64(66914519259363915502150)\n",
      "\n",
      "Stacktrace:\n",
      " [1] Type\n",
      "   @ ./gmp.jl:379 [inlined]\n",
      " [2] convert\n",
      "   @ ./number.jl:7 [inlined]\n",
      " [3] push!(a::Vector{Int64}, item::BigInt)\n",
      "   @ Base ./array.jl:1260\n",
      " [4] modular_determinant(M::Matrix{BigInt})\n",
      "   @ Main ~/Desktop/git-repos/AK-Laboratoria/jl_notebook_cell_df34fa98e69747e1a8f8a730347b8e2f_Y141sZmlsZQ==.jl:8\n",
      " [5] macro expansion\n",
      "   @ ./timing.jl:581 [inlined]\n",
      " [6] top-level scope\n",
      "   @ ~/Desktop/git-repos/AK-Laboratoria/jl_notebook_cell_df34fa98e69747e1a8f8a730347b8e2f_Y163sZmlsZQ==.jl:2"
     ]
    }
   ],
   "source": [
    "M = random_matrix()\n",
    "@time  a = modular_determinant(M)\n",
    "#@time  b = gauss_determinant(M)\n",
    "#@assert isapprox(a,b) "
   ]
  },
  {
   "cell_type": "code",
   "execution_count": 224,
   "id": "749d9d55",
   "metadata": {},
   "outputs": [
    {
     "data": {
      "text/plain": [
       "198"
      ]
     },
     "metadata": {},
     "output_type": "display_data"
    }
   ],
   "source": [
    "size(M,1)"
   ]
  },
  {
   "cell_type": "code",
   "execution_count": 223,
   "id": "105cae54",
   "metadata": {},
   "outputs": [
    {
     "name": "stdout",
     "output_type": "stream",
     "text": [
      "  4.683324 seconds (28.09 M allocations: 1.505 GiB, 18.57% gc time)\n"
     ]
    },
    {
     "data": {
      "text/plain": [
       "223768933078465267887612978145925892603670041692206583280341743916792491172255013790246452410843252342163723432268015218001226439670605789845821783874598929042333349223790450351354093601677509336740440866222313043837617939012054178573641797349198883963103102152903550284809078129906219233290378334810433930023087068233592784918758177901009564517826225539366434642450284148113290666780575950683107411494320600170372870085870907777241220483426232147990192230268787569459722292199316105723570171834408741509650873562746728662479526788419934265769829104333152254361032789188506747822325077877890902"
      ]
     },
     "metadata": {},
     "output_type": "display_data"
    }
   ],
   "source": [
    "@time det(M)"
   ]
  },
  {
   "cell_type": "code",
   "execution_count": 191,
   "id": "1200d370",
   "metadata": {},
   "outputs": [
    {
     "data": {
      "text/plain": [
       "-3.180147892668926040680504836112473011273447338626626356531665901647737317327968e+250"
      ]
     },
     "metadata": {},
     "output_type": "display_data"
    }
   ],
   "source": [
    "size(M,1)\n",
    "M\n",
    "a \n",
    "b"
   ]
  },
  {
   "cell_type": "code",
   "execution_count": 37,
   "id": "4b71a0e0",
   "metadata": {},
   "outputs": [
    {
     "data": {
      "text/plain": [
       "gauss_finite_field (generic function with 1 method)"
      ]
     },
     "metadata": {},
     "output_type": "display_data"
    }
   ],
   "source": [
    "function gauss_finite_field(A)\n",
    "    n = size(A, 1)\n",
    "    F = base_ring(A)\n",
    "    p = characteristic(F)\n",
    "    det = one(F)\n",
    "    swaps = 0\n",
    "    \n",
    "    for k in 1:n-1\n",
    "        pivot_row = k\n",
    "        while pivot_row ≤ n && iszero(A[pivot_row, k])\n",
    "            pivot_row += 1\n",
    "        end\n",
    "        \n",
    "        if pivot_row > n\n",
    "            return zero(F)\n",
    "        end\n",
    "        \n",
    "        if pivot_row != k\n",
    "            A[[k, pivot_row], :] = A[[pivot_row, k], :]\n",
    "            swaps += 1\n",
    "        end\n",
    "        \n",
    "        pivot = A[k, k]\n",
    "        for i in k+1:n\n",
    "            factor = A[i, k] * inv(pivot)\n",
    "            for j in k:n\n",
    "                A[i, j] = A[i, j] - factor * A[k, j]\n",
    "            end\n",
    "        end\n",
    "    end\n",
    "    \n",
    "    for i in 1:n\n",
    "        det *= A[i, i]\n",
    "    end\n",
    "    \n",
    "    if isodd(swaps)\n",
    "        det = -det\n",
    "    end\n",
    "    \n",
    "    return det\n",
    "end"
   ]
  },
  {
   "cell_type": "code",
   "execution_count": 41,
   "id": "f50703f5",
   "metadata": {},
   "outputs": [
    {
     "data": {
      "text/plain": [
       "modular_determinant_finite_field (generic function with 1 method)"
      ]
     },
     "metadata": {},
     "output_type": "display_data"
    }
   ],
   "source": [
    "function modular_determinant_finite_field(M)\n",
    "    n = size(M,1)\n",
    "    BOUND = 2*hadamard_bounding(M)\n",
    "    println(\"bound $BOUND\")\n",
    "    P = 1\n",
    "    i = 0\n",
    "    while P <= BOUND\n",
    "        i+=1\n",
    "        P*=PRIMES[i]\n",
    "    end\n",
    "    used_primes =PRIMES[1:i]\n",
    "    println(\"big P $P\")\n",
    "    println(\"miau $used_primes\")\n",
    "    d = []\n",
    "    for p in used_primes\n",
    "        A = matrix(GF(p),M)\n",
    "        push!(d, gauss_finite_field(A))\n",
    "    end\n",
    "    println(\"dets $d\")\n",
    "    d =[lift(ZZ,x) for x in d]\n",
    "    det =  congruence_system_lagrange(used_primes,d)\n",
    "    print(\"wow $d\")\n",
    "    if det > P/2\n",
    "        det-=P \n",
    "    end \n",
    "    return det\n",
    "end"
   ]
  },
  {
   "cell_type": "code",
   "execution_count": 42,
   "id": "88a43bc4",
   "metadata": {},
   "outputs": [
    {
     "data": {
      "text/plain": [
       "3×3 Matrix{Int64}:\n",
       " 3   1  -2\n",
       " 2  -3  -1\n",
       " 1   3   0"
      ]
     },
     "metadata": {},
     "output_type": "display_data"
    }
   ],
   "source": [
    "M2"
   ]
  },
  {
   "cell_type": "code",
   "execution_count": 43,
   "id": "c58db441",
   "metadata": {},
   "outputs": [
    {
     "name": "stdout",
     "output_type": "stream",
     "text": [
      "bound 282\n",
      "big P 2310\n",
      "miau [2, 3, 5, 7, 11]\n",
      "dets Any[0, 2, 0, 4, 1]\n",
      "wow ZZRingElem[0, 2, 0, 4, 1]"
     ]
    },
    {
     "data": {
      "text/html": [
       "-10"
      ],
      "text/latex": [
       "-10"
      ],
      "text/plain": [
       "-10"
      ]
     },
     "metadata": {},
     "output_type": "display_data"
    }
   ],
   "source": [
    "modular_determinant_finite_field(M2)"
   ]
  },
  {
   "cell_type": "code",
   "execution_count": 161,
   "id": "a70d512f",
   "metadata": {},
   "outputs": [
    {
     "data": {
      "text/plain": [
       "3×3 Matrix{Int64}:\n",
       " 3   1  -2\n",
       " 2  -3  -1\n",
       " 1   3   0"
      ]
     },
     "metadata": {},
     "output_type": "display_data"
    }
   ],
   "source": [
    "A = [3   1  -2;\n",
    " 2  -3  -1;\n",
    " 1   3   0;]"
   ]
  },
  {
   "cell_type": "code",
   "execution_count": null,
   "id": "e8f6c6f4",
   "metadata": {},
   "outputs": [],
   "source": [
    "F = GF(7)\n",
    "M = matrix(F, [2 -1 0; -1 2 -1; 0 -1 2])\n",
    "M2 = deepcopy(M)\n",
    "\n",
    "deter = gauss_elimination_det_GF(M2)\n",
    "println(\"The determinant is: \", deter, \" real\", det(M))"
   ]
  },
  {
   "cell_type": "code",
   "execution_count": 193,
   "id": "bddf1189",
   "metadata": {},
   "outputs": [
    {
     "data": {
      "text/plain": [
       "2"
      ]
     },
     "metadata": {},
     "output_type": "display_data"
    }
   ],
   "source": [
    "BigInt(nextprime(2^63))"
   ]
  },
  {
   "cell_type": "code",
   "execution_count": 205,
   "id": "d1210ee2",
   "metadata": {},
   "outputs": [
    {
     "data": {
      "text/plain": [
       "9223372036854775837"
      ]
     },
     "metadata": {},
     "output_type": "display_data"
    }
   ],
   "source": [
    "p = nextprime(BigInt(2)^63)\n",
    "result = BigInt(p)"
   ]
  },
  {
   "cell_type": "code",
   "execution_count": 237,
   "id": "f4bdbba2",
   "metadata": {},
   "outputs": [
    {
     "data": {
      "text/plain": [
       "get_big_primes (generic function with 1 method)"
      ]
     },
     "metadata": {},
     "output_type": "display_data"
    }
   ],
   "source": [
    "function get_big_primes(k)\n",
    "    BIGPRIMES = BigInt[]\n",
    "    p = nextprime(BigInt(2)^100)\n",
    "    for i=1:k \n",
    "        push!(BIGPRIMES,p)\n",
    "        p = nextprime(p+1)\n",
    "    end \n",
    "    return BIGPRIMES\n",
    "end"
   ]
  },
  {
   "cell_type": "code",
   "execution_count": 238,
   "id": "1555a7d0",
   "metadata": {},
   "outputs": [
    {
     "data": {
      "text/plain": [
       "1000-element Vector{BigInt}:\n",
       " 1267650600228229401496703205653\n",
       " 1267650600228229401496703205707\n",
       " 1267650600228229401496703205823\n",
       " 1267650600228229401496703205901\n",
       " 1267650600228229401496703205953\n",
       " 1267650600228229401496703206003\n",
       " 1267650600228229401496703206019\n",
       " 1267650600228229401496703206187\n",
       " 1267650600228229401496703206273\n",
       " 1267650600228229401496703206297\n",
       "                               ⋮\n",
       " 1267650600228229401496703273521\n",
       " 1267650600228229401496703273549\n",
       " 1267650600228229401496703273713\n",
       " 1267650600228229401496703273929\n",
       " 1267650600228229401496703273933\n",
       " 1267650600228229401496703273941\n",
       " 1267650600228229401496703274017\n",
       " 1267650600228229401496703274083\n",
       " 1267650600228229401496703274119"
      ]
     },
     "metadata": {},
     "output_type": "display_data"
    }
   ],
   "source": [
    "BIGPRIMES = get_big_primes(1000)"
   ]
  },
  {
   "cell_type": "code",
   "execution_count": 211,
   "id": "d2a1053c",
   "metadata": {},
   "outputs": [
    {
     "data": {
      "text/plain": [
       "get_primes (generic function with 1 method)"
      ]
     },
     "metadata": {},
     "output_type": "display_data"
    }
   ],
   "source": [
    "function get_primes(BOUND)\n",
    "    P = 1\n",
    "    i = 0\n",
    "    while P <= BOUND\n",
    "        i+=1\n",
    "        P*= BIGPRIMES[i]\n",
    "    end\n",
    "    return BIGPRIMES[1:i],P\n",
    "end"
   ]
  },
  {
   "cell_type": "code",
   "execution_count": 226,
   "id": "2f896529",
   "metadata": {},
   "outputs": [
    {
     "data": {
      "text/plain": [
       "1809251394333065553493296640760748560207343510400633813116524750123642650649"
      ]
     },
     "metadata": {},
     "output_type": "display_data"
    }
   ],
   "source": [
    "nextprime(BigInt(2)^250)"
   ]
  },
  {
   "cell_type": "code",
   "execution_count": 241,
   "id": "6da74504",
   "metadata": {},
   "outputs": [
    {
     "data": {
      "text/plain": [
       "14130386091738734504764811071"
      ]
     },
     "metadata": {},
     "output_type": "display_data"
    }
   ],
   "source": [
    "(BigInt(3)^59 + 4 )% BigInt(2)^100"
   ]
  },
  {
   "cell_type": "code",
   "execution_count": null,
   "id": "3a148545",
   "metadata": {},
   "outputs": [],
   "source": []
  }
 ],
 "metadata": {
  "kernelspec": {
   "display_name": "Julia 1.11.5",
   "language": "julia",
   "name": "julia-1.11"
  },
  "language_info": {
   "file_extension": ".jl",
   "mimetype": "application/julia",
   "name": "julia",
   "version": "1.11.5"
  }
 },
 "nbformat": 4,
 "nbformat_minor": 5
}
