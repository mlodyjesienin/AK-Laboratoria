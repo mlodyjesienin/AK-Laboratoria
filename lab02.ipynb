{
 "cells": [
  {
   "cell_type": "markdown",
   "id": "ba11eaa4",
   "metadata": {},
   "source": [
    "# Algebra Komputerowa \n",
    "## Laboratorium 02 - Algorytmy Modularne \n",
    "\n",
    "Plan Laboratorium\n",
    "1) Zastosowanie Chińskiego Twierdzenia o Resztach do rozwiązywania Układów Kongruencji\n",
    "    - Metoda Lagrange'a\n",
    "    - Metoda Przyrostowa Newtona\n",
    "2) Szybkie potęgowanie Modularne\n",
    "    - Standardowa wersja \n",
    "    - Wykorzystanie Twierdzenia Eulera\n",
    "3) Liczenie wyznacznika Macierzy Całkowitoliczbowej za pomocą Chińskiego Twierdzenia o Resztach\n",
    "4) Zadanie dodatkoawe - FFT"
   ]
  },
  {
   "cell_type": "markdown",
   "id": "eec68973",
   "metadata": {},
   "source": [
    "Importy"
   ]
  },
  {
   "cell_type": "code",
   "execution_count": 1,
   "id": "8cbd3acc",
   "metadata": {},
   "outputs": [
    {
     "name": "stdout",
     "output_type": "stream",
     "text": [
      "\r"
     ]
    }
   ],
   "source": [
    "using Oscar\n",
    "using Random\n",
    "using StatsBase\n",
    "using Test\n",
    "using Primes"
   ]
  },
  {
   "cell_type": "markdown",
   "id": "f2d2e83f",
   "metadata": {},
   "source": [
    "### Używając paczki `Primes` zapisujemy dużą tablicę liczb pierwszych. Przyda nam się to później.\n",
    "\n",
    "Z powodu niejednoznaczności nazwy funkcji `primes` (taka sama funckja występuje w paczce `Oscar`), musimy ręcznie wskazać o ktorą nam chodzi. "
   ]
  },
  {
   "cell_type": "code",
   "execution_count": 2,
   "id": "11a278cb",
   "metadata": {},
   "outputs": [
    {
     "data": {
      "text/plain": [
       "78498-element Vector{BigInt}:\n",
       "      2\n",
       "      3\n",
       "      5\n",
       "      7\n",
       "     11\n",
       "     13\n",
       "     17\n",
       "     19\n",
       "     23\n",
       "     29\n",
       "      ⋮\n",
       " 999883\n",
       " 999907\n",
       " 999917\n",
       " 999931\n",
       " 999953\n",
       " 999959\n",
       " 999961\n",
       " 999979\n",
       " 999983"
      ]
     },
     "metadata": {},
     "output_type": "display_data"
    }
   ],
   "source": [
    "primes = Primes.primes \n",
    "PRIMES = BigInt.(primes(1,1000000))"
   ]
  },
  {
   "cell_type": "markdown",
   "id": "41b465d1",
   "metadata": {},
   "source": [
    "Konwersja do `BigInt` (nieograniczonego Integera) jest nieprzypadkowa. Przez całe laboratorium będziemy działać na olbrzymich liczbach całkowitych. \n",
    "\n",
    "Standardowo Julia wykorzystuje `Int64`.\n",
    "Można też stosować `Int128`, ale okazuje się, że dla naszych celów, to wciaż dużo za mało. \n",
    "\n",
    "Będziemy rozważać duże układy kongruencji. Ostatecznie, będziemy chcieli mnożyć conajmniej tyle liczb pierwszych ile występuje kongruencji. Zauważmy, że już iloczyn 30 początkowych liczb pierwszych, to więcej niż $2^{128}$. \n",
    "\n",
    "Z tego powodu nie możemy polegać na `Int128` i musimy wykorzysytywać `BigInt` - wolniejsze, ale nieograniczone."
   ]
  },
  {
   "cell_type": "code",
   "execution_count": 3,
   "id": "a419c020",
   "metadata": {},
   "outputs": [
    {
     "data": {
      "text/plain": [
       "true"
      ]
     },
     "metadata": {},
     "output_type": "display_data"
    }
   ],
   "source": [
    "prod(PRIMES[1:30]) > BigInt(2)^128"
   ]
  },
  {
   "cell_type": "markdown",
   "id": "848dac91",
   "metadata": {},
   "source": [
    "# Rozwiązywanie układów kongruencji - Chińskie Twierdzenie o Resztach  \n",
    "\n",
    "## Metoda Lagrange'a\n",
    "\n",
    "Zaimplementuj rozwiązywanie układów kongruencji funkcję `congruence_system_lagrange(a,m)`, która przyjmuje parametry:  \n",
    "1) `a` – tablica reszt modulo (dowolne liczby całkowite)  \n",
    "2) `m` – tablica rozważanych modulo (parami względnie pierwsze liczby)\n",
    "\n",
    "Funkcja powinna zwracać wartość $x$, taką, że $x \\equiv a[i] \\pmod{m_i}$.\n",
    "\n",
    "Postaraj się, żeby funkcja działała dla liczb całkowitych, jak i dla wielomianów nad ciałem z paczki `Oscar.jl`\n",
    "\n",
    "Przydatne funkcje: \n",
    "1) `gcdx(a,b)` - zwraca nwd oraz współczynniki Bezouta.\n",
    "2) `div(a,b)` - zwraca dokładny iloraz liczb całkowitych. \n",
    "3) `mod(a,b)` - zwraca resztę z dzielnia $a$ przez $b$.\n",
    "4) `prod(T)` - zwraca iloczyn elementów tablicy T. "
   ]
  },
  {
   "cell_type": "code",
   "execution_count": null,
   "id": "f0634c64",
   "metadata": {},
   "outputs": [
    {
     "data": {
      "text/plain": [
       "congruence_system_lagrange (generic function with 1 method)"
      ]
     },
     "metadata": {},
     "output_type": "display_data"
    }
   ],
   "source": [
    "function congruence_system_lagrange(a,m)\n",
    "end"
   ]
  },
  {
   "cell_type": "markdown",
   "id": "cfc39042",
   "metadata": {},
   "source": [
    "### Testy poprawności działania na liczbach całkowitych.\n",
    "\n",
    "Funkcja sprawdzająca, czy podane rozwiązanie jest prawdziwe"
   ]
  },
  {
   "cell_type": "code",
   "execution_count": 5,
   "id": "12c38879",
   "metadata": {},
   "outputs": [
    {
     "data": {
      "text/plain": [
       "check_solution (generic function with 1 method)"
      ]
     },
     "metadata": {},
     "output_type": "display_data"
    }
   ],
   "source": [
    "function check_solution(x, a, m)\n",
    "    return all(i -> mod(x, m[i]) == mod(a[i],m[i]), 1:length(a))\n",
    "end"
   ]
  },
  {
   "cell_type": "markdown",
   "id": "8c9f4a65",
   "metadata": {},
   "source": [
    "Funkcja generująca losowy układ kongruencji modulo losowe liczby pierwsze (zatem założenie o względnej pierwszości jest spełnione.)"
   ]
  },
  {
   "cell_type": "code",
   "execution_count": 6,
   "id": "5580fe80",
   "metadata": {},
   "outputs": [
    {
     "data": {
      "text/plain": [
       "random_integer_congruence (generic function with 4 methods)"
      ]
     },
     "metadata": {},
     "output_type": "display_data"
    }
   ],
   "source": [
    "function random_integer_congruence(f=100,g=1000,h=1000)\n",
    "    n = rand(2:f)\n",
    "    m = PRIMES[sample(1:g,n,replace=false)]\n",
    "    a = BigInt.(rand(1:h,n))\n",
    "    return a,m\n",
    "end"
   ]
  },
  {
   "cell_type": "markdown",
   "id": "d93ea62a",
   "metadata": {},
   "source": [
    "Funkcja testująca poprawność działania algorytmu. Argument `solver` to wskaźnik do funkcji implementującej algorytm."
   ]
  },
  {
   "cell_type": "code",
   "execution_count": 7,
   "id": "4c9ab52d",
   "metadata": {},
   "outputs": [
    {
     "data": {
      "text/plain": [
       "test_congruence (generic function with 1 method)"
      ]
     },
     "metadata": {},
     "output_type": "display_data"
    }
   ],
   "source": [
    "function test_congruence(solver)\n",
    "    for i=1:100\n",
    "        a,m = random_integer_congruence()\n",
    "        @assert check_solution(solver(a,m),a,m) \"wrong solution! $a, $m\"\n",
    "    end\n",
    "    println(\"Test passed!\")\n",
    "end"
   ]
  },
  {
   "cell_type": "markdown",
   "id": "71e86d2f",
   "metadata": {},
   "source": [
    "Sprawdźmy, czy wszystko działa poprawnie:"
   ]
  },
  {
   "cell_type": "code",
   "execution_count": 8,
   "id": "3ca5d50a",
   "metadata": {},
   "outputs": [
    {
     "name": "stdout",
     "output_type": "stream",
     "text": [
      "Test passed!\n"
     ]
    }
   ],
   "source": [
    "test_congruence(congruence_system_lagrange)"
   ]
  },
  {
   "cell_type": "markdown",
   "id": "3b3d5eb0",
   "metadata": {},
   "source": [
    "## Metoda Przyrostowa Newtona\n",
    "\n",
    "Drugi rozważany algorytm to *Metoda przyrostwa Newtona.* Pomysł opiera się na iteracyjnym zastępowaniu układem równań dwóch kongruencji jednym równaniem. W ten sposó, w każdym kroku zmniejszamy liczbę równań o jeden, aż końcowo otrzymujemy rozwiązanie.\n",
    "\n",
    "Zaimplementuj algorytm przyrostowy Newtona. W tym celu najpierw zaimplementuj funkcję pomocniczą `congruence_two(a,m)`, która ma rozwiązywać układ dwóch kongruencji.\n",
    "\n",
    "Paremetry:\n",
    "1) `a` - dwuelementowa tablica spodziewanych reszt. \n",
    "2) `m` - dwuelementowa tablica (względnie pierwszych) rozważanych modulo.\n",
    "\n",
    "Funkcja powinna zwracać pojedynczą wartość - \"najmniejsze\" rozwiązanie układu dwóch kongruencji."
   ]
  },
  {
   "cell_type": "code",
   "execution_count": null,
   "id": "2a9bea8f",
   "metadata": {},
   "outputs": [
    {
     "data": {
      "text/plain": [
       "congruence_two (generic function with 1 method)"
      ]
     },
     "metadata": {},
     "output_type": "display_data"
    }
   ],
   "source": [
    "function congruence_two(a,m)\n",
    "end"
   ]
  },
  {
   "cell_type": "markdown",
   "id": "17a9c5ae",
   "metadata": {},
   "source": [
    "Zaimplementuj rozwiązywanie układów kongruencji funkcję jako `congruence_system_newton(m, a)`. \n",
    "\n",
    "Funkcja powinna korzystać z `congruence_two(m,a)`\n",
    "\n",
    "Parametry, wartości zwracane oraz działanie ma być identyczne z `congruence_system_lagrange(m,a)`."
   ]
  },
  {
   "cell_type": "code",
   "execution_count": null,
   "id": "f34e1f7b",
   "metadata": {},
   "outputs": [
    {
     "data": {
      "text/plain": [
       "congruence_system_newton (generic function with 1 method)"
      ]
     },
     "metadata": {},
     "output_type": "display_data"
    }
   ],
   "source": [
    "function congruence_system_newton(a,m)\n",
    "end"
   ]
  },
  {
   "cell_type": "markdown",
   "id": "65afa44a",
   "metadata": {},
   "source": [
    "### Testy poprawności działania na liczbach całkowitych\n",
    "\n",
    "Sprawdźmy, czy algorytm zwraca spodziewane wyniki."
   ]
  },
  {
   "cell_type": "code",
   "execution_count": 11,
   "id": "31c45506",
   "metadata": {},
   "outputs": [
    {
     "name": "stdout",
     "output_type": "stream",
     "text": [
      "Test passed!\n"
     ]
    }
   ],
   "source": [
    "test_congruence(congruence_system_newton)"
   ]
  },
  {
   "cell_type": "markdown",
   "id": "8c3ede05",
   "metadata": {},
   "source": [
    "## Porównanie działania \n",
    "\n",
    "\n",
    "### Interesującym jest pytanie, która z pokazanych metod jest lepsza. \n",
    "\n",
    "Sprawdźmy to, generując losowe dane i mierząc czas działania obu funkcji.\n",
    "\n"
   ]
  },
  {
   "cell_type": "code",
   "execution_count": 12,
   "id": "9c24d61a",
   "metadata": {},
   "outputs": [
    {
     "data": {
      "text/plain": [
       "solve_all (generic function with 1 method)"
      ]
     },
     "metadata": {},
     "output_type": "display_data"
    }
   ],
   "source": [
    "function solve_all(solver,data)\n",
    "    for (a,m) in data \n",
    "        solver(a,m)\n",
    "    end\n",
    "end"
   ]
  },
  {
   "cell_type": "code",
   "execution_count": 13,
   "id": "d5b21539",
   "metadata": {},
   "outputs": [
    {
     "name": "stdout",
     "output_type": "stream",
     "text": [
      "  7.696965 seconds (101.25 M allocations: 2.933 GiB, 24.36% gc time, 0.11% compilation time)\n",
      "  0.482714 seconds (7.30 M allocations: 235.469 MiB, 20.78% gc time, 1.56% compilation time)\n"
     ]
    }
   ],
   "source": [
    "n = 5000\n",
    "data = [random_integer_congruence() for i=1:n]\n",
    "@time solve_all(congruence_system_lagrange,data)\n",
    "@time solve_all(congruence_system_newton,data)  "
   ]
  },
  {
   "cell_type": "markdown",
   "id": "2ae997a2",
   "metadata": {},
   "source": [
    "Polecam trochę potestować. Dla dużych wartości `n`, ewidentnie metoda przyrostowa radzi sobie znacznie lepiej."
   ]
  },
  {
   "cell_type": "markdown",
   "id": "5a4a32cc",
   "metadata": {},
   "source": [
    "### Testy poprawności działania na wielomianach jednej zmiennej nad ciałem $\\mathbb{Q}$.\n",
    "\n",
    "Dobrze zaimplementowany kod, powinien działać nie tylko dla liczb całkowitych, ale i dla innych pierścieni Euklidesowych - w szczególności wielomianów jednej zmiennej nad ciałem.\n",
    "W celu przetestowania tego, skorzystamy z paczki `Oscar.jl` z poprzednich laboratoriów.\n",
    "\n",
    "Nie będziemy tego testować na bardzo ogólnych przypadkach - ograniczymy się do testowania sytuacji, gdy rozważane wielomiany modularne $m_i$ są postaci $x - p_i$ dla pewnego $p_i$. Wtedy rozważane reszty $a_i$ są stopnia zerowego (znaczy są po prostu liczbami).\n",
    "\n",
    "W takiej sytuacji, problem znalezienia wielomianu $f$, takiego, że $f \\equiv a_i \\pmod{m_i}$ dla każdego $i$, można równoważnie zapisać jako:\n",
    "$$ \\forall i \\quad  f(p_i) = a_i $$\n",
    "czyli jest to interpolacja wielomianu."
   ]
  },
  {
   "cell_type": "markdown",
   "id": "3c75a82d",
   "metadata": {},
   "source": [
    "Zdefiniujmy pierścień $R = \\mathbb{Q}[x]$"
   ]
  },
  {
   "cell_type": "code",
   "execution_count": 14,
   "id": "60b18cf5",
   "metadata": {},
   "outputs": [
    {
     "data": {
      "text/plain": [
       "(Univariate polynomial ring in x over QQ, x)"
      ]
     },
     "metadata": {},
     "output_type": "display_data"
    }
   ],
   "source": [
    "R, x = QQ[:x]"
   ]
  },
  {
   "cell_type": "markdown",
   "id": "f03e9416",
   "metadata": {},
   "source": [
    "Funkcja generująca losowy problem interpolacji wielomianu jako układ kongruencji."
   ]
  },
  {
   "cell_type": "code",
   "execution_count": 15,
   "id": "4be4c0f9",
   "metadata": {},
   "outputs": [
    {
     "data": {
      "text/plain": [
       "random_polynomial_congruence (generic function with 1 method)"
      ]
     },
     "metadata": {},
     "output_type": "display_data"
    }
   ],
   "source": [
    "function random_polynomial_congruence()\n",
    "    n = 100\n",
    "    a = rand(1:1000,n) \n",
    "    x_coords =  sample(1:1000,n,replace=false) \n",
    "    m = [x - x_coords[i] for i=1:n]\n",
    "    return a,m\n",
    "end"
   ]
  },
  {
   "cell_type": "markdown",
   "id": "c8d40878",
   "metadata": {},
   "source": [
    "Funkcja sprawdzająca poprawność działania"
   ]
  },
  {
   "cell_type": "code",
   "execution_count": 16,
   "id": "8d0bb762",
   "metadata": {},
   "outputs": [
    {
     "data": {
      "text/plain": [
       "check_solution_polynomial (generic function with 1 method)"
      ]
     },
     "metadata": {},
     "output_type": "display_data"
    }
   ],
   "source": [
    "function check_solution_polynomial(f,a,m)\n",
    "    k = length(m)\n",
    "    x_cord = [-m[i](0) for i=1:k]\n",
    "    return all(i -> f(x_cord[i]) == a[i], 1:k) \n",
    "end"
   ]
  },
  {
   "cell_type": "code",
   "execution_count": 17,
   "id": "214fc930",
   "metadata": {},
   "outputs": [
    {
     "data": {
      "text/plain": [
       "test_congruence_polynomial (generic function with 1 method)"
      ]
     },
     "metadata": {},
     "output_type": "display_data"
    }
   ],
   "source": [
    "function test_congruence_polynomial(solver)\n",
    "    for i=1:100\n",
    "        a,m = random_polynomial_congruence()\n",
    "        @assert check_solution_polynomial(solver(a,m),a,m) \"wrong solution! $a, $m\"\n",
    "    end\n",
    "    println(\"Test passed!\")\n",
    "end"
   ]
  },
  {
   "cell_type": "code",
   "execution_count": 150,
   "id": "98ba98f5",
   "metadata": {},
   "outputs": [
    {
     "name": "stdout",
     "output_type": "stream",
     "text": [
      "Test passed!\n"
     ]
    }
   ],
   "source": [
    "test_congruence_polynomial(congruence_system_newton)"
   ]
  },
  {
   "cell_type": "code",
   "execution_count": 19,
   "id": "335962b3",
   "metadata": {},
   "outputs": [
    {
     "name": "stdout",
     "output_type": "stream",
     "text": [
      "Test passed!\n"
     ]
    }
   ],
   "source": [
    "test_congruence_polynomial(congruence_system_lagrange)\n"
   ]
  },
  {
   "cell_type": "markdown",
   "id": "0ce731b4",
   "metadata": {},
   "source": [
    "### Prostsza implementacja rozwiązywania dwóch kongruencji.\n",
    "\n",
    "Rozważmy układ dwóch kongruencji $x \\equiv a \\pmod{m_1} \\land x \\equiv b \\pmod{m_2}$. \n",
    "\n",
    "Zakładamy, że $m_1,m_2$ są względnie pierwsze - zatem można wyliczyć współczynniki Bezouta: \n",
    "$$ \\alpha m_1  + \\beta m_2 = 1. $$\n",
    "\n",
    "Zauważmy teraz, że rozwiązaniem układu kongruencji jest po prostu: \n",
    "$$ \\alpha m_1 b + \\beta m_2 a$$\n",
    "Dlaczego jednak w algorytmie na prezentacji, proponowana była inna implementacja? Chodzi o wielkość pojawiających się czynników. \n",
    "\n",
    "Podmieńmy implementacje `congruence_two(a,m)` na taką uproszczoną:"
   ]
  },
  {
   "cell_type": "code",
   "execution_count": 20,
   "id": "bb75e1c9",
   "metadata": {},
   "outputs": [
    {
     "data": {
      "text/plain": [
       "congruence_two_v2 (generic function with 1 method)"
      ]
     },
     "metadata": {},
     "output_type": "display_data"
    }
   ],
   "source": [
    "function congruence_two_v2(a,m)\n",
    "    _, α, β = gcdx(m[1], m[2])\n",
    "    return mod(α*m[1]*a[2] + β*m[2]*a[1], m[1]*m[2])\n",
    "end"
   ]
  },
  {
   "cell_type": "markdown",
   "id": "c556e614",
   "metadata": {},
   "source": [
    "Napiszmy teraz funkcję `congruence_system_newton_v2(a,m)` - kod powinien być dokładnie taki sam jak do wersji oryginalnej, tylko zamiast odwoływać się do `congruence_two` powinien odwoływać się do `congruence_two_v2`"
   ]
  },
  {
   "cell_type": "code",
   "execution_count": null,
   "id": "5700f1e4",
   "metadata": {},
   "outputs": [
    {
     "data": {
      "text/plain": [
       "congruence_system_newton_v2 (generic function with 1 method)"
      ]
     },
     "metadata": {},
     "output_type": "display_data"
    }
   ],
   "source": [
    "function congruence_system_newton_v2(a,m)\n",
    "end"
   ]
  },
  {
   "cell_type": "markdown",
   "id": "ebc7fd17",
   "metadata": {},
   "source": [
    "Sprawdźmy teraz, czy zwraca poprawne wyniki i co ciekawsze - jak wypada wydajnościowo w kontraście do `congruence_system_newton`"
   ]
  },
  {
   "cell_type": "code",
   "execution_count": 22,
   "id": "c56528d2",
   "metadata": {},
   "outputs": [
    {
     "name": "stdout",
     "output_type": "stream",
     "text": [
      "Test passed!\n"
     ]
    }
   ],
   "source": [
    "test_congruence(congruence_system_newton_v2)"
   ]
  },
  {
   "cell_type": "code",
   "execution_count": 23,
   "id": "324acbef",
   "metadata": {},
   "outputs": [
    {
     "name": "stdout",
     "output_type": "stream",
     "text": [
      "  1.105093 seconds (14.77 M allocations: 478.666 MiB, 17.15% gc time)\n",
      "  1.324977 seconds (14.81 M allocations: 527.932 MiB, 22.60% gc time, 0.84% compilation time)\n"
     ]
    }
   ],
   "source": [
    "n = 10000\n",
    "data = [random_integer_congruence() for i=1:n]\n",
    "@time solve_all(congruence_system_newton,data)\n",
    "@time solve_all(congruence_system_newton_v2,data)  "
   ]
  },
  {
   "cell_type": "markdown",
   "id": "139014bb",
   "metadata": {},
   "source": [
    "Wygląda na to, że wypada bardzo podobnie (polecam uruchomić pare razy - u mnie raz szybciej działa wersja podstawoa, raz ta druga.) \n",
    "\n",
    "Ale... podczas testowania, zauważyłem jedną rzecz. Porównajmy wydajność dla kongruencji wielomianów."
   ]
  },
  {
   "cell_type": "code",
   "execution_count": 24,
   "id": "efe4ed18",
   "metadata": {},
   "outputs": [
    {
     "name": "stdout",
     "output_type": "stream",
     "text": [
      "  2.294649 seconds (1.82 M allocations: 278.094 MiB, 5.12% gc time, 0.40% compilation time)\n",
      "  8.630788 seconds (1.73 M allocations: 2.691 GiB, 4.59% gc time, 1.35% compilation time)\n"
     ]
    }
   ],
   "source": [
    "n = 100\n",
    "data = [random_polynomial_congruence() for i=1:n]\n",
    "@time solve_all(congruence_system_newton,data)\n",
    "@time solve_all(congruence_system_newton_v2,data)  "
   ]
  },
  {
   "cell_type": "markdown",
   "id": "9a9d0a1c",
   "metadata": {},
   "source": [
    "W tym wypadku nowa wersja wypada **znacznie** gorzej. \n",
    "\n",
    "Dlaczego tak jest?"
   ]
  },
  {
   "cell_type": "markdown",
   "id": "3c730ffe",
   "metadata": {},
   "source": [
    "# Potęgowanie modularne"
   ]
  },
  {
   "cell_type": "markdown",
   "id": "6eafcc7a",
   "metadata": {},
   "source": [
    "### Podstawowa metoda szybkiego potęgowania modularnego\n",
    "Zaimplementuj funkcje `power_modulo(a,n,m)` która przyjmuje na wejściu liczby całkowitę `a,n,m` i zwraca wartość $a^n \\pmod{m}$. Wykorzystaj do tego szybkie potęgowanie.\n",
    "\n",
    "Przydatne funkcje:\n",
    "1) `digits(n,base)` - zwraca liczbę $n$ w systemie o podstawie $base$"
   ]
  },
  {
   "cell_type": "code",
   "execution_count": null,
   "id": "348b0496",
   "metadata": {},
   "outputs": [
    {
     "data": {
      "text/plain": [
       "power_modulo (generic function with 1 method)"
      ]
     },
     "metadata": {},
     "output_type": "display_data"
    }
   ],
   "source": [
    "function power_modulo(a,n,m)\n",
    "end"
   ]
  },
  {
   "cell_type": "markdown",
   "id": "bf6fbdab",
   "metadata": {},
   "source": [
    "### Testy poprawności działania potęgowania modularnego\n",
    "\n",
    "Przetestujmy poprawność wyników. Na losowo generowanych danych, będziemy porównywać się do funkcji bibliotecznej `powermod`"
   ]
  },
  {
   "cell_type": "code",
   "execution_count": 26,
   "id": "b578e5f3",
   "metadata": {},
   "outputs": [
    {
     "data": {
      "text/plain": [
       "test_power_modulo (generic function with 1 method)"
      ]
     },
     "metadata": {},
     "output_type": "display_data"
    }
   ],
   "source": [
    "function test_power_modulo()\n",
    "    for i=1:100\n",
    "        a = rand(BigInt(1):BigInt(1_000_000))\n",
    "        n = rand(BigInt(1):BigInt(1_000_000))\n",
    "        m = rand(BigInt(1):BigInt(1_000_000))\n",
    "        @assert power_modulo(a,n,m) == powermod(a,n,m) \"error for a=$a, n=$n, m=$m\"\n",
    "    end\n",
    "    println(\"test passed!\")\n",
    "end"
   ]
  },
  {
   "cell_type": "code",
   "execution_count": 27,
   "id": "75b8e38c",
   "metadata": {},
   "outputs": [
    {
     "name": "stdout",
     "output_type": "stream",
     "text": [
      "test passed!\n"
     ]
    }
   ],
   "source": [
    "test_power_modulo()"
   ]
  },
  {
   "cell_type": "markdown",
   "id": "f45ed04f",
   "metadata": {},
   "source": [
    "### Funkcja $\\varphi$ Eulera\n",
    "Zaimplementuj funkckję $\\phi(n)$ przyjmującą na wejściu liczbę naturalną $n$ i zwracającą na wyjściu wartość funkcji Eulera $\\varphi(n)$. \n",
    "Przydatne funkcje:\n",
    "1) `factor(n)` - zwraca faktoryzację na czynniki pierwsze liczby $n$. \n",
    "Uwaga - w Paczcze `Oscar` i `Primes` osobno zdefinowano funkcje `factor()`. Żeby ominąć niejednoznaczności można pisać `Oscar.factor()` lub `Primes.factor()`. Nie ma to szczególnego znaczenia, ale jak testowałem dla bardzo dużych liczb, to `Oscar.factor` wypada lekko szybciej. \n",
    "Możemy też zapisać po prostu:"
   ]
  },
  {
   "cell_type": "code",
   "execution_count": 28,
   "id": "0600f33a",
   "metadata": {},
   "outputs": [],
   "source": [
    "import Oscar.factor as factor "
   ]
  },
  {
   "cell_type": "code",
   "execution_count": null,
   "id": "b1571ddd",
   "metadata": {},
   "outputs": [
    {
     "data": {
      "text/plain": [
       "ϕ (generic function with 1 method)"
      ]
     },
     "metadata": {},
     "output_type": "display_data"
    }
   ],
   "source": [
    "function ϕ(n) \n",
    "end"
   ]
  },
  {
   "cell_type": "markdown",
   "id": "0db3d181",
   "metadata": {},
   "source": [
    "### Testy poprawności działania\n",
    "\n",
    "Porównajmy poprawność wyliczeń z wynikami bibliotecznej funkcji `totient`."
   ]
  },
  {
   "cell_type": "code",
   "execution_count": 30,
   "id": "3922d7f2",
   "metadata": {},
   "outputs": [
    {
     "data": {
      "text/plain": [
       "test_phi_func (generic function with 1 method)"
      ]
     },
     "metadata": {},
     "output_type": "display_data"
    }
   ],
   "source": [
    "function test_phi_func()\n",
    "    for i=1:1000\n",
    "        n = rand(1:10^6)\n",
    "        @assert ϕ(n) == totient(n)\n",
    "    end\n",
    "    println(\"Test passed!\")\n",
    "end"
   ]
  },
  {
   "cell_type": "code",
   "execution_count": 31,
   "id": "ffb61c8e",
   "metadata": {},
   "outputs": [
    {
     "name": "stdout",
     "output_type": "stream",
     "text": [
      "Test passed!\n"
     ]
    }
   ],
   "source": [
    "test_phi_func()"
   ]
  },
  {
   "cell_type": "markdown",
   "id": "b09fe456",
   "metadata": {},
   "source": [
    "### Szybkie Potęgowanie Modulo wykorzystując funkcje $\\varphi$ Eulera.\n",
    "Zaimplementuj funkcje `power_modulo_euler(a,n,m)`, która działa analogicznie do funkcji `power_modulo(n)`, wykorzystując dodatkowo twierdzenie Eulera."
   ]
  },
  {
   "cell_type": "code",
   "execution_count": null,
   "id": "3156b714",
   "metadata": {},
   "outputs": [
    {
     "data": {
      "text/plain": [
       "power_modulo_euler (generic function with 1 method)"
      ]
     },
     "metadata": {},
     "output_type": "display_data"
    }
   ],
   "source": [
    "function power_modulo_euler(a,n,m)\n",
    "end"
   ]
  },
  {
   "cell_type": "markdown",
   "id": "761a6058",
   "metadata": {},
   "source": [
    "### Testy poprawności działania\n",
    "\n",
    "Sprawdźmy wyniki, ponownie odwołując się do wyników `powermod`"
   ]
  },
  {
   "cell_type": "code",
   "execution_count": 33,
   "id": "bc2c05aa",
   "metadata": {},
   "outputs": [
    {
     "data": {
      "text/plain": [
       "test_power_modulo_euler (generic function with 1 method)"
      ]
     },
     "metadata": {},
     "output_type": "display_data"
    }
   ],
   "source": [
    "function test_power_modulo_euler()\n",
    "    for i=1:100\n",
    "        a = rand(1:100000000)\n",
    "        n = rand(1:100000000)\n",
    "        m = rand(1:100000000)\n",
    "        @assert power_modulo_euler(a,n,m) == powermod(a,n,m) \"error for a=$a, n=$n, m=$m\"\n",
    "    end\n",
    "    println(\"test passed!\")\n",
    "end"
   ]
  },
  {
   "cell_type": "code",
   "execution_count": 34,
   "id": "d60984f4",
   "metadata": {},
   "outputs": [
    {
     "name": "stdout",
     "output_type": "stream",
     "text": [
      "test passed!\n"
     ]
    }
   ],
   "source": [
    "test_power_modulo_euler()"
   ]
  },
  {
   "cell_type": "markdown",
   "id": "7ecfd6dd",
   "metadata": {},
   "source": [
    "### Porównanie wydajności - ile \"oszczędza\" nam Twierdzenie Eulera. \n",
    "\n",
    "Funkcja odpowiedzialna za rozwiązywanie wielu przykładów"
   ]
  },
  {
   "cell_type": "code",
   "execution_count": 35,
   "id": "74c8a677",
   "metadata": {},
   "outputs": [
    {
     "data": {
      "text/plain": [
       "solve_all_power (generic function with 1 method)"
      ]
     },
     "metadata": {},
     "output_type": "display_data"
    }
   ],
   "source": [
    "function solve_all_power(solver, data)\n",
    "    for (a,n,m) in data \n",
    "        solver(a,n,m)\n",
    "    end\n",
    "end"
   ]
  },
  {
   "cell_type": "markdown",
   "id": "ec84ab06",
   "metadata": {},
   "source": [
    "Porównamy obie metody: standardową oraz tą wykorzystującą funkcje $\\varphi$ Eulera. Dodatkowo, sprawdzimy też, jak wypada funkcja biblioteczna. "
   ]
  },
  {
   "cell_type": "code",
   "execution_count": 36,
   "id": "60a02ec6",
   "metadata": {},
   "outputs": [
    {
     "name": "stdout",
     "output_type": "stream",
     "text": [
      "  0.772914 seconds (2.01 M allocations: 279.711 MiB, 19.06% gc time, 1.49% compilation time)\n",
      "  4.093836 seconds (8.80 M allocations: 904.003 MiB, 5.60% gc time, 0.27% compilation time)\n",
      "  0.622080 seconds (10.50 k allocations: 539.977 KiB, 1.82% compilation time)\n"
     ]
    }
   ],
   "source": [
    "n = 1_000_000\n",
    "data = [[rand(1:10^9), rand(1:10^9), rand(1:10^9)] for j=1:n]\n",
    "@time solve_all_power(power_modulo,data)\n",
    "@time solve_all_power(power_modulo_euler,data)\n",
    "@time solve_all_power(powermod,data)"
   ]
  },
  {
   "cell_type": "markdown",
   "id": "0854d35e",
   "metadata": {},
   "source": [
    "Jak widać.... wyniki sporo poniżej oczekiwań. Liczenie funkcji Eulera jest na tyle kosztowne, że nie opłaca się tego robić, a przynajmniej nie w ten sposób. Istnieją inne metody wyznaczania jej dla kolejnych liczb naturalnych w czasie zamortyzowanie stałym. Z tego powodu, jeśli chcemy liczyć wiele razy potęge modularną, może opłacać nam sie wyliczyć i zapisać wyniki funkcji Eulera, a później z nich korzystać.\n",
    "\n",
    "Co ciekawe natknąłem sie na taki post na [forum Julii](https://discourse.julialang.org/t/optimizing-powermod/115936)\n",
    "można znaleźć tam taką implementację funkcji:"
   ]
  },
  {
   "cell_type": "code",
   "execution_count": 37,
   "id": "bd3bc56d",
   "metadata": {},
   "outputs": [
    {
     "data": {
      "text/plain": [
       "my_powermod (generic function with 1 method)"
      ]
     },
     "metadata": {},
     "output_type": "display_data"
    }
   ],
   "source": [
    "function my_powermod(a::Int64, b::Int64, c::Int64)\n",
    "    @assert b >= 0\n",
    "    result = one(Int128)\n",
    "    a_raised_to_powers_of_two = convert(Int128, a)\n",
    "    while b != 0\n",
    "        if isodd(b)\n",
    "            result *= a_raised_to_powers_of_two\n",
    "            result = result % c;\n",
    "        end\n",
    "        b = b >>> 1\n",
    "        a_raised_to_powers_of_two = a_raised_to_powers_of_two^2 % c\n",
    "    end\n",
    "    convert(Int64, result)\n",
    "end"
   ]
  },
  {
   "cell_type": "markdown",
   "id": "254e7c7a",
   "metadata": {},
   "source": [
    "Zauważmy, że jest to implementacja `power_modulo()`. Po prostu, zamiast używać sztucznie `digits()` sprawdzana jest parzystość i na tej podstawie określane są kolejne bity.\n",
    "\n",
    "Interesujące jest to, że ta funkcja jest szybsza niż funkcja wbudowana `powermod`! "
   ]
  },
  {
   "cell_type": "code",
   "execution_count": 38,
   "id": "6320efe6",
   "metadata": {},
   "outputs": [
    {
     "name": "stdout",
     "output_type": "stream",
     "text": [
      "  0.652593 seconds\n",
      "  0.540188 seconds (14.94 k allocations: 762.039 KiB, 5.08% compilation time)\n"
     ]
    }
   ],
   "source": [
    "n = 1_000_000\n",
    "data = [[rand(1:10^9), rand(1:10^9), rand(1:10^9)] for j=1:n]\n",
    "@time solve_all_power(powermod,data)\n",
    "@time solve_all_power(my_powermod,data)"
   ]
  },
  {
   "cell_type": "markdown",
   "id": "253e8a1b",
   "metadata": {},
   "source": [
    "# Liczenie wyznacznika Macierzy całkowitoliczbowej.\n",
    "\n",
    "Rozważmy macierz $M$ o elementach całkowitych. Jej wyznacznik $\\det(M)$ należy również do liczb całkowitych. \n",
    "Klasyczne algorytmy liczenia wyznacznika, wykorzystują dzielenie, przez co implementacja algorytmu liczenia wyznacznika, może nam zwrócić niedokładną wartości z powodu nieprecyzyjnej reprezentacji liczb zmiennoprzecinkowych.\n",
    "\n",
    "### Nie trzeba daleko szukać:"
   ]
  },
  {
   "cell_type": "code",
   "execution_count": 39,
   "id": "4927efff",
   "metadata": {},
   "outputs": [
    {
     "name": "stdout",
     "output_type": "stream",
     "text": [
      "typ elementu macierzy: Int64\n",
      "wyznacznik macierzy: -9.999999999999998\n"
     ]
    }
   ],
   "source": [
    "M = [3 1 -2;\n",
    "     2 -3 -1;\n",
    "    1 3 0]\n",
    "println(\"typ elementu macierzy: $(typeof(M[1,1]))\")\n",
    "println(\"wyznacznik macierzy: $(det(M))\") "
   ]
  },
  {
   "cell_type": "markdown",
   "id": "5e95ee0d",
   "metadata": {},
   "source": [
    "### Wyznacznik tej macierzy, jest równy -10. Mimo to, funkcja biblioteczna zwraca wynik niecałkowity...\n",
    "\n",
    "Można by sobie poradzić z tym na wiele sposobów. Najprostszym pomysłem, jest reprezentacja liczb wymiernych jako ułamki (licznik/mianownik). W ten sposób moglibyśmy uzyskać dokładny wynik, ale działanie na ułamkach w ten sposób jest drogie - mianowniki zwykle bardzo szybko rosną. \n",
    "\n",
    "Sprytniejszym pomysłem jest zastosowanie *chińskiego twierdzenia o resztach*. \n",
    "Jeżeli tylko ograniczymy wartośc wyznacznika, można policzyć wyznacznik modulo wiele liczb pierwszych, a następnie złączyć wyniki modulo małe liczby pierwsze do modulo na tyle dużego - że otrzymamy jednoznaczny wynik."
   ]
  },
  {
   "cell_type": "markdown",
   "id": "f9161d6b",
   "metadata": {},
   "source": [
    "### Nierówność Hadamarda \n",
    "\n",
    "Ograniczenie górne na wartość wyznacznika znane jest jako nierówność Hadamarda. To ją wykorzystamy. \n",
    "\n",
    "Zaimplementuj funkcję `hadamard_bounding(M)`, która przyjmuję na wejściu macierz $M$ i zwraca ograniczenie górne (całkowitoliczbowe) na jej wyznacznik."
   ]
  },
  {
   "cell_type": "code",
   "execution_count": null,
   "id": "7aa7aef1",
   "metadata": {},
   "outputs": [
    {
     "data": {
      "text/plain": [
       "hadamard_bounding (generic function with 1 method)"
      ]
     },
     "metadata": {},
     "output_type": "display_data"
    }
   ],
   "source": [
    "function hadamard_bounding(M)\n",
    "end"
   ]
  },
  {
   "cell_type": "markdown",
   "id": "5af14106",
   "metadata": {},
   "source": [
    "### Testy poprawności działania \n",
    "\n",
    "(na bardzo pojedynczych przykładach)"
   ]
  },
  {
   "cell_type": "code",
   "execution_count": 41,
   "id": "afdf0298",
   "metadata": {},
   "outputs": [
    {
     "data": {
      "text/plain": [
       "test_hadamard (generic function with 1 method)"
      ]
     },
     "metadata": {},
     "output_type": "display_data"
    }
   ],
   "source": [
    "function test_hadamard()\n",
    "    M1 = [3 1 -2; 2 -3 -1;1 3 0]\n",
    "    M2 = reshape(1:16, 4, 4)\n",
    "    M3 = [87  42  73  10; 25  11  99  58; 67  30  14  77; 92  51  60  18 ]\n",
    "    @assert hadamard_bounding(M1) == 141 \"error in M1\"\n",
    "    @assert hadamard_bounding(M2) == 1048576 \"error in M2\"\n",
    "    @assert hadamard_bounding(M3) == 1536953616 \"error in M3\"\n",
    "    println(\"Test passed!\")\n",
    "end"
   ]
  },
  {
   "cell_type": "code",
   "execution_count": 42,
   "id": "5f8cf9b0",
   "metadata": {},
   "outputs": [
    {
     "name": "stdout",
     "output_type": "stream",
     "text": [
      "Test passed!\n"
     ]
    }
   ],
   "source": [
    "test_hadamard()"
   ]
  },
  {
   "cell_type": "markdown",
   "id": "859d8c40",
   "metadata": {},
   "source": [
    "### Odwrotność elementu w ciele $\\mathbb{Z}_p$ \n",
    "Zaimplementuj funkcje `my_inverse(a,p)`, która przyjmuje zwraca odwrotność liczby $a$ względem mnożenia w ciele $\\mathbb{Z}_p$."
   ]
  },
  {
   "cell_type": "code",
   "execution_count": null,
   "id": "cae554b2",
   "metadata": {},
   "outputs": [
    {
     "data": {
      "text/plain": [
       "my_inverse (generic function with 1 method)"
      ]
     },
     "metadata": {},
     "output_type": "display_data"
    }
   ],
   "source": [
    "function my_inverse(a,p)\n",
    "end"
   ]
  },
  {
   "cell_type": "markdown",
   "id": "d262a185",
   "metadata": {},
   "source": [
    "### Eliminacja Gaussa Modulo p\n",
    "Zaimplementuj funkcję `gauss_modulo(M,n,p)`, która liczy wyznacznik macierzy $M$ o rozmiarze $n \\times n$ modulo $p$."
   ]
  },
  {
   "cell_type": "code",
   "execution_count": null,
   "id": "8bc352f1",
   "metadata": {},
   "outputs": [
    {
     "data": {
      "text/plain": [
       "gauss_modulo (generic function with 1 method)"
      ]
     },
     "metadata": {},
     "output_type": "display_data"
    }
   ],
   "source": [
    "function gauss_modulo(M,n,p)\n",
    "end"
   ]
  },
  {
   "cell_type": "markdown",
   "id": "67acc485",
   "metadata": {},
   "source": [
    "### Dobór liczb pierwszych\n",
    "\n",
    "\n",
    "Zaimplementuj funkcje `get_primes(BOUND)`, która zwraca tablicę liczb pierwszych, których iloczyn jest większy niż `BOUND`. Dodatkowo, powinna zwracać wartość tego iloczynu. \n",
    "\n",
    "Narazie rozważmy najprostszą implementacje - skorzystajmy z tablicy `PRIMES`. Bierzmy kolejne liczby pierwsze od początku, aż ich iloczyn nie będzie odpowiednio duży."
   ]
  },
  {
   "cell_type": "code",
   "execution_count": null,
   "id": "82436bbc",
   "metadata": {},
   "outputs": [
    {
     "data": {
      "text/plain": [
       "get_primes (generic function with 1 method)"
      ]
     },
     "metadata": {},
     "output_type": "display_data"
    }
   ],
   "source": [
    "function get_primes(BOUND)\n",
    "end"
   ]
  },
  {
   "cell_type": "markdown",
   "id": "a9e93fec",
   "metadata": {},
   "source": [
    "### Liczenie wyznacznika Macierzy Całkowitoliczbowej.\n",
    "\n",
    "Zaimplementuj funkcję `modular_determinant(M)` która liczy wyznacznik macierzy całkowitoliczbowej $M$ wykorzystując obliczenia modulo wiele liczb pierwszych $p$.\n"
   ]
  },
  {
   "cell_type": "code",
   "execution_count": null,
   "id": "d864fb27",
   "metadata": {},
   "outputs": [
    {
     "data": {
      "text/plain": [
       "modular_determinant (generic function with 1 method)"
      ]
     },
     "metadata": {},
     "output_type": "display_data"
    }
   ],
   "source": [
    "function modular_determinant(M)\n",
    "end"
   ]
  },
  {
   "cell_type": "markdown",
   "id": "fe3f5993",
   "metadata": {},
   "source": [
    "### Testy poprawności działania\n",
    "\n",
    "Sprawdźmy na losowo generowanych danych, poprawność wynikow zwracanych przez `modular_determinant`"
   ]
  },
  {
   "cell_type": "code",
   "execution_count": 47,
   "id": "edf41af2",
   "metadata": {},
   "outputs": [
    {
     "data": {
      "text/plain": [
       "test_modulo_determinant (generic function with 1 method)"
      ]
     },
     "metadata": {},
     "output_type": "display_data"
    }
   ],
   "source": [
    "function test_modulo_determinant()\n",
    "    for i=1:50\n",
    "        n = rand(1:30)\n",
    "        M = rand(BigInt(-10):BigInt(10),n,n)\n",
    "        x = modular_determinant(M)\n",
    "        y = det(M) \n",
    "        @assert isapprox(x,y) \"$x, $y\"\n",
    "    end\n",
    "    println(\"Test passed!\")\n",
    "end"
   ]
  },
  {
   "cell_type": "code",
   "execution_count": 48,
   "id": "044315d9",
   "metadata": {},
   "outputs": [
    {
     "name": "stdout",
     "output_type": "stream",
     "text": [
      "Test passed!\n"
     ]
    }
   ],
   "source": [
    "test_modulo_determinant()"
   ]
  },
  {
   "cell_type": "markdown",
   "id": "bbaed1ea",
   "metadata": {},
   "source": [
    "### Testy wydajności\n",
    "\n",
    "W celu zmierzenia wydajnośći, będziemy porównywać się do zaimplementowanej tu funkcji `gauss_determinant(M)`. \n",
    "Funkcja ta, realizuje wspomniane wcześniej prostsze podejście pozwalające na implementację dokładnego algorytmu liczenia wyznacznika.\n",
    "Julia posiada typ liczby wymiernej - `Rational`, który operuje na liczbach wymiernych bez błędów przybliżeń. \n",
    "Poniższy algorytm to po prostu liczenie wyznacznika eliminacją gaussa ale zapisując dzielenie na liczbach wymiernych w sposób dokładny. "
   ]
  },
  {
   "cell_type": "code",
   "execution_count": 49,
   "id": "2debcbb8",
   "metadata": {},
   "outputs": [
    {
     "data": {
      "text/plain": [
       "gauss_determinant (generic function with 1 method)"
      ]
     },
     "metadata": {},
     "output_type": "display_data"
    }
   ],
   "source": [
    "function gauss_determinant(M)\n",
    "    n = size(M,1)\n",
    "    A = Rational{BigInt}.(copy(M))\n",
    "    det = 1.0  \n",
    "\n",
    "    for k in 1:n-1\n",
    "        max_row = k\n",
    "        max_val = abs(A[k, k])\n",
    "        for i in k+1:n\n",
    "            if abs(A[i, k]) > max_val\n",
    "                max_val = abs(A[i, k])\n",
    "                max_row = i\n",
    "            end\n",
    "        end\n",
    "\n",
    "        if max_row != k\n",
    "            A[[k, max_row], :] = A[[max_row, k], :]\n",
    "            det *= -1\n",
    "        end\n",
    "\n",
    "        if A[k, k] == 0\n",
    "            return 0.0\n",
    "        end\n",
    "\n",
    "        for i in k+1:n\n",
    "            factor = A[i, k] / A[k, k]\n",
    "            A[i, k:end] .-= factor * A[k, k:end]\n",
    "        end\n",
    "    end\n",
    "\n",
    "    for i in 1:n\n",
    "        det *= A[i, i]\n",
    "    end\n",
    "\n",
    "    return det\n",
    "end\n"
   ]
  },
  {
   "cell_type": "markdown",
   "id": "6b2b2216",
   "metadata": {},
   "source": [
    "Porównajmy wyniki dla losowej macierzy 100 x 100"
   ]
  },
  {
   "cell_type": "code",
   "execution_count": 50,
   "id": "e35b06a8",
   "metadata": {},
   "outputs": [
    {
     "name": "stdout",
     "output_type": "stream",
     "text": [
      " 34.701215 seconds (546.06 M allocations: 13.533 GiB, 28.19% gc time)\n",
      "  2.650054 seconds (7.02 M allocations: 347.105 MiB, 14.11% gc time, 17.63% compilation time)\n"
     ]
    }
   ],
   "source": [
    "n = 100\n",
    "M = rand(BigInt(-10000):BigInt(10000),n,n)\n",
    "\n",
    "@time  a = modular_determinant(M)\n",
    "@time  b = gauss_determinant(M)\n",
    "@assert isapprox(a,b) "
   ]
  },
  {
   "cell_type": "markdown",
   "id": "d3c0a2f1",
   "metadata": {},
   "source": [
    "Jak widać pierwsze wnioski jakie można wyciągnąć, to że ten pomysł jest zupełnie nieopłacalny.\n",
    "\n",
    "Sprawdźmy z ciekawości, jak jeszcze radzi sobie funkcja wbudowana"
   ]
  },
  {
   "cell_type": "code",
   "execution_count": 51,
   "id": "105cae54",
   "metadata": {},
   "outputs": [
    {
     "name": "stdout",
     "output_type": "stream",
     "text": [
      "  0.245862 seconds (3.59 M allocations: 171.782 MiB, 1.58% compilation time)\n"
     ]
    },
    {
     "data": {
      "text/plain": [
       "1861502978808209722133763105337800511553052634997569170147661521890334067595534119200260979039270601833440599529103236168008889527426215743984748226094515981743452477814011904582089705372300864655037770058511883675920049679872823416094218044593626055040883878679853867705903079708558842415182703884275931237603346070123720919305484141621367758125722101769895942255528646345134213361168806848289438003152722284503219325886546211312867546158673402800066798"
      ]
     },
     "metadata": {},
     "output_type": "display_data"
    }
   ],
   "source": [
    "@time det(M)"
   ]
  },
  {
   "cell_type": "markdown",
   "id": "515ab675",
   "metadata": {},
   "source": [
    "### Zmiana sposobu doboru liczb pierwszych.\n",
    "\n",
    "Obecnie funkcja `get_primes` rozważa kolejne liczby pierwsze od początku - to są bardzo małe wartości. Dlatego bierzemy ich bardzo dużo i całość jest nieopłacalna. \n",
    "\n",
    "Okazuje się jednak, że operacje modulo na ogromnych liczbach, wcale nie są wiele wolniejsze. Dzięki temu, możemy znacznie zmniejszyć liczbę liczonych osobno modulo.\n",
    "\n",
    "Najpierw wygenerujmy pierwsze 1000 liczb pierwszych większych od $2^{500}$.\n"
   ]
  },
  {
   "cell_type": "code",
   "execution_count": 52,
   "id": "ef34dc38",
   "metadata": {},
   "outputs": [
    {
     "data": {
      "text/plain": [
       "get_big_primes (generic function with 3 methods)"
      ]
     },
     "metadata": {},
     "output_type": "display_data"
    }
   ],
   "source": [
    "function get_big_primes(k=1000,exp=500)\n",
    "    BIGPRIMES = BigInt[]\n",
    "    p = nextprime(BigInt(2)^exp)\n",
    "    for i=1:k \n",
    "        push!(BIGPRIMES,p)\n",
    "        p = nextprime(p+1)\n",
    "    end \n",
    "    return BIGPRIMES\n",
    "end"
   ]
  },
  {
   "cell_type": "code",
   "execution_count": 53,
   "id": "9f803b87",
   "metadata": {},
   "outputs": [
    {
     "data": {
      "text/plain": [
       "1000-element Vector{BigInt}:\n",
       " 3273390607896141870013189696827599152216642046043064789483291368096133796404674554883270092325904157150886684127560071009217256545885393053328527589431\n",
       " 3273390607896141870013189696827599152216642046043064789483291368096133796404674554883270092325904157150886684127560071009217256545885393053328527589511\n",
       " 3273390607896141870013189696827599152216642046043064789483291368096133796404674554883270092325904157150886684127560071009217256545885393053328527589697\n",
       " 3273390607896141870013189696827599152216642046043064789483291368096133796404674554883270092325904157150886684127560071009217256545885393053328527589929\n",
       " 3273390607896141870013189696827599152216642046043064789483291368096133796404674554883270092325904157150886684127560071009217256545885393053328527589973\n",
       " 3273390607896141870013189696827599152216642046043064789483291368096133796404674554883270092325904157150886684127560071009217256545885393053328527590451\n",
       " 3273390607896141870013189696827599152216642046043064789483291368096133796404674554883270092325904157150886684127560071009217256545885393053328527590649\n",
       " 3273390607896141870013189696827599152216642046043064789483291368096133796404674554883270092325904157150886684127560071009217256545885393053328527590993\n",
       " 3273390607896141870013189696827599152216642046043064789483291368096133796404674554883270092325904157150886684127560071009217256545885393053328527591197\n",
       " 3273390607896141870013189696827599152216642046043064789483291368096133796404674554883270092325904157150886684127560071009217256545885393053328527591287\n",
       "                                                                                                                                                       ⋮\n",
       " 3273390607896141870013189696827599152216642046043064789483291368096133796404674554883270092325904157150886684127560071009217256545885393053328527945507\n",
       " 3273390607896141870013189696827599152216642046043064789483291368096133796404674554883270092325904157150886684127560071009217256545885393053328527946481\n",
       " 3273390607896141870013189696827599152216642046043064789483291368096133796404674554883270092325904157150886684127560071009217256545885393053328527947043\n",
       " 3273390607896141870013189696827599152216642046043064789483291368096133796404674554883270092325904157150886684127560071009217256545885393053328527947171\n",
       " 3273390607896141870013189696827599152216642046043064789483291368096133796404674554883270092325904157150886684127560071009217256545885393053328527947327\n",
       " 3273390607896141870013189696827599152216642046043064789483291368096133796404674554883270092325904157150886684127560071009217256545885393053328527947901\n",
       " 3273390607896141870013189696827599152216642046043064789483291368096133796404674554883270092325904157150886684127560071009217256545885393053328527948051\n",
       " 3273390607896141870013189696827599152216642046043064789483291368096133796404674554883270092325904157150886684127560071009217256545885393053328527948081\n",
       " 3273390607896141870013189696827599152216642046043064789483291368096133796404674554883270092325904157150886684127560071009217256545885393053328527948803"
      ]
     },
     "metadata": {},
     "output_type": "display_data"
    }
   ],
   "source": [
    "BIGPRIMES = get_big_primes()"
   ]
  },
  {
   "cell_type": "markdown",
   "id": "035e9f89",
   "metadata": {},
   "source": [
    "Teraz, zmodyfikujmy funkcję `get_primes` z której korzysta funkcja `modular_determinant`. Będziemy po prostu brać kolejne liczby pierwsze, ale z listy `BIGPRIMES`."
   ]
  },
  {
   "cell_type": "code",
   "execution_count": 54,
   "id": "d2a1053c",
   "metadata": {},
   "outputs": [
    {
     "data": {
      "text/plain": [
       "get_primes (generic function with 1 method)"
      ]
     },
     "metadata": {},
     "output_type": "display_data"
    }
   ],
   "source": [
    "function get_primes(BOUND)\n",
    "    P = 1\n",
    "    i = 0\n",
    "    while P <= BOUND\n",
    "        i+=1\n",
    "        P*= BIGPRIMES[i]\n",
    "    end\n",
    "    return BIGPRIMES[1:i],P\n",
    "end"
   ]
  },
  {
   "cell_type": "markdown",
   "id": "8ef521dd",
   "metadata": {},
   "source": [
    "Spróbujmy teraz porównać czasy działania"
   ]
  },
  {
   "cell_type": "code",
   "execution_count": 55,
   "id": "f76c8e0f",
   "metadata": {},
   "outputs": [
    {
     "name": "stdout",
     "output_type": "stream",
     "text": [
      "  0.065388 seconds (845.42 k allocations: 43.387 MiB, 33.28% compilation time: 100% of which was recompilation)\n",
      "  0.114428 seconds (775.83 k allocations: 33.548 MiB)\n",
      "  0.016530 seconds (440.47 k allocations: 16.050 MiB)\n"
     ]
    }
   ],
   "source": [
    "n = 50\n",
    "M = rand(BigInt(-100000):BigInt(100000),n,n)\n",
    "\n",
    "@time  a = modular_determinant(M)\n",
    "@time  b = gauss_determinant(M)\n",
    "@time det(M)\n",
    "\n",
    "@assert isapprox(a,b) "
   ]
  },
  {
   "cell_type": "markdown",
   "id": "1de56dc6",
   "metadata": {},
   "source": [
    "Jak widać, to dużo zmieniło. Juz dla $n=50$ widać nasz algorytm radzi sobie sporo lepiej od naiwnego.\n",
    "\n",
    "\n",
    "Coraz większe różnicę widać dla coraz większych macierzy. Ogólnie ten algorytm ma zastosowanie dla naprawdę dużych danych.\n",
    "\n",
    "\n",
    "Spróbujmy policzyć dla jeszcze trochę większego przykładu (Uwaga - u mnie to trwało ok.7 minut.)"
   ]
  },
  {
   "cell_type": "code",
   "execution_count": 97,
   "id": "fde0cb12",
   "metadata": {},
   "outputs": [
    {
     "name": "stdout",
     "output_type": "stream",
     "text": [
      "136.984036 seconds (1.24 G allocations: 64.303 GiB, 23.05% gc time)\n",
      "248.020029 seconds (163.12 M allocations: 15.992 GiB, 2.16% gc time)\n",
      " 33.842999 seconds (98.42 M allocations: 13.933 GiB, 9.83% gc time)\n"
     ]
    }
   ],
   "source": [
    "n = 300\n",
    "M = rand(BigInt(-10^6):BigInt(10^6),n,n)\n",
    "\n",
    "@time  a = modular_determinant(M)\n",
    "@time  b = gauss_determinant(M)\n",
    "@time det(M)\n",
    "\n",
    "@assert isapprox(a,b) "
   ]
  },
  {
   "cell_type": "markdown",
   "id": "a7ddc598",
   "metadata": {},
   "source": [
    "Przy okazji, zauważmy o jakiej skali liczb mówimy. Oczywiście, wszystko zależy od tego, jaka macierz zostanie wylosowana, ale poniższe wyrażenie w moim przypadku zwraca prawdę."
   ]
  },
  {
   "cell_type": "code",
   "execution_count": 103,
   "id": "29b1027d",
   "metadata": {},
   "outputs": [
    {
     "data": {
      "text/plain": [
       "true"
      ]
     },
     "metadata": {},
     "output_type": "display_data"
    }
   ],
   "source": [
    "abs(a) > BigInt(2)^5000"
   ]
  },
  {
   "cell_type": "markdown",
   "id": "d48bf1bd",
   "metadata": {},
   "source": [
    "### Implementacja na Ciałach Skończonych\n",
    "\n",
    "W ramach zabawy, polecam spróbować przepisać implementację `gauss_modulo` oraz `modular_determinant` na takie, żeby bezpośrednio korzystały z implementacji ciał skończonych z paczki `Oscar`. \n",
    "\n",
    "Dzięki temu, zapis samych operacji staje się trochę prostszy, redukcje modulo dzieją się pod spodem, a nie musimy ich bezpośrednio zapisywać. \n",
    "\n",
    "Warto zaznaczyć, że takie podejście jest raczej wolniejsze. \n",
    "\n",
    "Poniżej kilka linijek kodu, które pokażą podstawowe operacje na elementach ciała skończonego. Jeżeli potrzeba więcej informacji, zachęcam do przeszukiwania dokumentacji."
   ]
  },
  {
   "cell_type": "code",
   "execution_count": null,
   "id": "6f7702c5",
   "metadata": {},
   "outputs": [
    {
     "name": "stdout",
     "output_type": "stream",
     "text": [
      "a = 5, b = 3\n",
      "a + b = 1\n",
      "A2 = [2 1 2; 3 4 3; 2 5 4]\n",
      "a = 5, typ a: FqFieldElem\n",
      "c = 5, typ c: ZZRingElem\n"
     ]
    }
   ],
   "source": [
    "# Stworzenie ciała skończonego 7 elementowego (izomorficznego z Z_7)\n",
    "F = GF(7)\n",
    "\n",
    "# Zrzutowanie liczb całkowitych na elementy ciała \n",
    "a = F(12)\n",
    "b = F(3)\n",
    "println(\"a = $a, b = $b\")\n",
    "println(\"a + b = $(a+b)\")\n",
    "\n",
    "# Zrzutowanie całej macierzy:\n",
    "A = [-5 1 2; 3 4 10; 9 -100 4]\n",
    "A2 = matrix(F,A)\n",
    "println(\"A2 = $(A2)\")\n",
    "\n",
    "#\"podniesienie\" elementu z ciala na element z liczb calkowitych: (prawdopodobnie implementacja congruence_system_newton/lagrange nie bedzie działać na elemnetach z ciała ale na ZZelem już tak)\n",
    "println(\"a = $a, typ a: $(typeof(a))\")\n",
    "c = lift(ZZ,a)\n",
    "println(\"c = $c, typ c: $(typeof(c))\")"
   ]
  },
  {
   "cell_type": "markdown",
   "id": "99624ab9",
   "metadata": {},
   "source": [
    "UWAGA! na elementach ciała skończonego nie ma zdefiniowanego porządku - przez to nie działa porównywanie po wartościach. Można się zastanowić dlaczego jest tak, a nie inaczej."
   ]
  },
  {
   "cell_type": "code",
   "execution_count": 65,
   "id": "46967367",
   "metadata": {},
   "outputs": [
    {
     "ename": "MethodError",
     "evalue": "MethodError: no method matching isless(::FqFieldElem, ::FqFieldElem)\nThe function `isless` exists, but no method is defined for this combination of argument types.\n\nClosest candidates are:\n  isless(!Matched::Missing, ::Any)\n   @ Base missing.jl:87\n  isless(::Any, !Matched::Missing)\n   @ Base missing.jl:88\n  isless(!Matched::EmbeddedNumFieldElem, ::Any)\n   @ Hecke ~/.julia/packages/Hecke/fZhGW/src/NumField/Embedded.jl:144\n  ...\n",
     "output_type": "error",
     "traceback": [
      "MethodError: no method matching isless(::FqFieldElem, ::FqFieldElem)\n",
      "The function `isless` exists, but no method is defined for this combination of argument types.\n",
      "\n",
      "Closest candidates are:\n",
      "  isless(!Matched::Missing, ::Any)\n",
      "   @ Base missing.jl:87\n",
      "  isless(::Any, !Matched::Missing)\n",
      "   @ Base missing.jl:88\n",
      "  isless(!Matched::EmbeddedNumFieldElem, ::Any)\n",
      "   @ Hecke ~/.julia/packages/Hecke/fZhGW/src/NumField/Embedded.jl:144\n",
      "  ...\n",
      "\n",
      "\n",
      "Stacktrace:\n",
      " [1] <(x::FqFieldElem, y::FqFieldElem)\n",
      "   @ Base ./operators.jl:353\n",
      " [2] >(x::FqFieldElem, y::FqFieldElem)\n",
      "   @ Base ./operators.jl:379\n",
      " [3] top-level scope\n",
      "   @ ~/repos/AK-Laboratoria/jl_notebook_cell_df34fa98e69747e1a8f8a730347b8e2f_Y251sdnNjb2RlLXJlbW90ZQ==.jl:1"
     ]
    }
   ],
   "source": [
    "a > b"
   ]
  },
  {
   "cell_type": "markdown",
   "id": "38baa6fc",
   "metadata": {},
   "source": [
    "Funkcja `gauss_finite_field(A)` przyjmuje macierz $A$ i zwraca jej wyznacznik liczony metodą gaussa. \n",
    "\n",
    "Z założenia macierz $A$ powinna być macierzą o elementach z ciała skończonego "
   ]
  },
  {
   "cell_type": "code",
   "execution_count": null,
   "id": "4b71a0e0",
   "metadata": {},
   "outputs": [
    {
     "data": {
      "text/plain": [
       "gauss_finite_field (generic function with 1 method)"
      ]
     },
     "metadata": {},
     "output_type": "display_data"
    }
   ],
   "source": [
    "function gauss_finite_field(A)\n",
    "end"
   ]
  },
  {
   "cell_type": "markdown",
   "id": "ad5f48b1",
   "metadata": {},
   "source": [
    "Funkcja `modular_determinant_finite_field(M)` przyjmuje macierz całkowitoliczbową $M$ i zwraca jej wyznacznik rzutując wielokrotnie macierz $M$ na macierze z ciał skończonych."
   ]
  },
  {
   "cell_type": "code",
   "execution_count": null,
   "id": "f50703f5",
   "metadata": {},
   "outputs": [
    {
     "data": {
      "text/plain": [
       "modular_determinant_finite_field (generic function with 1 method)"
      ]
     },
     "metadata": {},
     "output_type": "display_data"
    }
   ],
   "source": [
    "function modular_determinant_finite_field(M)\n",
    "end"
   ]
  },
  {
   "cell_type": "markdown",
   "id": "ca42fdcd",
   "metadata": {},
   "source": [
    "### Testy poprawności działania\n",
    "Sprawdźmy na losowych danych, zgodność działania z funkcją biblioteczną."
   ]
  },
  {
   "cell_type": "code",
   "execution_count": 144,
   "id": "266e7aea",
   "metadata": {},
   "outputs": [
    {
     "data": {
      "text/plain": [
       "test_modulo_determinant_finite_field (generic function with 1 method)"
      ]
     },
     "metadata": {},
     "output_type": "display_data"
    }
   ],
   "source": [
    "function test_modulo_determinant_finite_field()\n",
    "    for i=1:30\n",
    "        n = rand(1:30)\n",
    "        M = rand(BigInt(-100):BigInt(100),n,n)\n",
    "        x = BigInt(modular_determinant_finite_field(M))\n",
    "        y = det(M) \n",
    "        @assert isapprox(x,y) \"$x, $y\"\n",
    "    end\n",
    "    println(\"Test passed!\")\n",
    "end"
   ]
  },
  {
   "cell_type": "code",
   "execution_count": 145,
   "id": "d03199ee",
   "metadata": {},
   "outputs": [
    {
     "name": "stdout",
     "output_type": "stream",
     "text": [
      "Test passed!\n"
     ]
    }
   ],
   "source": [
    "test_modulo_determinant_finite_field()"
   ]
  },
  {
   "cell_type": "markdown",
   "id": "89700ce3",
   "metadata": {},
   "source": [
    "# Zadanie Dodatkowe - szybkie mnożenie wielomianów o współczynnikach całkowitych za pomocą szybkiej transformacji Fouriera.\n",
    "\n",
    "Zauważmy, że pomysł, który stosujemy przy liczeniu wyznacznika macierzy całkowitoliczbowej, jest bardzo łatwo rozszerzalny na inne problemy. O ile tylko potrafimy znaleźć ograniczenie górne naszego wyniku oraz nie ma znaczenia, czy najpierw dokonamy redukcji modulo, a później policzymy naszą funkcję, czy na odwrót, to jesteśmy w stanie zastosować analogiczny mechanizm. \n",
    "\n",
    "Rozważmy dwa wielomiany $f,g  \\in \\mathbb{Z}[x]$. W oczywisty sposób $f \\cdot g \\in \\mathbb{Z}$. \n",
    "\n",
    "Klasyczne mnożenie wielomianów, jak \"mnożenie w słupku\" ma złożoność kwadratową.\n",
    "\n",
    "Okazuje się jednak, że wykorzystując algorytm szybkiej transformacji Fouriera, można zredukować tę złożoność do liniowo-logarytmicznej.\n",
    "\n",
    "Niestety  tracimy wtedy na precyzji - klasyczna implementacja sprawia, że natrafiamy na niedokładnie reprezentowane liczby zmiennoprzecinkowe i wynik mnożenia dwóch wielomianów o współczynnikach całkowitych posiada niecałkowite czynniki.\n",
    "\n",
    "Ponownie, można się pozbyć tego problemu wykorzystując operacje na elementach z ciał skończonych.\n",
    "\n",
    "Przykładowe materialy o mnożeniu wielomianów za pomocą fft:\n",
    "- [Eric Bannatyne - CS Toronto Algorithm Design, Analysis & Complexit notes, 2017](https://www.cs.toronto.edu/~denisp/csc373/docs/tutorial3-adv-writeup.pdf)\n",
    "- [Geeks for Geeks - Fast Fourier Transformation for polynomial multiplication, 2023](https://www.geeksforgeeks.org/fast-fourier-transformation-poynomial-multiplication/), \n",
    "- [Przemysław Koprowski -  Wykład z Matematyki , 20202](https://www.youtube.com/watch?v=A_qRvhf_z-E), \n",
    "- [Michał Dobranowski - Notatki, 2022](https://mdbrnowski.github.io/notes/pdf/fft.pdf)\n",
    "\n",
    "Dla jasności - żadnych z tych materiałów nie czytałem."
   ]
  }
 ],
 "metadata": {
  "kernelspec": {
   "display_name": "Julia 1.11.5",
   "language": "julia",
   "name": "julia-1.11"
  },
  "language_info": {
   "file_extension": ".jl",
   "mimetype": "application/julia",
   "name": "julia",
   "version": "1.11.5"
  }
 },
 "nbformat": 4,
 "nbformat_minor": 5
}
