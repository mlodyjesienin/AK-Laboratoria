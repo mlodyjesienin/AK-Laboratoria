{
 "cells": [
  {
   "cell_type": "code",
   "execution_count": 1,
   "id": "8cbd3acc",
   "metadata": {},
   "outputs": [
    {
     "name": "stdout",
     "output_type": "stream",
     "text": [
      "\r"
     ]
    }
   ],
   "source": [
    "using Oscar\n",
    "using Random\n",
    "using Test"
   ]
  },
  {
   "cell_type": "markdown",
   "id": "848dac91",
   "metadata": {},
   "source": [
    "## Rozwiązywanie układów kongruencji"
   ]
  },
  {
   "cell_type": "code",
   "execution_count": 6,
   "id": "ae13746d",
   "metadata": {},
   "outputs": [
    {
     "data": {
      "text/plain": [
       "3"
      ]
     },
     "metadata": {},
     "output_type": "display_data"
    }
   ],
   "source": [
    "gcdx(5,7)\n",
    "\n",
    "a = 5 \n",
    "X = Matrix{typeof(a)}(undef,3,5)\n",
    "A = [1,2,3]\n",
    "length(A)"
   ]
  },
  {
   "cell_type": "markdown",
   "id": "f49294a7",
   "metadata": {},
   "source": [
    "### Metoda Lagrange'a"
   ]
  },
  {
   "cell_type": "code",
   "execution_count": 95,
   "id": "f0634c64",
   "metadata": {},
   "outputs": [
    {
     "data": {
      "text/plain": [
       "congruence_system (generic function with 1 method)"
      ]
     },
     "metadata": {},
     "output_type": "display_data"
    }
   ],
   "source": [
    "function congruence_system(m,a)\n",
    "    k = length(m)     \n",
    "    δ = fill(zero(m[1]),k,k)\n",
    "    for i=1:k\n",
    "        for j=i+1:k\n",
    "            _, δ[i,j], δ[j,i] = gcdx(m[i],m[j])\n",
    "        end\n",
    "    end\n",
    "    M = prod(m)\n",
    "    A = []\n",
    "    for i=1:k\n",
    "        Δ = prod(δ[j, i] for j in 1:size(δ, 1) if j != i)\n",
    "        x = div(M,m[i]) \n",
    "        push!(A,Δ*x)\n",
    "    end\n",
    "    return mod(sum(a .* A),M)  \n",
    "end"
   ]
  },
  {
   "cell_type": "code",
   "execution_count": 114,
   "id": "e5ec2a9c",
   "metadata": {},
   "outputs": [
    {
     "data": {
      "text/html": [
       "x - 2"
      ],
      "text/latex": [
       "x - 2"
      ],
      "text/plain": [
       "x - 2"
      ]
     },
     "metadata": {},
     "output_type": "display_data"
    }
   ],
   "source": [
    "R,x = QQ[:x]\n",
    "f = x\n",
    "g = x -1\n",
    "h = x -2"
   ]
  },
  {
   "cell_type": "code",
   "execution_count": 115,
   "id": "29adc4ac",
   "metadata": {},
   "outputs": [
    {
     "data": {
      "text/html": [
       "-x^2 + 2*x"
      ],
      "text/latex": [
       "-x^{2} + 2 x"
      ],
      "text/plain": [
       "-x^2 + 2*x"
      ]
     },
     "metadata": {},
     "output_type": "display_data"
    }
   ],
   "source": [
    "congruence_system([f,g,h],[0,1,0])"
   ]
  },
  {
   "cell_type": "code",
   "execution_count": 88,
   "id": "5db3e1b2",
   "metadata": {},
   "outputs": [
    {
     "data": {
      "text/plain": [
       "41"
      ]
     },
     "metadata": {},
     "output_type": "display_data"
    }
   ],
   "source": [
    "m = [5,7,9]\n",
    "a = [1,6,5]\n",
    "x = congruence_system(m,a)"
   ]
  },
  {
   "cell_type": "markdown",
   "id": "3b3d5eb0",
   "metadata": {},
   "source": [
    "### Metoda Przyrostowy \n",
    "Algorytm pomocniczy"
   ]
  },
  {
   "cell_type": "code",
   "execution_count": 110,
   "id": "2a9bea8f",
   "metadata": {},
   "outputs": [
    {
     "data": {
      "text/plain": [
       "congruence_two (generic function with 1 method)"
      ]
     },
     "metadata": {},
     "output_type": "display_data"
    }
   ],
   "source": [
    "function congruence_two(m,a)\n",
    "    _, α, β = gcdx(m[1], m[2])\n",
    "    r = mod(a[1],m[1])\n",
    "    b = (a[2] - r)*α \n",
    "    s = mod(b,m[2])\n",
    "    return r + s*m[1]\n",
    "end"
   ]
  },
  {
   "cell_type": "code",
   "execution_count": 112,
   "id": "a9d43900",
   "metadata": {},
   "outputs": [
    {
     "data": {
      "text/plain": [
       "6"
      ]
     },
     "metadata": {},
     "output_type": "display_data"
    }
   ],
   "source": [
    "congruence_two([3,5], [0,1])"
   ]
  },
  {
   "cell_type": "code",
   "execution_count": 134,
   "id": "f34e1f7b",
   "metadata": {},
   "outputs": [
    {
     "data": {
      "text/plain": [
       "congruence_system_newton (generic function with 1 method)"
      ]
     },
     "metadata": {},
     "output_type": "display_data"
    }
   ],
   "source": [
    "function congruence_system_newton(m,a)\n",
    "    Ring = parent(m[1])\n",
    "    a = Ring.(a)\n",
    "    k = length(m)\n",
    "    M = Ring(1)\n",
    "    A = Ring(1)\n",
    "    for i=1:k\n",
    "        b = congruence_two([M,m[i]], [A, a[i]])\n",
    "        A = b \n",
    "        M *= m[i] \n",
    "    end\n",
    "    return A \n",
    "end"
   ]
  },
  {
   "cell_type": "code",
   "execution_count": 135,
   "id": "5aeef7f4",
   "metadata": {},
   "outputs": [
    {
     "data": {
      "text/plain": [
       "41"
      ]
     },
     "metadata": {},
     "output_type": "display_data"
    }
   ],
   "source": [
    "m = [5,7,9]\n",
    "a = [1,6,5]\n",
    "congruence_system_newton(m,a)"
   ]
  },
  {
   "cell_type": "code",
   "execution_count": 136,
   "id": "01b5e7c2",
   "metadata": {},
   "outputs": [
    {
     "data": {
      "text/html": [
       "x^2"
      ],
      "text/latex": [
       "x^{2}"
      ],
      "text/plain": [
       "x^2"
      ]
     },
     "metadata": {},
     "output_type": "display_data"
    }
   ],
   "source": [
    "R,x = QQ[:x]\n",
    "f = x\n",
    "g = x - 1\n",
    "h = x - 2\n",
    "congruence_system_newton([f,g,h],[0,1,4])"
   ]
  },
  {
   "cell_type": "code",
   "execution_count": 124,
   "id": "3392cc75",
   "metadata": {},
   "outputs": [
    {
     "data": {
      "text/html": [
       "2"
      ],
      "text/latex": [
       "2"
      ],
      "text/plain": [
       "2"
      ]
     },
     "metadata": {},
     "output_type": "display_data"
    }
   ],
   "source": [
    "R(2)"
   ]
  },
  {
   "cell_type": "code",
   "execution_count": 141,
   "id": "b794fe0c",
   "metadata": {},
   "outputs": [
    {
     "ename": "ErrorException",
     "evalue": "syntax: \"bin(38)\" is not a valid function argument name around /home/mlodyjesienin/repos/AK-Laboratoria/jl_notebook_cell_df34fa98e69747e1a8f8a730347b8e2f_X23sdnNjb2RlLXJlbW90ZQ==.jl:1",
     "output_type": "error",
     "traceback": [
      "syntax: \"bin(38)\" is not a valid function argument name around /home/mlodyjesienin/repos/AK-Laboratoria/jl_notebook_cell_df34fa98e69747e1a8f8a730347b8e2f_X23sdnNjb2RlLXJlbW90ZQ==.jl:1\n",
      "\n",
      "Stacktrace:\n",
      " [1] top-level scope\n",
      "   @ ~/repos/AK-Laboratoria/jl_notebook_cell_df34fa98e69747e1a8f8a730347b8e2f_X23sdnNjb2RlLXJlbW90ZQ==.jl:1"
     ]
    }
   ],
   "source": [
    "bin(38)x = 10\n",
    "bits = bin(x)  # \"1010\"\n"
   ]
  },
  {
   "cell_type": "code",
   "execution_count": null,
   "id": "ba44695a",
   "metadata": {},
   "outputs": [],
   "source": []
  }
 ],
 "metadata": {
  "kernelspec": {
   "display_name": "Julia 1.11.5",
   "language": "julia",
   "name": "julia-1.11"
  },
  "language_info": {
   "file_extension": ".jl",
   "mimetype": "application/julia",
   "name": "julia",
   "version": "1.11.5"
  }
 },
 "nbformat": 4,
 "nbformat_minor": 5
}
