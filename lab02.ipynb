{
 "cells": [
  {
   "cell_type": "code",
   "execution_count": 1,
   "id": "8cbd3acc",
   "metadata": {},
   "outputs": [
    {
     "name": "stdout",
     "output_type": "stream",
     "text": [
      "\r"
     ]
    }
   ],
   "source": [
    "using Oscar\n",
    "using Random\n",
    "using Test"
   ]
  },
  {
   "cell_type": "markdown",
   "id": "848dac91",
   "metadata": {},
   "source": [
    "## Rozwiązywanie układów kongruencji"
   ]
  },
  {
   "cell_type": "code",
   "execution_count": 6,
   "id": "ae13746d",
   "metadata": {},
   "outputs": [
    {
     "data": {
      "text/plain": [
       "3"
      ]
     },
     "metadata": {},
     "output_type": "display_data"
    }
   ],
   "source": [
    "gcdx(5,7)\n",
    "\n",
    "a = 5 \n",
    "X = Matrix{typeof(a)}(undef,3,5)\n",
    "A = [1,2,3]\n",
    "length(A)"
   ]
  },
  {
   "cell_type": "markdown",
   "id": "f49294a7",
   "metadata": {},
   "source": [
    "### Metoda Lagrange'a"
   ]
  },
  {
   "cell_type": "code",
   "execution_count": 95,
   "id": "f0634c64",
   "metadata": {},
   "outputs": [
    {
     "data": {
      "text/plain": [
       "congruence_system (generic function with 1 method)"
      ]
     },
     "metadata": {},
     "output_type": "display_data"
    }
   ],
   "source": [
    "function congruence_system(m,a)\n",
    "    k = length(m)     \n",
    "    δ = fill(zero(m[1]),k,k)\n",
    "    for i=1:k\n",
    "        for j=i+1:k\n",
    "            _, δ[i,j], δ[j,i] = gcdx(m[i],m[j])\n",
    "        end\n",
    "    end\n",
    "    M = prod(m)\n",
    "    A = []\n",
    "    for i=1:k\n",
    "        Δ = prod(δ[j, i] for j in 1:size(δ, 1) if j != i)\n",
    "        x = div(M,m[i]) \n",
    "        push!(A,Δ*x)\n",
    "    end\n",
    "    return mod(sum(a .* A),M)  \n",
    "end"
   ]
  },
  {
   "cell_type": "code",
   "execution_count": 114,
   "id": "e5ec2a9c",
   "metadata": {},
   "outputs": [
    {
     "data": {
      "text/html": [
       "x - 2"
      ],
      "text/latex": [
       "x - 2"
      ],
      "text/plain": [
       "x - 2"
      ]
     },
     "metadata": {},
     "output_type": "display_data"
    }
   ],
   "source": [
    "R,x = QQ[:x]\n",
    "f = x\n",
    "g = x -1\n",
    "h = x -2"
   ]
  },
  {
   "cell_type": "code",
   "execution_count": 115,
   "id": "29adc4ac",
   "metadata": {},
   "outputs": [
    {
     "data": {
      "text/html": [
       "-x^2 + 2*x"
      ],
      "text/latex": [
       "-x^{2} + 2 x"
      ],
      "text/plain": [
       "-x^2 + 2*x"
      ]
     },
     "metadata": {},
     "output_type": "display_data"
    }
   ],
   "source": [
    "congruence_system([f,g,h],[0,1,0])"
   ]
  },
  {
   "cell_type": "code",
   "execution_count": 88,
   "id": "5db3e1b2",
   "metadata": {},
   "outputs": [
    {
     "data": {
      "text/plain": [
       "41"
      ]
     },
     "metadata": {},
     "output_type": "display_data"
    }
   ],
   "source": [
    "m = [5,7,9]\n",
    "a = [1,6,5]\n",
    "x = congruence_system(m,a)"
   ]
  },
  {
   "cell_type": "markdown",
   "id": "3b3d5eb0",
   "metadata": {},
   "source": [
    "### Metoda Przyrostowy \n",
    "Algorytm pomocniczy"
   ]
  },
  {
   "cell_type": "code",
   "execution_count": 110,
   "id": "2a9bea8f",
   "metadata": {},
   "outputs": [
    {
     "data": {
      "text/plain": [
       "congruence_two (generic function with 1 method)"
      ]
     },
     "metadata": {},
     "output_type": "display_data"
    }
   ],
   "source": [
    "function congruence_two(m,a)\n",
    "    _, α, β = gcdx(m[1], m[2])\n",
    "    r = mod(a[1],m[1])\n",
    "    b = (a[2] - r)*α \n",
    "    s = mod(b,m[2])\n",
    "    return r + s*m[1]\n",
    "end"
   ]
  },
  {
   "cell_type": "code",
   "execution_count": 112,
   "id": "a9d43900",
   "metadata": {},
   "outputs": [
    {
     "data": {
      "text/plain": [
       "6"
      ]
     },
     "metadata": {},
     "output_type": "display_data"
    }
   ],
   "source": [
    "congruence_two([3,5], [0,1])"
   ]
  },
  {
   "cell_type": "code",
   "execution_count": 134,
   "id": "f34e1f7b",
   "metadata": {},
   "outputs": [
    {
     "data": {
      "text/plain": [
       "congruence_system_newton (generic function with 1 method)"
      ]
     },
     "metadata": {},
     "output_type": "display_data"
    }
   ],
   "source": [
    "function congruence_system_newton(m,a)\n",
    "    Ring = parent(m[1])\n",
    "    a = Ring.(a)\n",
    "    k = length(m)\n",
    "    M = Ring(1)\n",
    "    A = Ring(1)\n",
    "    for i=1:k\n",
    "        b = congruence_two([M,m[i]], [A, a[i]])\n",
    "        A = b \n",
    "        M *= m[i] \n",
    "    end\n",
    "    return A \n",
    "end"
   ]
  },
  {
   "cell_type": "code",
   "execution_count": 135,
   "id": "5aeef7f4",
   "metadata": {},
   "outputs": [
    {
     "data": {
      "text/plain": [
       "41"
      ]
     },
     "metadata": {},
     "output_type": "display_data"
    }
   ],
   "source": [
    "m = [5,7,9]\n",
    "a = [1,6,5]\n",
    "congruence_system_newton(m,a)"
   ]
  },
  {
   "cell_type": "code",
   "execution_count": 136,
   "id": "01b5e7c2",
   "metadata": {},
   "outputs": [
    {
     "data": {
      "text/html": [
       "x^2"
      ],
      "text/latex": [
       "x^{2}"
      ],
      "text/plain": [
       "x^2"
      ]
     },
     "metadata": {},
     "output_type": "display_data"
    }
   ],
   "source": [
    "R,x = QQ[:x]\n",
    "f = x\n",
    "g = x - 1\n",
    "h = x - 2\n",
    "congruence_system_newton([f,g,h],[0,1,4])"
   ]
  },
  {
   "cell_type": "markdown",
   "id": "3c730ffe",
   "metadata": {},
   "source": [
    "## Potęgowanie modularne"
   ]
  },
  {
   "cell_type": "markdown",
   "id": "6eafcc7a",
   "metadata": {},
   "source": [
    "### Basic"
   ]
  },
  {
   "cell_type": "code",
   "execution_count": null,
   "id": "348b0496",
   "metadata": {},
   "outputs": [
    {
     "data": {
      "text/plain": [
       "power_modulo (generic function with 1 method)"
      ]
     },
     "metadata": {},
     "output_type": "display_data"
    }
   ],
   "source": [
    "function power_modulo(a,n,m)\n",
    "    d = digits(n,base=2)\n",
    "    k = length(d)\n",
    "    r = 1\n",
    "    b = mod(a,m)\n",
    "    for i=1:k\n",
    "        if(d[i]==1)\n",
    "            r = mod(r*b,m)\n",
    "        end \n",
    "        b = mod(b^2,m)\n",
    "    end\n",
    "    return r \n",
    "end"
   ]
  },
  {
   "cell_type": "code",
   "execution_count": 191,
   "id": "7719e8c1",
   "metadata": {},
   "outputs": [
    {
     "data": {
      "text/plain": [
       "9"
      ]
     },
     "metadata": {},
     "output_type": "display_data"
    }
   ],
   "source": [
    "power_modulo(49,19,11)"
   ]
  },
  {
   "cell_type": "markdown",
   "id": "f45ed04f",
   "metadata": {},
   "source": [
    "### Funkcja $\\varphi$ Eulera"
   ]
  },
  {
   "cell_type": "code",
   "execution_count": 201,
   "id": "b1571ddd",
   "metadata": {},
   "outputs": [
    {
     "data": {
      "text/plain": [
       "ϕ (generic function with 1 method)"
      ]
     },
     "metadata": {},
     "output_type": "display_data"
    }
   ],
   "source": [
    "function ϕ(n) \n",
    "    res = 1\n",
    "    for (p, α) in factor(n)\n",
    "        res*=(p^α - p^(α -1))\n",
    "    end\n",
    "    return res \n",
    "end"
   ]
  },
  {
   "cell_type": "code",
   "execution_count": 205,
   "id": "3922d7f2",
   "metadata": {},
   "outputs": [
    {
     "data": {
      "text/plain": [
       "120"
      ]
     },
     "metadata": {},
     "output_type": "display_data"
    }
   ],
   "source": [
    "ϕ(450)"
   ]
  },
  {
   "cell_type": "code",
   "execution_count": 208,
   "id": "3156b714",
   "metadata": {},
   "outputs": [
    {
     "data": {
      "text/plain": [
       "power_modulo_euler (generic function with 1 method)"
      ]
     },
     "metadata": {},
     "output_type": "display_data"
    }
   ],
   "source": [
    "function power_modulo_euler(a,n,m)\n",
    "    d = gcd(a,m)\n",
    "    p = 1 \n",
    "    if(d>1)\n",
    "        a = div(a,d)\n",
    "        p = power_modulo(d,n,m)\n",
    "    end\n",
    "    n = mod(n, ϕ(m))\n",
    "    return p*power_modulo(a,n,m)\n",
    "end"
   ]
  },
  {
   "cell_type": "code",
   "execution_count": 209,
   "id": "d60984f4",
   "metadata": {},
   "outputs": [
    {
     "data": {
      "text/plain": [
       "151"
      ]
     },
     "metadata": {},
     "output_type": "display_data"
    }
   ],
   "source": [
    "power_modulo_euler(2,1000,225)"
   ]
  },
  {
   "cell_type": "markdown",
   "id": "253e8a1b",
   "metadata": {},
   "source": [
    "# Liczenie wyznacznika Macierzy Całkowitej"
   ]
  },
  {
   "cell_type": "markdown",
   "id": "69a7a33f",
   "metadata": {},
   "source": [
    "## Nierówność Hadamarda"
   ]
  },
  {
   "cell_type": "code",
   "execution_count": 261,
   "id": "7aa7aef1",
   "metadata": {},
   "outputs": [
    {
     "data": {
      "text/plain": [
       "hadamard_bounding (generic function with 1 method)"
      ]
     },
     "metadata": {},
     "output_type": "display_data"
    }
   ],
   "source": [
    "function hadamard_bounding(M)\n",
    "    entries = collect(M)                    \n",
    "    m = maximum(abs.(entries))             \n",
    "    n = size(M, 1)                           \n",
    "    return ceil(typeof(M[1,1]),m^n * sqrt(n^n))\n",
    "end"
   ]
  },
  {
   "cell_type": "code",
   "execution_count": 262,
   "id": "1fd6d512",
   "metadata": {},
   "outputs": [
    {
     "data": {
      "text/html": [
       "[3 1 -2; 2 -3 -1; 1 3 0]"
      ],
      "text/latex": [
       "\\begin{array}{ccc}\n",
       "3 & 1 & -2 \\\\\n",
       "2 & -3 & -1 \\\\\n",
       "1 & 3 & 0\n",
       "\\end{array}"
      ],
      "text/plain": [
       "[3    1   -2]\n",
       "[2   -3   -1]\n",
       "[1    3    0]"
      ]
     },
     "metadata": {},
     "output_type": "display_data"
    }
   ],
   "source": [
    "M  = matrix(ZZ, 3, 3, [3, 1, -2,\n",
    "                     2, -3, -1,\n",
    "                     1, 3, 0])"
   ]
  },
  {
   "cell_type": "code",
   "execution_count": 263,
   "id": "8af27cbc",
   "metadata": {},
   "outputs": [
    {
     "data": {
      "text/html": [
       "141"
      ],
      "text/latex": [
       "141"
      ],
      "text/plain": [
       "141"
      ]
     },
     "metadata": {},
     "output_type": "display_data"
    }
   ],
   "source": [
    "hadamard_bounding(M)"
   ]
  },
  {
   "cell_type": "code",
   "execution_count": 236,
   "id": "006223f4",
   "metadata": {},
   "outputs": [
    {
     "data": {
      "text/plain": [
       "Prime field of characteristic 7"
      ]
     },
     "metadata": {},
     "output_type": "display_data"
    }
   ],
   "source": [
    "F = GF(7)"
   ]
  },
  {
   "cell_type": "code",
   "execution_count": null,
   "id": "d708e8be",
   "metadata": {},
   "outputs": [
    {
     "data": {
      "text/plain": [
       "sieve_eratosthenes (generic function with 1 method)"
      ]
     },
     "metadata": {},
     "output_type": "display_data"
    }
   ],
   "source": [
    "function sieve_eratosthenes(n::Int)\n",
    "    n < 2 && return Int[]\n",
    "    \n",
    "    sieve = trues(n)\n",
    "    sieve[1] = false \n",
    "    \n",
    "    for i in 2:isqrt(n)\n",
    "        if sieve[i]\n",
    "            sieve[i^2:i:n] .= false  \n",
    "        end\n",
    "    end\n",
    "    \n",
    "    return findall(sieve) .|> Int\n",
    "end"
   ]
  },
  {
   "cell_type": "code",
   "execution_count": 255,
   "id": "f85d8559",
   "metadata": {},
   "outputs": [
    {
     "data": {
      "text/plain": [
       "41538-element Vector{Int64}:\n",
       "      2\n",
       "      3\n",
       "      5\n",
       "      7\n",
       "     11\n",
       "     13\n",
       "     17\n",
       "     19\n",
       "     23\n",
       "     29\n",
       "      ⋮\n",
       " 499883\n",
       " 499897\n",
       " 499903\n",
       " 499927\n",
       " 499943\n",
       " 499957\n",
       " 499969\n",
       " 499973\n",
       " 499979"
      ]
     },
     "metadata": {},
     "output_type": "display_data"
    }
   ],
   "source": [
    "primes = sieve_eratosthenes(500000)"
   ]
  },
  {
   "cell_type": "code",
   "execution_count": null,
   "id": "f67fd90b",
   "metadata": {},
   "outputs": [
    {
     "name": "stdout",
     "output_type": "stream",
     "text": [
      "1\n",
      "curr 1\n",
      "matrix [3 1 5; 2 4 6; 1 3 0]\n",
      "2\n",
      "curr 3\n",
      "matrix [3 1 5; 2 4 6; 1 3 0]\n",
      "whaat 5\n",
      "whaat2 0\n"
     ]
    },
    {
     "data": {
      "text/html": [
       "0"
      ],
      "text/latex": [
       "0"
      ],
      "text/plain": [
       "0"
      ]
     },
     "metadata": {},
     "output_type": "display_data"
    }
   ],
   "source": [
    "F = GF(7)\n",
    "M3 = matrix(F, 3, 3, [3, 1, -2,\n",
    "                     2, -3, -1,\n",
    "                     1, 3, 0])\n",
    "#det(M3)"
   ]
  },
  {
   "cell_type": "code",
   "execution_count": null,
   "id": "5a8aa350",
   "metadata": {},
   "outputs": [
    {
     "data": {
      "text/html": [
       "[3 1 -2; 2 -3 -1; 1 3 0]"
      ],
      "text/latex": [
       "\\begin{array}{ccc}\n",
       "3 & 1 & -2 \\\\\n",
       "2 & -3 & -1 \\\\\n",
       "1 & 3 & 0\n",
       "\\end{array}"
      ],
      "text/plain": [
       "[3    1   -2]\n",
       "[2   -3   -1]\n",
       "[1    3    0]"
      ]
     },
     "metadata": {},
     "output_type": "display_data"
    }
   ],
   "source": [
    "M  = matrix(ZZ, 3, 3, [3, 1, -2,\n",
    "                     2, -3, -1,\n",
    "                     1, 3, 0])"
   ]
  },
  {
   "cell_type": "code",
   "execution_count": 280,
   "id": "88f21de5",
   "metadata": {},
   "outputs": [
    {
     "data": {
      "text/html": [
       "-10"
      ],
      "text/latex": [
       "-10"
      ],
      "text/plain": [
       "-10"
      ]
     },
     "metadata": {},
     "output_type": "display_data"
    }
   ],
   "source": [
    "det(M)"
   ]
  },
  {
   "cell_type": "code",
   "execution_count": 273,
   "id": "1138c306",
   "metadata": {},
   "outputs": [
    {
     "data": {
      "text/plain": [
       "3×3 Matrix{Int64}:\n",
       " 3   1  -2\n",
       " 2  -3  -1\n",
       " 1   3   0"
      ]
     },
     "metadata": {},
     "output_type": "display_data"
    }
   ],
   "source": [
    "M2 = [3 1 -2;\n",
    "     2 -3 -1;\n",
    "    1 3 0]"
   ]
  },
  {
   "cell_type": "code",
   "execution_count": 274,
   "id": "2e64ef8a",
   "metadata": {},
   "outputs": [
    {
     "data": {
      "text/plain": [
       "-9.999999999999998"
      ]
     },
     "metadata": {},
     "output_type": "display_data"
    }
   ],
   "source": [
    "det(M2)"
   ]
  }
 ],
 "metadata": {
  "kernelspec": {
   "display_name": "Julia 1.11.5",
   "language": "julia",
   "name": "julia-1.11"
  },
  "language_info": {
   "file_extension": ".jl",
   "mimetype": "application/julia",
   "name": "julia",
   "version": "1.11.5"
  }
 },
 "nbformat": 4,
 "nbformat_minor": 5
}
