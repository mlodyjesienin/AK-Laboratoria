{
 "cells": [
  {
   "cell_type": "markdown",
   "id": "845160f3",
   "metadata": {},
   "source": [
    "# Algebra Komputerowa \n",
    "## Laboratorium 01 - Podstawy Oscara"
   ]
  },
  {
   "cell_type": "markdown",
   "id": "be2ea552",
   "metadata": {},
   "source": [
    "## Dokumentacja Oscara - [Link](https://docs.oscar-system.org/stable/)"
   ]
  },
  {
   "cell_type": "markdown",
   "id": "c25e1fb0",
   "metadata": {},
   "source": [
    "Konieczne importy"
   ]
  },
  {
   "cell_type": "code",
   "execution_count": 1,
   "id": "da006042",
   "metadata": {},
   "outputs": [
    {
     "name": "stdout",
     "output_type": "stream",
     "text": [
      "\r"
     ]
    }
   ],
   "source": [
    "using Oscar\n",
    "using Random"
   ]
  },
  {
   "cell_type": "markdown",
   "id": "34838c14",
   "metadata": {},
   "source": [
    "## Podstawowe struktury algebraiczne\n",
    "1) `QQ` - Ciało liczb wymiernych\n",
    "2) `ZZ` - Pierścień liczb całkowitych\n",
    "3) `GF(7)` - 7 elementowe ciało (izomorficzne z $\\mathbb{Z}_7$)"
   ]
  },
  {
   "cell_type": "code",
   "execution_count": 2,
   "id": "9b33ec5d",
   "metadata": {},
   "outputs": [
    {
     "data": {
      "text/plain": [
       "Int64"
      ]
     },
     "metadata": {},
     "output_type": "display_data"
    }
   ],
   "source": [
    "typeof(5)"
   ]
  },
  {
   "cell_type": "code",
   "execution_count": 3,
   "id": "92659ad2",
   "metadata": {},
   "outputs": [
    {
     "data": {
      "text/plain": [
       "ZZRingElem"
      ]
     },
     "metadata": {},
     "output_type": "display_data"
    }
   ],
   "source": [
    "typeof(ZZ(5))"
   ]
  },
  {
   "cell_type": "markdown",
   "id": "05e86f04",
   "metadata": {},
   "source": [
    "### Naturalne przejścia pomiędzy typami ułamkowymi (lub całkowitymi) w Julii, a typami z Oscara powinny działać w porządku, ale... nie obiecuję"
   ]
  },
  {
   "cell_type": "code",
   "execution_count": 4,
   "id": "4669252f",
   "metadata": {},
   "outputs": [
    {
     "data": {
      "text/plain": [
       "true"
      ]
     },
     "metadata": {},
     "output_type": "display_data"
    }
   ],
   "source": [
    "5//7 == QQ(5, 7) && 5 == ZZ(5)"
   ]
  },
  {
   "cell_type": "markdown",
   "id": "23fecac4",
   "metadata": {},
   "source": [
    "## Wielomiany - Konstruktory i podstawowe operacje"
   ]
  },
  {
   "cell_type": "code",
   "execution_count": 5,
   "id": "caa2b646",
   "metadata": {},
   "outputs": [
    {
     "data": {
      "text/plain": [
       "(Univariate polynomial ring in u over QQ, u)"
      ]
     },
     "metadata": {},
     "output_type": "display_data"
    }
   ],
   "source": [
    "R, u = polynomial_ring(QQ, \"u\")"
   ]
  },
  {
   "cell_type": "code",
   "execution_count": 6,
   "id": "9eb356e2",
   "metadata": {},
   "outputs": [
    {
     "data": {
      "text/plain": [
       "QQPolyRingElem"
      ]
     },
     "metadata": {},
     "output_type": "display_data"
    }
   ],
   "source": [
    "f = u^2 -1 + 3u^10 \n",
    "typeof(f)"
   ]
  },
  {
   "cell_type": "markdown",
   "id": "36d4de14",
   "metadata": {},
   "source": [
    "```parent(f)``` pozwala na określenie struktury w której znajduje się element "
   ]
  },
  {
   "cell_type": "code",
   "execution_count": 7,
   "id": "cd65e0f8",
   "metadata": {},
   "outputs": [
    {
     "data": {
      "text/plain": [
       "Univariate polynomial ring in u over QQ"
      ]
     },
     "metadata": {},
     "output_type": "display_data"
    }
   ],
   "source": [
    "parent(f)"
   ]
  },
  {
   "cell_type": "markdown",
   "id": "c4a30c15",
   "metadata": {},
   "source": [
    "Oczywiście dozwolone są operacje na wielomianach pochodzących z tego samego pierścienia"
   ]
  },
  {
   "cell_type": "code",
   "execution_count": 8,
   "id": "61e3c07d",
   "metadata": {},
   "outputs": [
    {
     "data": {
      "text/html": [
       "3*u^12 + 12*u^11 - 12*u^10 + u^4 + 4*u^3 - 5*u^2 - 4*u + 4"
      ],
      "text/latex": [
       "3 u^{12} + 12 u^{11} - 12 u^{10} + u^{4} + 4 u^{3} - 5 u^{2} - 4 u + 4"
      ],
      "text/plain": [
       "3*u^12 + 12*u^11 - 12*u^10 + u^4 + 4*u^3 - 5*u^2 - 4*u + 4"
      ]
     },
     "metadata": {},
     "output_type": "display_data"
    }
   ],
   "source": [
    "g = u^2 + 4u -4 \n",
    "f + g\n",
    "f * g "
   ]
  },
  {
   "cell_type": "markdown",
   "id": "be7d58ba",
   "metadata": {},
   "source": [
    "Konstruktor można uprościć w nastepujący sposób"
   ]
  },
  {
   "cell_type": "code",
   "execution_count": 9,
   "id": "21cf77e1",
   "metadata": {},
   "outputs": [
    {
     "data": {
      "text/plain": [
       "(Univariate polynomial ring in u over QQ, u)"
      ]
     },
     "metadata": {},
     "output_type": "display_data"
    }
   ],
   "source": [
    "R,u = QQ[:u]"
   ]
  },
  {
   "cell_type": "markdown",
   "id": "0083f586",
   "metadata": {},
   "source": [
    "Uwaga - to nie to samo!"
   ]
  },
  {
   "cell_type": "code",
   "execution_count": 10,
   "id": "7fbab4ca",
   "metadata": {},
   "outputs": [
    {
     "data": {
      "text/plain": [
       "(Multivariate polynomial ring in 1 variable over QQ, QQMPolyRingElem[x1])"
      ]
     },
     "metadata": {},
     "output_type": "display_data"
    }
   ],
   "source": [
    "polynomial_ring(QQ, 1)"
   ]
  },
  {
   "cell_type": "markdown",
   "id": "e6122544",
   "metadata": {},
   "source": [
    "Pewne własności dla pierścienia wielomianów jednej zmiennej, nie przechodza na pierścienie wielomianów wielu zmiennych, nawet jeśli wiele znaczy jeden.."
   ]
  },
  {
   "cell_type": "markdown",
   "id": "f35017f9",
   "metadata": {},
   "source": [
    "## Jeszcze więcej metod podawania generatorów\n"
   ]
  },
  {
   "cell_type": "code",
   "execution_count": 11,
   "id": "b0918dff",
   "metadata": {},
   "outputs": [
    {
     "data": {
      "text/plain": [
       "(Multivariate polynomial ring in 9 variables over QQ, QQMPolyRingElem[x[1, 1] x[1, 2] x[1, 3]; x[2, 1] x[2, 2] x[2, 3]], QQMPolyRingElem[y[1], y[2]], QQMPolyRingElem[z[1, 1, 1];;;])"
      ]
     },
     "metadata": {},
     "output_type": "display_data"
    }
   ],
   "source": [
    "R4, x, y, z = polynomial_ring(QQ, \"x\" => (1:2, 1:3), \"y\" => 1:2, \"z\" => (1:1, 1:1, 1:1))"
   ]
  },
  {
   "cell_type": "code",
   "execution_count": 12,
   "id": "f24f11a7",
   "metadata": {},
   "outputs": [
    {
     "data": {
      "text/html": [
       "x[1, 3] + y[2] + z[1, 1, 1]"
      ],
      "text/latex": [
       "\\mathop{\\mathrm{x[1, 3]}} + \\mathop{\\mathrm{y[2]}} + \\mathop{\\mathrm{z[1, 1, 1]}}"
      ],
      "text/plain": [
       "x[1, 3] + y[2] + z[1, 1, 1]"
      ]
     },
     "metadata": {},
     "output_type": "display_data"
    }
   ],
   "source": [
    "x[1, 3] + y[2] + z[1,1,1]"
   ]
  },
  {
   "cell_type": "markdown",
   "id": "b3e86e02",
   "metadata": {},
   "source": [
    "## Jakie informacje możemy wyciągnać o pierścieniu wielomianów?\n",
    "\n",
    "| Metoda               | Opis |\n",
    "|----------------------|------|\n",
    "| `coefficient_ring(R)` | Pierścień współczynników `C` pierścienia wielomianów `R`. |\n",
    "| `gens(R)`            | Generatory (zmienne) pierścienia `R`. |\n",
    "| `ngens(R)`           | Liczba generatorów pierścienia `R`. |\n",
    "| `gen(R, i)`          | `i`-ty generator pierścienia `R`. |"
   ]
  },
  {
   "cell_type": "code",
   "execution_count": 13,
   "id": "9e531e9f",
   "metadata": {},
   "outputs": [
    {
     "data": {
      "text/plain": [
       "(Rational field, QQMPolyRingElem[x, y, z], 3, x, y, z)"
      ]
     },
     "metadata": {},
     "output_type": "display_data"
    }
   ],
   "source": [
    "R, (x, y, z) = polynomial_ring(QQ, [\"x\", \"y\", \"z\"])\n",
    "(coefficient_ring(R), gens(R), ngens(R), gen(R, 1), gen(R, 2), gen(R, 3))\n"
   ]
  },
  {
   "cell_type": "markdown",
   "id": "c9cfd942",
   "metadata": {},
   "source": [
    "## Podstawowe funkcjonalności dla elementu pierścienia wielomianów\n",
    "\n",
    "| Metoda                      | Opis |\n",
    "|-----------------------------|------|\n",
    "| `parent(f)`                 | Pierścień `R` zawierający `f` |\n",
    "| `total_degree(f)`           | Całkowity stopień wielomianu `f` |\n",
    "| `monomial(f, i)`            | i-ty jednomian wielomianu `f` |\n",
    "| `term(f, i)`               | i-ty wyraz wielomianu `f` |\n",
    "| `coeff(f, i)`              | i-ty współczynnik wielomianu `f` |\n",
    "| `exponent_vector(f, i)`     | Wektor wykładników i-tego wyrazu |"
   ]
  },
  {
   "cell_type": "code",
   "execution_count": 14,
   "id": "b47124ef",
   "metadata": {},
   "outputs": [
    {
     "data": {
      "text/plain": [
       "(2, 1, [0, 1, 1], y*z, y*z)"
      ]
     },
     "metadata": {},
     "output_type": "display_data"
    }
   ],
   "source": [
    "\n",
    "R, (x, y, z) = polynomial_ring(QQ, [\"x\", \"y\", \"z\"])\n",
    "f = 3*x^2 + y*z\n",
    "(total_degree(f), coeff(f, 2), exponent_vector(f, 2), monomial(f, 2), term(f, 2))\n"
   ]
  },
  {
   "cell_type": "markdown",
   "id": "8352eb69",
   "metadata": {},
   "source": [
    "## Homomorfizmy pierścieni $R \\rightarrow S$\n",
    "można konstruować dzięki:\n",
    "`hom(R::MPolyRing, S::NCRing, images::Vector; check::Bool = true)`\n",
    "\n",
    "gdzie $R,S$ to odpowiednie pierścienie, natomiast sam homomorfizm jest determinowany przez obrazy generatorów pierścienia $R$ czyli `images`"
   ]
  },
  {
   "cell_type": "code",
   "execution_count": 15,
   "id": "f8df21ff",
   "metadata": {},
   "outputs": [
    {
     "name": "stdout",
     "output_type": "stream",
     "text": [
      "wielomian f: x^3 + 2*x*y - y^2 + 5\n",
      "obraz wielominau f: u^3 + 3*u^2*v + 3*u*v^2 + 2*u*w^2 - 2*u + v^3 + 2*v*w^2 - 2*v - w^4 + 2*w^2 + 4\n"
     ]
    }
   ],
   "source": [
    "R, (x, y) = polynomial_ring(ZZ, [\"x\", \"y\"])\n",
    "f = x^3 + 2*x*y - y^2 + 5\n",
    "\n",
    "S, (u, v, w) = polynomial_ring(QQ, [\"u\", \"v\", \"w\"])\n",
    "\n",
    "#   x ↦ u + v\n",
    "#   y ↦ w^2 - 1\n",
    "ϕ = hom(R, S, [u + v, w^2 - 1])\n",
    "\n",
    "println(\"wielomian f: \", f)\n",
    "println(\"obraz wielominau f: \", ϕ(f))"
   ]
  },
  {
   "cell_type": "markdown",
   "id": "839d7ec6",
   "metadata": {},
   "source": [
    "# Ideały pierścienia wielomianów\n",
    "\n",
    "\n",
    "| Konstruktor |\n",
    "| :----------- |\n",
    "| `ideal(R::MPolyRing, g::Vector)` |\n",
    "\n",
    "gdzie `g` to wektor elementów pierścienia `R`. \n",
    "\n",
    "Zwracany jest ideał generowany przez wielomiany z `g`\n"
   ]
  },
  {
   "cell_type": "code",
   "execution_count": 16,
   "id": "806d7f54",
   "metadata": {},
   "outputs": [
    {
     "data": {
      "text/plain": [
       "Ideal generated by\n",
       "  x*y - 3*x\n",
       "  -2*x^2*y + y^3"
      ]
     },
     "metadata": {},
     "output_type": "display_data"
    }
   ],
   "source": [
    "R, (x, y) = polynomial_ring(QQ, [\"x\", \"y\"])\n",
    "I = ideal(R, [x*y-3*x, y^3-2*x^2*y])"
   ]
  },
  {
   "cell_type": "markdown",
   "id": "07385778",
   "metadata": {},
   "source": [
    "## Co wiemy o ideałach?\n",
    "\n",
    "\n",
    "| Metoda | Opis |\n",
    "| :----------- | :----------- |\n",
    "| `base_ring(I)` | `R`. |\n",
    "| `gens(I)` | Generatory `I`. |\n",
    "| `ngens(I)` | Liczba generatorów  `I`. |\n",
    "| `gen(I, k)` or `I[k]` | `k`-ty generatr  `I`. |\n",
    "| `dim(I::MPolyIdeal)` | Wymiar Krulla `I`. |\n",
    "| `codim(I::MPolyIdeal)` | Kowymiar  `I`. |\n",
    "| `minimal_generating_set(I::MPolyIdeal{<:MPolyDecRingElem})` | tablica minimalnych generatorów  `I`. |"
   ]
  },
  {
   "cell_type": "code",
   "execution_count": 17,
   "id": "bf1f51c6",
   "metadata": {},
   "outputs": [
    {
     "data": {
      "text/plain": [
       "(Multivariate polynomial ring in 2 variables over QQ, QQMPolyRingElem[x^2, x*y, y^2], 3, x*y)"
      ]
     },
     "metadata": {},
     "output_type": "display_data"
    }
   ],
   "source": [
    "R, (x, y) = polynomial_ring(QQ, [\"x\", \"y\"])\n",
    "I = ideal(R, [x, y])^2\n",
    "(base_ring(I), gens(I), ngens(I), gen(I, 2))"
   ]
  },
  {
   "cell_type": "markdown",
   "id": "bca61d13",
   "metadata": {},
   "source": [
    "## Operacje na ideałach\n",
    "\n",
    "dodawanie, mnożenie i potęgowanie ideałów można zapisać używając odpowiednio `+`, `*` oraz `^`.\n",
    "Dodatkowo:\n",
    "\n",
    "| Metoda | Opis |\n",
    "| :----------- | :----------- |\n",
    "| `intersect(I::MPolyIdeal{T}, Js::MPolyIdeal{T}...)` | Część wspólna dwóch lub więcej ideałów. |\n",
    "| `quotient(I::MPolyIdeal{T}, J::MPolyIdeal{T})` | Ideał ilorazowy $I:J = \\{ f \\in R \\vert fJ \\subset I\\} \\subset R$ of `I` by `J`. Alternatywnie można używać `I:J`. |\n",
    "| `quotient(I::MPolyIdeal{T}, f::MPolyElem{T})` | Iloraz ideału`I` przez ideał generowany `f`. ALternatively, use `I:f`. |\n",
    "| `saturation(I::MPolyIdeal{T}, J::MPolyIdeal{T})` | Saturation $I:J^{\\infty} = \\{f \\in R \\vert fJ^k \\subset I , k \\geq 1\\}$ of `I` wih respect to `J`. |\n",
    "| `saturation_with_index(I::MPolyIdeal{T},J::MPolyIdeal{T})` | Saturation $I:J^\\infty$ together with the smallest integer $m$ such that $I:J^m=I:J^\\infty$. |\n",
    "| `eliminate(I::MPolyIdeal{T}, V::Vector{T})` | Eliminates the variables in the vector `V` from the ideal `I` and returns all generators of `I` that contain only the remaining variables. |\n",
    "\n",
    "Przykład:"
   ]
  },
  {
   "cell_type": "code",
   "execution_count": 18,
   "id": "65fc6483",
   "metadata": {},
   "outputs": [
    {
     "data": {
      "text/plain": [
       "(true, true, false, true, false, true)"
      ]
     },
     "metadata": {},
     "output_type": "display_data"
    }
   ],
   "source": [
    "R, (x, y) = polynomial_ring(QQ, [\"x\", \"y\"])\n",
    "I = ideal(R, [x, y])^2\n",
    "J = ideal(R, [x^2])\n",
    "f = x\n",
    "\n",
    "(is_monomial(I), is_subset(J, I), ideal_membership(f, J), radical_membership(f,J), is_prime(J), is_primary(J))"
   ]
  },
  {
   "cell_type": "markdown",
   "id": "41fbaaf4",
   "metadata": {},
   "source": [
    "# Zadania\n",
    "\n",
    "## Rozszerzony Algorytm Euklidesa\n",
    "\n",
    "Oczywiście Oscar posiada swoje implementacje typowych funkcji liczących GCD oraz współczynniki Bezouta"
   ]
  },
  {
   "cell_type": "code",
   "execution_count": 21,
   "id": "31f0b913",
   "metadata": {},
   "outputs": [
    {
     "data": {
      "text/plain": [
       "(x + 1//2, 0, 1//2)"
      ]
     },
     "metadata": {},
     "output_type": "display_data"
    }
   ],
   "source": [
    "R,x = QQ[:x]\n",
    "f = 2x^2 + x \n",
    "g = 2x + 1 \n",
    "gcdx(f,g)"
   ]
  },
  {
   "cell_type": "code",
   "execution_count": 22,
   "id": "e073b346",
   "metadata": {},
   "outputs": [
    {
     "data": {
      "text/plain": [
       "(1, 2, -3)"
      ]
     },
     "metadata": {},
     "output_type": "display_data"
    }
   ],
   "source": [
    "gcdx(11,7)"
   ]
  },
  {
   "cell_type": "markdown",
   "id": "f066c626",
   "metadata": {},
   "source": [
    "### My się jednak tym nie przejmujemy.\n",
    "Zaimplementuj Funkcje `EEA(a,b)` liczącą największy wspólny dzielnik i współczynniki Bezouta.\n",
    "Jedna implementacja powinnna działać równocześnie dla $a,b \\in \\mathbb{Z}$ jak i $f,g \\in \\mathbb{Q}[x]$"
   ]
  },
  {
   "cell_type": "code",
   "execution_count": 23,
   "id": "5c8ed247",
   "metadata": {},
   "outputs": [
    {
     "data": {
      "text/plain": [
       "EEA (generic function with 1 method)"
      ]
     },
     "metadata": {},
     "output_type": "display_data"
    }
   ],
   "source": [
    "function EEA(a,b)\n",
    "    Ring = parent(a)\n",
    "    r0,r1,s0,s1,t0,t1 = a, b, one(Ring), zero(Ring), zero(Ring), one(Ring)\n",
    "    while r1 != 0\n",
    "        q = div(r0, r1)\n",
    "        r0, r1 = r1, rem(r0, r1)\n",
    "        s0, s1 = s1, s0 - q * s1\n",
    "        t0, t1 = t1, t0 - q * t1\n",
    "    end\n",
    "    return r0, s0, t0\n",
    "end"
   ]
  },
  {
   "cell_type": "markdown",
   "id": "59a0efab",
   "metadata": {},
   "source": [
    "### Testy poprawności na losowych danych"
   ]
  },
  {
   "cell_type": "code",
   "execution_count": 85,
   "id": "6759ed3e",
   "metadata": {},
   "outputs": [
    {
     "data": {
      "text/plain": [
       "test_gcd_polynomials (generic function with 1 method)"
      ]
     },
     "metadata": {},
     "output_type": "display_data"
    }
   ],
   "source": [
    "using Test\n",
    "\n",
    "function test_gcd_integers()\n",
    "    for i in 1:1000\n",
    "        a = rand(-10000:10000)\n",
    "        b = rand(-10000:10000)\n",
    "        \n",
    "        g1, u1, v1 = EEA(a, b)\n",
    "        g2, u2, v2 = gcdx(a, b)\n",
    "        \n",
    "        @assert abs(g1) == abs(g2) \"GCD mismatch on a=$a, b=$b: $g1 vs $g2\"\n",
    "        \n",
    "        @assert u1*a + v1*b == g1 \"Bézout failed for EEA on a=$a, b=$b\"\n",
    "        @assert u2*a + v2*b == g2 \"Bézout failed for gcdx on a=$a, b=$b\"\n",
    "    end\n",
    "    println(\"Integer GCD test passed\")\n",
    "end\n",
    "function test_gcd_polynomials()\n",
    "    R, x = polynomial_ring(QQ, \"x\")\n",
    "    \n",
    "    for i in 1:100\n",
    "        f = sum(rand(-5:5)*x^k for k in 0:rand(0:5))\n",
    "        g = sum(rand(-5:5)*x^k for k in 0:rand(0:5))\n",
    "        \n",
    "        g1, u1, v1 = EEA(f, g)\n",
    "        g2, u2, v2 = gcdx(f, g)\n",
    "        \n",
    "        @assert is_constant(g1) || is_constant(g2) || \n",
    "                divexact(g1, leading_coefficient(g1)) == divexact(g2, leading_coefficient(g2)) \n",
    "                \"GCD mismatch on f=$f, g=$g: $g1 vs $g2\"\n",
    "        \n",
    "        @assert u1*f + v1*g == g1 \"Bézout failed for EEA on f=$f, g=$g\"\n",
    "        @assert u2*f + v2*g == g2 \"Bézout failed for gcdx on f=$f, g=$g\"\n",
    "    end\n",
    "    println(\"Polynomial GCD test passed\")\n",
    "end\n"
   ]
  },
  {
   "cell_type": "code",
   "execution_count": 86,
   "id": "33cb0491",
   "metadata": {},
   "outputs": [
    {
     "name": "stdout",
     "output_type": "stream",
     "text": [
      "Integer GCD test passed\n",
      "Polynomial GCD test passed\n"
     ]
    }
   ],
   "source": [
    "test_gcd_integers()\n",
    "test_gcd_polynomials()"
   ]
  },
  {
   "cell_type": "markdown",
   "id": "c7303e20",
   "metadata": {},
   "source": [
    "# Współstożkowość używając Twierdzenia Pascala \n",
    "\n",
    "## Problem:\n",
    "Mamy dane 6 punktów $P_1, \\ldots , P_6$  na $\\mathbb{Q}^2$. Czy istnieje stożkowa $C$ zadana wielomianem drugiego stopnia $f \\in \\mathbb{Q}[x,y]$ taka, że $f(P_i) = 0$ dla $i= 1,\\ldots , 6$. \n",
    "\n",
    "Podejśc do problemu można na wiele sposobów. Ja proponuje spróbować zastosować twierdzenie Pascala.\n",
    "\n",
    "Zaimplementuj funkcje `lieOnConic` przyjmująca na wejściu tablice $6$ punktów i zwracającą `true`/`false` w zależności, czy są współstożkowe."
   ]
  },
  {
   "cell_type": "code",
   "execution_count": 90,
   "id": "0b0c4ed9",
   "metadata": {},
   "outputs": [
    {
     "data": {
      "text/plain": [
       "lieOnConic (generic function with 1 method)"
      ]
     },
     "metadata": {},
     "output_type": "display_data"
    }
   ],
   "source": [
    "function lieOnConic(points)\n",
    "    R, (x, y) = QQ[\"x\", \"y\"]\n",
    "    \n",
    "    point_ideals = [ideal(R, [x - p[1], y - p[2]]) for p in points]\n",
    "    line_ideals = [ideal(intersect(point_ideals[i], point_ideals[mod1(i+1, 6)])[1]) for i in 1:6]\n",
    "    \n",
    "    G = line_ideals[1] + line_ideals[4]\n",
    "    H = line_ideals[2] + line_ideals[5]\n",
    "    I = line_ideals[3] + line_ideals[6]\n",
    "    \n",
    "    final_ideal = intersect(G, H, I)\n",
    "    return any(total_degree(f) == 1 for f in gens(final_ideal))\n",
    "end"
   ]
  },
  {
   "cell_type": "markdown",
   "id": "b5944a1e",
   "metadata": {},
   "source": [
    "### Testy \n",
    "\n",
    "Do testów skorzystamy sobie z generowania punktów na krzywych różnych stopni, przy pomocy różnych parametryzacji"
   ]
  },
  {
   "cell_type": "code",
   "execution_count": null,
   "id": "49b5a2b3",
   "metadata": {},
   "outputs": [
    {
     "data": {
      "text/plain": [
       "#45 (generic function with 1 method)"
      ]
     },
     "metadata": {},
     "output_type": "display_data"
    }
   ],
   "source": [
    "# unit circle \n",
    "ψ₁ = t -> (QQ(1-t^2,1+t^2),QQ(2*t, 1+t^2))\n",
    "# parabola\n",
    "ψ₂ = t -> (QQ(t), QQ(t^2))\n",
    "# hyperbola\n",
    "ψ₃ = t -> (QQ(t), QQ(1, t))\n",
    "\n",
    "# Cubic (y^2= x^3)\n",
    "π₁ = t -> (QQ(t^2), QQ(t^3))\n",
    "# Parametrization of cubic with node at (-1,0)\n",
    "π₂= t -> (QQ(t^2 - 1), QQ(t*(t^2 - 1)))"
   ]
  },
  {
   "cell_type": "code",
   "execution_count": 97,
   "id": "256ff6f9",
   "metadata": {},
   "outputs": [
    {
     "data": {
      "text/plain": [
       "test_conic (generic function with 1 method)"
      ]
     },
     "metadata": {},
     "output_type": "display_data"
    }
   ],
   "source": [
    "function test_conic()\n",
    "    for i=1:100\n",
    "        t_vals = randperm(100)[1:6]\n",
    "        points = [ψ₁(t) for t in t_vals]\n",
    "        @assert lieOnConic(points) \"Error on points from ψ₁\"\n",
    "        points = [ψ₂(t) for t in t_vals]\n",
    "        @assert lieOnConic(points) \"Error on points from ψ₂\"\n",
    "        points = [ψ₃(t) for t in t_vals]\n",
    "        @assert lieOnConic(points) \"Error on points from ψ₃\"\n",
    "\n",
    "        points = [π₁(t) for t in t_vals]\n",
    "        @assert !lieOnConic(points) \"Error on points from π₁\"\n",
    "        points = [π₂(t) for t in t_vals]\n",
    "        @assert !lieOnConic(points) \"Error on points from π₂\"        \n",
    "    end\n",
    "end"
   ]
  },
  {
   "cell_type": "code",
   "execution_count": 98,
   "id": "b37e6306",
   "metadata": {},
   "outputs": [],
   "source": [
    "test_conic()"
   ]
  },
  {
   "cell_type": "markdown",
   "id": "d7a09f1b",
   "metadata": {},
   "source": [
    "### Jakie inne podejścia do tego problemu można by zastosować?"
   ]
  },
  {
   "cell_type": "markdown",
   "id": "8dba5e6b",
   "metadata": {},
   "source": [
    "# Wyznaczanie istnienia krzywych zerujących się na danym zbiorze punktów za pomocą macierzy interpolacji\n",
    "\n",
    "### Problem:\n",
    "Ogólniejsza wersja poprzedniego problemu - dostajemy punkty i chcemy wiedzieć, czy istnieje krzywa danego stopnia zawierająca te punkty \n"
   ]
  },
  {
   "cell_type": "code",
   "execution_count": null,
   "id": "7da913ec",
   "metadata": {},
   "outputs": [
    {
     "data": {
      "text/plain": [
       "interpolate (generic function with 1 method)"
      ]
     },
     "metadata": {},
     "output_type": "display_data"
    }
   ],
   "source": [
    "    function interpolate(points, degree)\n",
    "            \n",
    "    end"
   ]
  },
  {
   "cell_type": "code",
   "execution_count": 111,
   "id": "60968a87",
   "metadata": {},
   "outputs": [
    {
     "ename": "MethodError",
     "evalue": "MethodError: no method matching monomials(::QQMPolyRing, ::Int64)\nThe function `monomials` exists, but no method is defined for this combination of argument types.\n\nClosest candidates are:\n  monomials(!Matched::PBWAlgElem)\n   @ Oscar ~/.julia/packages/Oscar/Z2pwW/src/Rings/PBWAlgebra.jl:174\n  monomials(!Matched::Union{Singular.slpalg{T}, Singular.spluralg{T}, Singular.spoly{T}} where T<:RingElem)\n   @ Singular ~/.julia/packages/Singular/sh9V0/src/poly/poly.jl:432\n  monomials(!Matched::AbstractAlgebra.Generic.LaurentMPolyWrap)\n   @ AbstractAlgebra ~/.julia/packages/AbstractAlgebra/WNQoR/src/generic/LaurentMPoly.jl:476\n  ...\n",
     "output_type": "error",
     "traceback": [
      "MethodError: no method matching monomials(::QQMPolyRing, ::Int64)\n",
      "The function `monomials` exists, but no method is defined for this combination of argument types.\n",
      "\n",
      "Closest candidates are:\n",
      "  monomials(!Matched::PBWAlgElem)\n",
      "   @ Oscar ~/.julia/packages/Oscar/Z2pwW/src/Rings/PBWAlgebra.jl:174\n",
      "  monomials(!Matched::Union{Singular.slpalg{T}, Singular.spluralg{T}, Singular.spoly{T}} where T<:RingElem)\n",
      "   @ Singular ~/.julia/packages/Singular/sh9V0/src/poly/poly.jl:432\n",
      "  monomials(!Matched::AbstractAlgebra.Generic.LaurentMPolyWrap)\n",
      "   @ AbstractAlgebra ~/.julia/packages/AbstractAlgebra/WNQoR/src/generic/LaurentMPoly.jl:476\n",
      "  ...\n",
      "\n",
      "\n",
      "Stacktrace:\n",
      " [1] monomials(::QQMPolyRing, ::Int64)\n",
      "   @ Oscar ~/.julia/packages/Oscar/Z2pwW/src/fallbacks.jl:7\n",
      " [2] top-level scope\n",
      "   @ ~/Desktop/git-repos/AK-Laboratoria/jl_notebook_cell_df34fa98e69747e1a8f8a730347b8e2f_Y133sZmlsZQ==.jl:4"
     ]
    }
   ],
   "source": [
    "R, (x,y) = QQ[:x, :y]\n",
    "grade(R)\n",
    "I =  ideal(R,[x,y])\n",
    "monomials(R,1)"
   ]
  },
  {
   "cell_type": "code",
   "execution_count": null,
   "id": "45a0acb7",
   "metadata": {},
   "outputs": [],
   "source": []
  }
 ],
 "metadata": {
  "kernelspec": {
   "display_name": "Julia 1.11.5",
   "language": "julia",
   "name": "julia-1.11"
  },
  "language_info": {
   "file_extension": ".jl",
   "mimetype": "application/julia",
   "name": "julia",
   "version": "1.11.5"
  }
 },
 "nbformat": 4,
 "nbformat_minor": 5
}
