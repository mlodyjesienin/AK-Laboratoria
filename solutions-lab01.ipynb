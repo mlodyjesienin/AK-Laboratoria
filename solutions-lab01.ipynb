{
 "cells": [
  {
   "cell_type": "code",
   "execution_count": 4,
   "id": "3264a6ee",
   "metadata": {},
   "outputs": [
    {
     "name": "stderr",
     "output_type": "stream",
     "text": [
      "\u001b[32m\u001b[1m  Activating\u001b[22m\u001b[39m project at `~/Desktop/git-repos/AK-Laboratoria`\n"
     ]
    },
    {
     "name": "stdout",
     "output_type": "stream",
     "text": [
      "\u001b[32m\u001b[1mStatus\u001b[22m\u001b[39m `~/Desktop/git-repos/AK-Laboratoria/Project.toml`\n",
      "  \u001b[90m[7073ff75] \u001b[39mIJulia v1.27.0\n",
      "  \u001b[90m[f1435218] \u001b[39mOscar v1.3.1\n"
     ]
    }
   ],
   "source": [
    "using Pkg\n",
    "Pkg.activate(\".\")\n",
    "Pkg.status()\n"
   ]
  },
  {
   "cell_type": "code",
   "execution_count": 5,
   "id": "da006042",
   "metadata": {},
   "outputs": [],
   "source": [
    "using Oscar"
   ]
  },
  {
   "cell_type": "code",
   "execution_count": 10,
   "id": "d238b2da",
   "metadata": {},
   "outputs": [
    {
     "data": {
      "text/plain": [
       "(Multivariate polynomial ring in 3 variables over ZZ, ZZMPolyRingElem[x, y, z])"
      ]
     },
     "metadata": {},
     "output_type": "display_data"
    }
   ],
   "source": [
    "R, (x, y, z) = polynomial_ring(ZZ, [:x, :y, :z])"
   ]
  },
  {
   "cell_type": "code",
   "execution_count": 12,
   "id": "aaa141f4",
   "metadata": {},
   "outputs": [
    {
     "data": {
      "text/plain": [
       "Prime field of characteristic 7"
      ]
     },
     "metadata": {},
     "output_type": "display_data"
    }
   ],
   "source": [
    "F = GF(7)"
   ]
  },
  {
   "cell_type": "code",
   "execution_count": 13,
   "id": "1054337b",
   "metadata": {},
   "outputs": [
    {
     "data": {
      "text/html": [
       "4"
      ],
      "text/latex": [
       "4"
      ],
      "text/plain": [
       "4"
      ]
     },
     "metadata": {},
     "output_type": "display_data"
    }
   ],
   "source": [
    "F(4)"
   ]
  },
  {
   "cell_type": "code",
   "execution_count": null,
   "id": "1f1858c0",
   "metadata": {},
   "outputs": [
    {
     "ename": "Base.Meta.ParseError",
     "evalue": "ParseError:\n# Error @ /home/mlodyjesienin/Desktop/git-repos/AK-Laboratoria/jl_notebook_cell_df34fa98e69747e1a8f8a730347b8e2f_X10sZmlsZQ==.jl:1:1\n?oscar\n╙ ── not a unary operator",
     "output_type": "error",
     "traceback": [
      "ParseError:\n",
      "# Error @ /home/mlodyjesienin/Desktop/git-repos/AK-Laboratoria/jl_notebook_cell_df34fa98e69747e1a8f8a730347b8e2f_X10sZmlsZQ==.jl:1:1\n",
      "?oscar\n",
      "╙ ── not a unary operator\n",
      "\n",
      "Stacktrace:\n",
      " [1] top-level scope\n",
      "   @ ~/Desktop/git-repos/AK-Laboratoria/jl_notebook_cell_df34fa98e69747e1a8f8a730347b8e2f_X10sZmlsZQ==.jl:1"
     ]
    }
   ],
   "source": []
  },
  {
   "cell_type": "code",
   "execution_count": 47,
   "id": "5c8ed247",
   "metadata": {},
   "outputs": [
    {
     "data": {
      "text/plain": [
       "EEA (generic function with 1 method)"
      ]
     },
     "metadata": {},
     "output_type": "display_data"
    }
   ],
   "source": [
    "function EEA(a,b)\n",
    "    Ring = parent(a)\n",
    "    r0,r1,s0,s1,t0,t1 = a, b, one(Ring), zero(Ring), zero(Ring), one(Ring)\n",
    "    while r1 != 0\n",
    "        q = div(r0, r1)\n",
    "        r0, r1 = r1, rem(r0, r1)\n",
    "        s0, s1 = s1, s0 - q * s1\n",
    "        t0, t1 = t1, t0 - q * t1\n",
    "    end\n",
    "    return r0, s0, t0\n",
    "end\n"
   ]
  },
  {
   "cell_type": "code",
   "execution_count": 48,
   "id": "d853d3f3",
   "metadata": {},
   "outputs": [
    {
     "data": {
      "text/plain": [
       "(1, 1//2*x + 1, -1//2*x)"
      ]
     },
     "metadata": {},
     "output_type": "display_data"
    }
   ],
   "source": [
    "R,x = QQ[:x]\n",
    "f = x^2 + 1\n",
    "g = x^2 + 2*x + 1\n",
    "EEA(f, g)"
   ]
  },
  {
   "cell_type": "code",
   "execution_count": 49,
   "id": "70fc2991",
   "metadata": {},
   "outputs": [
    {
     "data": {
      "text/plain": [
       "(1, -2, 5)"
      ]
     },
     "metadata": {},
     "output_type": "display_data"
    }
   ],
   "source": [
    "EEA(17,7)"
   ]
  },
  {
   "cell_type": "code",
   "execution_count": 28,
   "id": "97d78f69",
   "metadata": {},
   "outputs": [
    {
     "data": {
      "text/plain": [
       "extended_gcd (generic function with 1 method)"
      ]
     },
     "metadata": {},
     "output_type": "display_data"
    }
   ],
   "source": [
    "\n",
    "function extended_gcd(a, b)\n",
    "    old_r, r = a, b\n",
    "    old_s, s = one(a), zero(a)\n",
    "    old_t, t = zero(a), one(a)\n",
    "\n",
    "    while !iszero(r)\n",
    "        quotient = div(old_r, r)\n",
    "        old_r, r = r, old_r - quotient * r\n",
    "        old_s, s = s, old_s - quotient * s\n",
    "        old_t, t = t, old_t - quotient * t\n",
    "    end\n",
    "\n",
    "    u = canonical_unit(old_r)\n",
    "    gcd_canonical = divexact(old_r, u)\n",
    "    s_canonical = divexact(old_s, u)\n",
    "    t_canonical = divexact(old_t, u)\n",
    "\n",
    "    return gcd_canonical, s_canonical, t_canonical\n",
    "end"
   ]
  },
  {
   "cell_type": "code",
   "execution_count": 29,
   "id": "016a8384",
   "metadata": {},
   "outputs": [
    {
     "name": "stdout",
     "output_type": "stream",
     "text": [
      "GCD: 4\n",
      "Coefficients: 1, -1\n"
     ]
    }
   ],
   "source": [
    "a = 12\n",
    "b = 8\n",
    "g, s, t = extended_gcd(a, b)\n",
    "println(\"GCD: \", g)  # 4\n",
    "println(\"Coefficients: \", s, \", \", t)  # 1, -1"
   ]
  },
  {
   "cell_type": "code",
   "execution_count": 30,
   "id": "50ebb603",
   "metadata": {},
   "outputs": [
    {
     "name": "stdout",
     "output_type": "stream",
     "text": [
      "GCD: x - 1\n",
      "Coefficients: 0, 1\n"
     ]
    }
   ],
   "source": [
    "Qx, x = QQ[\"x\"]\n",
    "a = x^2 - 1\n",
    "b = x - 1\n",
    "g, s, t = extended_gcd(a, b)\n",
    "println(\"GCD: \", g)  # x - 1\n",
    "println(\"Coefficients: \", s, \", \", t)  # 0, 1"
   ]
  },
  {
   "cell_type": "code",
   "execution_count": 31,
   "id": "b11478a9",
   "metadata": {},
   "outputs": [
    {
     "data": {
      "text/html": [
       "1"
      ],
      "text/latex": [
       "1"
      ],
      "text/plain": [
       "1"
      ]
     },
     "metadata": {},
     "output_type": "display_data"
    }
   ],
   "source": [
    "one(QQ)"
   ]
  },
  {
   "cell_type": "code",
   "execution_count": 32,
   "id": "f7c978bb",
   "metadata": {},
   "outputs": [
    {
     "data": {
      "text/html": [
       "x^2 + 1"
      ],
      "text/latex": [
       "x^{2} + 1"
      ],
      "text/plain": [
       "x^2 + 1"
      ]
     },
     "metadata": {},
     "output_type": "display_data"
    }
   ],
   "source": [
    "f = x^2 + 1"
   ]
  },
  {
   "cell_type": "code",
   "execution_count": 42,
   "id": "b1f7fe43",
   "metadata": {},
   "outputs": [
    {
     "data": {
      "text/html": [
       "0"
      ],
      "text/latex": [
       "0"
      ],
      "text/plain": [
       "0"
      ]
     },
     "metadata": {},
     "output_type": "display_data"
    }
   ],
   "source": [
    "R = parent(f)\n",
    "zero(R)"
   ]
  },
  {
   "cell_type": "code",
   "execution_count": null,
   "id": "a5d18cb6",
   "metadata": {},
   "outputs": [
    {
     "data": {
      "text/html": [
       "# 9 methods for callable object:<ul><li> (p::<b>QQPolyRingElem</b>)(f::<b>FinGenAbGroupHom</b>) in Hecke at <a href=\"file:///home/mlodyjesienin/.julia/packages/Hecke/fZhGW/src/GrpAb/Map.jl\" target=\"_blank\">/home/mlodyjesienin/.julia/packages/Hecke/fZhGW/src/GrpAb/Map.jl:557</a></li> <li> (p::<b>QQPolyRingElem</b>)(f::<b>TorQuadModuleMap</b>) in Hecke at <a href=\"file:///home/mlodyjesienin/.julia/packages/Hecke/fZhGW/src/QuadForm/Torsion.jl\" target=\"_blank\">/home/mlodyjesienin/.julia/packages/Hecke/fZhGW/src/QuadForm/Torsion.jl:1030</a></li> <li> (f::<b>QQPolyRingElem</b>)(a::<b>QQFieldElem</b>) in Nemo at <a href=\"file:///home/mlodyjesienin/.julia/packages/Nemo/Dukvj/src/flint/fmpq_poly.jl\" target=\"_blank\">/home/mlodyjesienin/.julia/packages/Nemo/Dukvj/src/flint/fmpq_poly.jl:848</a></li> <li> (f::<b>QQPolyRingElem</b>)(a::<b>Rational</b>) in Nemo at <a href=\"file:///home/mlodyjesienin/.julia/packages/Nemo/Dukvj/src/flint/fmpq_poly.jl\" target=\"_blank\">/home/mlodyjesienin/.julia/packages/Nemo/Dukvj/src/flint/fmpq_poly.jl:850</a></li> <li> (f::<b>PolyRingElem</b>)(a::<b>PolyRingElem</b>) in AbstractAlgebra at <a href=\"file:///home/mlodyjesienin/.julia/packages/AbstractAlgebra/WNQoR/src/Poly.jl\" target=\"_blank\">/home/mlodyjesienin/.julia/packages/AbstractAlgebra/WNQoR/src/Poly.jl:3515</a></li> <li> (f::<b>PolyRingElem</b>)(a::<b>Integer</b>) in AbstractAlgebra at <a href=\"file:///home/mlodyjesienin/.julia/packages/AbstractAlgebra/WNQoR/src/Poly.jl\" target=\"_blank\">/home/mlodyjesienin/.julia/packages/AbstractAlgebra/WNQoR/src/Poly.jl:3526</a></li> <li> (f::<b>PolyRingElem</b>)(a::<b>RingElem</b>) in AbstractAlgebra at <a href=\"file:///home/mlodyjesienin/.julia/packages/AbstractAlgebra/WNQoR/src/Poly.jl\" target=\"_blank\">/home/mlodyjesienin/.julia/packages/AbstractAlgebra/WNQoR/src/Poly.jl:3528</a></li> <li> (f::<b>PolyRingElem{T}</b>)(a::<b>T</b>)<i> where T</i> in AbstractAlgebra at <a href=\"file:///home/mlodyjesienin/.julia/packages/AbstractAlgebra/WNQoR/src/Poly.jl\" target=\"_blank\">/home/mlodyjesienin/.julia/packages/AbstractAlgebra/WNQoR/src/Poly.jl:3521</a></li> <li> (f::<b>PolyRingElem</b>)(a) in AbstractAlgebra at <a href=\"file:///home/mlodyjesienin/.julia/packages/AbstractAlgebra/WNQoR/src/Poly.jl\" target=\"_blank\">/home/mlodyjesienin/.julia/packages/AbstractAlgebra/WNQoR/src/Poly.jl:3513</a></li> </ul>"
      ],
      "text/plain": [
       "# 9 methods for callable object:\n",
       " [1] (p::QQPolyRingElem)(\u001b[90mf\u001b[39m::\u001b[1mFinGenAbGroupHom\u001b[22m)\n",
       "\u001b[90m     @\u001b[39m \u001b[32mHecke\u001b[39m \u001b[90m~/.julia/packages/Hecke/fZhGW/src/GrpAb/\u001b[39m\u001b[90m\u001b[4mMap.jl:557\u001b[24m\u001b[39m\n",
       " [2] (p::QQPolyRingElem)(\u001b[90mf\u001b[39m::\u001b[1mTorQuadModuleMap\u001b[22m)\n",
       "\u001b[90m     @\u001b[39m \u001b[32mHecke\u001b[39m \u001b[90m~/.julia/packages/Hecke/fZhGW/src/QuadForm/\u001b[39m\u001b[90m\u001b[4mTorsion.jl:1030\u001b[24m\u001b[39m\n",
       " [3] (f::QQPolyRingElem)(\u001b[90ma\u001b[39m::\u001b[1mQQFieldElem\u001b[22m)\n",
       "\u001b[90m     @\u001b[39m \u001b[90m~/.julia/packages/Nemo/Dukvj/src/flint/\u001b[39m\u001b[90m\u001b[4mfmpq_poly.jl:848\u001b[24m\u001b[39m\n",
       " [4] (f::QQPolyRingElem)(\u001b[90ma\u001b[39m::\u001b[1mRational\u001b[22m)\n",
       "\u001b[90m     @\u001b[39m \u001b[90m~/.julia/packages/Nemo/Dukvj/src/flint/\u001b[39m\u001b[90m\u001b[4mfmpq_poly.jl:850\u001b[24m\u001b[39m\n",
       " [5] (f::PolyRingElem)(\u001b[90ma\u001b[39m::\u001b[1mPolyRingElem\u001b[22m)\n",
       "\u001b[90m     @\u001b[39m \u001b[90m~/.julia/packages/AbstractAlgebra/WNQoR/src/\u001b[39m\u001b[90m\u001b[4mPoly.jl:3515\u001b[24m\u001b[39m\n",
       " [6] (f::PolyRingElem)(\u001b[90ma\u001b[39m::\u001b[1mInteger\u001b[22m)\n",
       "\u001b[90m     @\u001b[39m \u001b[90m~/.julia/packages/AbstractAlgebra/WNQoR/src/\u001b[39m\u001b[90m\u001b[4mPoly.jl:3526\u001b[24m\u001b[39m\n",
       " [7] (f::PolyRingElem)(\u001b[90ma\u001b[39m::\u001b[1mRingElem\u001b[22m)\n",
       "\u001b[90m     @\u001b[39m \u001b[90m~/.julia/packages/AbstractAlgebra/WNQoR/src/\u001b[39m\u001b[90m\u001b[4mPoly.jl:3528\u001b[24m\u001b[39m\n",
       " [8] (f::PolyRingElem{T})(\u001b[90ma\u001b[39m::\u001b[1mT\u001b[22m) where T\n",
       "\u001b[90m     @\u001b[39m \u001b[90m~/.julia/packages/AbstractAlgebra/WNQoR/src/\u001b[39m\u001b[90m\u001b[4mPoly.jl:3521\u001b[24m\u001b[39m\n",
       " [9] (f::PolyRingElem)(\u001b[90ma\u001b[39m)\n",
       "\u001b[90m     @\u001b[39m \u001b[90m~/.julia/packages/AbstractAlgebra/WNQoR/src/\u001b[39m\u001b[90m\u001b[4mPoly.jl:3513\u001b[24m\u001b[39m"
      ]
     },
     "metadata": {},
     "output_type": "display_data"
    }
   ],
   "source": []
  },
  {
   "cell_type": "code",
   "execution_count": 115,
   "id": "0b0c4ed9",
   "metadata": {},
   "outputs": [
    {
     "data": {
      "text/plain": [
       "lieOnConic (generic function with 1 method)"
      ]
     },
     "metadata": {},
     "output_type": "display_data"
    }
   ],
   "source": [
    "function lieOnConic(points)\n",
    "    R,(x,y) = polynomial_ring(QQ,[\"x\",\"y\"])\n",
    "    ideal_points = []\n",
    "    for point in points\n",
    "        x_val, y_val = point\n",
    "        push!(ideal_points, ideal(R,[x - x_val, y - y_val]))\n",
    "    end\n",
    "    ideal_lines = []\n",
    "    for i in 1:length(points) -1\n",
    "        push!(ideal_lines,ideal(R,intersect(ideal_points[i], ideal_points[i+1])[1]))\n",
    "    end\n",
    "    push!(ideal_lines, ideal(R,intersect(ideal_points[end], ideal_points[1])[1]))\n",
    "    G = ideal_lines[1] + ideal_lines[4]\n",
    "    H = ideal_lines[2] + ideal_lines[5]\n",
    "    I = ideal_lines[3] + ideal_lines[6]\n",
    "    final = intersect(G, H, I)\n",
    "    println(\"The conic is: \", final)\n",
    "end"
   ]
  },
  {
   "cell_type": "code",
   "execution_count": null,
   "id": "103de35b",
   "metadata": {},
   "outputs": [
    {
     "data": {
      "text/plain": [
       "(var\"#19#20\"(), 1)"
      ]
     },
     "metadata": {},
     "output_type": "display_data"
    }
   ],
   "source": [
    "ϕ = t -> t, t^2 "
   ]
  },
  {
   "cell_type": "code",
   "execution_count": 112,
   "id": "06c24f02",
   "metadata": {},
   "outputs": [],
   "source": [
    "ideal_points = []\n",
    "for point in points\n",
    "    x_val, y_val = point\n",
    "    push!(ideal_points, ideal(R,[x - x_val, y - y_val]))\n",
    "end\n",
    "ideal_lines = []\n",
    "for i in 1:length(points) -1\n",
    "    push!(ideal_lines, ideal(R,intersect(ideal_points[i], ideal_points[i+1])[1]))\n",
    "end\n"
   ]
  },
  {
   "cell_type": "code",
   "execution_count": null,
   "id": "f4b7b1d3",
   "metadata": {},
   "outputs": [
    {
     "data": {
      "text/plain": [
       "Gröbner basis with elements\n",
       "  1: 2*y - 3\n",
       "  2: 5*x - y - 6\n",
       "with respect to the ordering\n",
       "  degrevlex([x, y])"
      ]
     },
     "metadata": {},
     "output_type": "display_data"
    }
   ],
   "source": [
    "\n",
    "I = ideal(R,[x - points[1][1], y - points[1][2]])\n",
    "J = ideal(R,[x - points[2][1], y - points[2][2]])\n",
    "K = ideal(R,[x - points[3][1], y - points[3][2]])\n",
    "L = ideal(R,[x - points[4][1], y - points[4][2]])\n",
    "line = ideal(intersect(I,J)[1])\n",
    "line2 = ideal(intersect(K,L)[1])\n",
    "groebner_basis(line + line2)\n"
   ]
  },
  {
   "cell_type": "code",
   "execution_count": 125,
   "id": "58e9421f",
   "metadata": {},
   "outputs": [
    {
     "data": {
      "text/plain": [
       "Ideal generated by\n",
       "  x^2 - y\n",
       "  15*x*y^2 + 225*x*y + 120*x - y^3 - 85*y^2 - 274*y\n",
       "  x^2*y + 11*x^2 - y^2 - 11*y\n",
       "  -11760*x*y - 8400*x + y^4 - 70*y^3 + 2849*y^2 + 17380*y"
      ]
     },
     "metadata": {},
     "output_type": "display_data"
    }
   ],
   "source": [
    "points = [ϕ(0), ϕ(1), ϕ(2), ϕ(3), ϕ(4), ϕ(5)]\n",
    "R, (x, y) = polynomial_ring(QQ, [:x, :y])\n",
    "ideal_points = []\n",
    "for point in points\n",
    "        x_val, y_val = point\n",
    "        push!(ideal_points, ideal(R,[x - x_val, y - y_val]))\n",
    "    end\n",
    "ideal_points\n",
    "intersect(ideal_points[1], ideal_points[2], ideal_points[3], ideal_points[4], ideal_points[5], ideal_points[6])"
   ]
  },
  {
   "cell_type": "code",
   "execution_count": 117,
   "id": "3384a0ce",
   "metadata": {},
   "outputs": [
    {
     "name": "stdout",
     "output_type": "stream",
     "text": [
      "The conic is: Ideal (5*x - y - 8, y^2 - 9*y + 14)\n"
     ]
    },
    {
     "ename": "MethodError",
     "evalue": "MethodError: no method matching (::QQMPolyRing)(::Tuple{QQFieldElem, QQFieldElem})\nThe object of type `QQMPolyRing` exists, but no method is defined for this combination of argument types when trying to treat it as a callable object.\n\nClosest candidates are:\n  (::QQMPolyRing)()\n   @ Nemo ~/.julia/packages/Nemo/Dukvj/src/flint/fmpq_mpoly.jl:1016\n  (::QQMPolyRing)(!Matched::QQMPolyRingElem)\n   @ Nemo ~/.julia/packages/Nemo/Dukvj/src/flint/fmpq_mpoly.jl:1028\n  (::QQMPolyRing)(!Matched::Vector{QQFieldElem}, !Matched::Vector{Vector{Int64}})\n   @ Nemo ~/.julia/packages/Nemo/Dukvj/src/flint/fmpq_mpoly.jl:1046\n  ...\n",
     "output_type": "error",
     "traceback": [
      "MethodError: no method matching (::QQMPolyRing)(::Tuple{QQFieldElem, QQFieldElem})\n",
      "The object of type `QQMPolyRing` exists, but no method is defined for this combination of argument types when trying to treat it as a callable object.\n",
      "\n",
      "Closest candidates are:\n",
      "  (::QQMPolyRing)()\n",
      "   @ Nemo ~/.julia/packages/Nemo/Dukvj/src/flint/fmpq_mpoly.jl:1016\n",
      "  (::QQMPolyRing)(!Matched::QQMPolyRingElem)\n",
      "   @ Nemo ~/.julia/packages/Nemo/Dukvj/src/flint/fmpq_mpoly.jl:1028\n",
      "  (::QQMPolyRing)(!Matched::Vector{QQFieldElem}, !Matched::Vector{Vector{Int64}})\n",
      "   @ Nemo ~/.julia/packages/Nemo/Dukvj/src/flint/fmpq_mpoly.jl:1046\n",
      "  ...\n",
      "\n",
      "\n",
      "Stacktrace:\n",
      " [1] ideal(R::QQMPolyRing, g::Vector{Tuple{QQFieldElem, QQFieldElem}})\n",
      "   @ Oscar ~/.julia/packages/Oscar/Z2pwW/src/Rings/mpoly-ideals.jl:37\n",
      " [2] top-level scope\n",
      "   @ ~/Desktop/git-repos/AK-Laboratoria/jl_notebook_cell_df34fa98e69747e1a8f8a730347b8e2f_X25sZmlsZQ==.jl:2"
     ]
    }
   ],
   "source": [
    "lieOnConic(points)\n",
    "ideal(R,points)"
   ]
  },
  {
   "cell_type": "code",
   "execution_count": null,
   "id": "b65376cf",
   "metadata": {},
   "outputs": [],
   "source": []
  }
 ],
 "metadata": {
  "kernelspec": {
   "display_name": "Julia 1.11.5",
   "language": "julia",
   "name": "julia-1.11"
  },
  "language_info": {
   "file_extension": ".jl",
   "mimetype": "application/julia",
   "name": "julia",
   "version": "1.11.5"
  }
 },
 "nbformat": 4,
 "nbformat_minor": 5
}
